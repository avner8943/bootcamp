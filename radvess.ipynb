{
  "nbformat": 4,
  "nbformat_minor": 0,
  "metadata": {
    "colab": {
      "name": "scratchpad",
      "provenance": [],
      "include_colab_link": true
    },
    "kernelspec": {
      "display_name": "Python 3",
      "name": "python3"
    }
  },
  "cells": [
    {
      "cell_type": "markdown",
      "metadata": {
        "id": "view-in-github",
        "colab_type": "text"
      },
      "source": [
        "<a href=\"https://colab.research.google.com/github/avner8943/bootcamp/blob/master/radvess.ipynb\" target=\"_parent\"><img src=\"https://colab.research.google.com/assets/colab-badge.svg\" alt=\"Open In Colab\"/></a>"
      ]
    },
    {
      "cell_type": "code",
      "metadata": {
        "colab": {
          "base_uri": "https://localhost:8080/"
        },
        "id": "lIYdn1woOS1n",
        "outputId": "1d36b4cd-8933-4844-a624-e68cd4a7693a"
      },
      "source": [
        "from zipfile import ZipFile as zp\r\n",
        "import cv2\r\n",
        "import os\r\n",
        "import numpy as np\r\n",
        "import shutil\r\n",
        "\r\n",
        "for zip_f in glob('*.zip'):\r\n",
        "\r\n",
        "    actor_dir = zip_f[:-4]\r\n",
        "\r\n",
        "    if os.path.isdir(actor_dir):\r\n",
        "      shutil.rmtree(actor_dir)\r\n",
        "\r\n",
        "    os.mkdir(actor_dir)\r\n",
        "\r\n",
        "    with zp('/content/'+zip_f) as myzip:\r\n",
        "\r\n",
        "      n_vids = 1\r\n",
        "\r\n",
        "      for f in myzip.infolist():\r\n",
        "        \r\n",
        "        vid_dir = actor_dir + '/vid_' +str(n_vids)\r\n",
        "\r\n",
        "        print(vid_dir)\r\n",
        "\r\n",
        "        os.mkdir(vid_dir )\r\n",
        "\r\n",
        "\r\n",
        "        ifile = myzip.extract(f)\r\n",
        "        \r\n",
        "        vidcap = cv2.VideoCapture(ifile)\r\n",
        "        \r\n",
        "        fps = vidcap.get(cv2.CAP_PROP_FPS)\r\n",
        "\r\n",
        "        step = np.round(fps/16)\r\n",
        "\r\n",
        "        success,image = vidcap.read()\r\n",
        "        count = 0\r\n",
        "        while success:\r\n",
        "          if count % step == 0:\r\n",
        "              \r\n",
        "              cv2.imwrite(vid_dir + \"/frame_{d}.jpg\".format(d = count), image)     # save frame as JPEG file      \r\n",
        "          success,image = vidcap.read()\r\n",
        "          count += 1\r\n",
        "        os.remove(ifile)\r\n",
        "        n_vids += 1"
      ],
      "execution_count": 49,
      "outputs": [
        {
          "output_type": "stream",
          "text": [
            "Actor_01/vid_1\n",
            "Actor_01/vid_2\n",
            "Actor_01/vid_3\n"
          ],
          "name": "stdout"
        }
      ]
    },
    {
      "cell_type": "code",
      "metadata": {
        "id": "Xac2yv81tUV-"
      },
      "source": [
        "import shutil\r\n",
        "for f in glob('*.jpg'):\r\n",
        "\r\n",
        "  os.remove(f)"
      ],
      "execution_count": 48,
      "outputs": []
    }
  ]
}