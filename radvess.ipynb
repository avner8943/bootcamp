{
  "nbformat": 4,
  "nbformat_minor": 0,
  "metadata": {
    "colab": {
      "name": "scratchpad",
      "provenance": [],
      "include_colab_link": true
    },
    "kernelspec": {
      "display_name": "Python 3",
      "name": "python3"
    },
    "accelerator": "GPU"
  },
  "cells": [
    {
      "cell_type": "markdown",
      "metadata": {
        "id": "view-in-github",
        "colab_type": "text"
      },
      "source": [
        "<a href=\"https://colab.research.google.com/github/avner8943/bootcamp/blob/master/radvess.ipynb\" target=\"_parent\"><img src=\"https://colab.research.google.com/assets/colab-badge.svg\" alt=\"Open In Colab\"/></a>"
      ]
    },
    {
      "cell_type": "code",
      "metadata": {
        "id": "lIYdn1woOS1n",
        "colab": {
          "base_uri": "https://localhost:8080/",
          "height": 454
        },
        "outputId": "f902af73-4c75-4c56-ee5a-03f5c9e93306"
      },
      "source": [
        "from zipfile import ZipFile as zp\r\n",
        "import cv2\r\n",
        "import os\r\n",
        "import numpy as np\r\n",
        "import shutil\r\n",
        "from glob import glob\r\n",
        "import pickle\r\n",
        "from tqdm import tqdm\r\n",
        "from skimage.io import imread_collection\r\n",
        "from sklearn.preprocessing import OneHotEncoder\r\n",
        "from sklearn.preprocessing import LabelEncoder\r\n",
        "\r\n",
        "face_cascade = cv2.CascadeClassifier(cv2.data.haarcascades + 'haarcascade_frontalface_default.xml')\r\n",
        "\r\n",
        "def save_face(im, count,vid_dir):\r\n",
        "\r\n",
        "  gray = cv2.cvtColor(im, cv2.COLOR_BGR2GRAY)\r\n",
        "\r\n",
        "  faces = face_cascade.detectMultiScale(gray, 1.1, 4)\r\n",
        "\r\n",
        "  x,y,w,h = faces[0]\r\n",
        "\r\n",
        "  face_crop = gray[y:y+h,x:x+w]\r\n",
        "\r\n",
        "  face_crop = cv2.resize(face_crop, (64,64), interpolation = cv2.INTER_AREA)\r\n",
        "\r\n",
        "  cv2.imwrite(vid_dir + \"/frame_{d}.jpg\".format(d = count), face_crop)\r\n",
        "\r\n",
        "\r\n",
        "####################################\r\n",
        "\r\n",
        "\r\n",
        "def load_data(save_pickle = 1):\r\n",
        "\r\n",
        "  zip_files = glob('/content/drive/MyDrive/*.zip')\r\n",
        "\r\n",
        "  n_zip = 0\r\n",
        "\r\n",
        "  for zip_f in zip_files:\r\n",
        "\r\n",
        "      n_zip += 1\r\n",
        "\r\n",
        "      actor_dir = zip_f[:-4].split('/')[-1]\r\n",
        "\r\n",
        "      if os.path.isdir(actor_dir):\r\n",
        "        shutil.rmtree(actor_dir)\r\n",
        "\r\n",
        "      print(actor_dir)\r\n",
        "      os.mkdir(actor_dir)\r\n",
        "\r\n",
        "      with zp(zip_f) as myzip:\r\n",
        "\r\n",
        "        print(myzip.filename)\r\n",
        "        \r\n",
        "        vids = myzip.infolist()[1:]\r\n",
        "\r\n",
        "        n_vid = 0\r\n",
        "        for f in vids:\r\n",
        "\r\n",
        "          n_vid += 1\r\n",
        "\r\n",
        "          print(f)\r\n",
        "          \r\n",
        "          #vid_dir = os.path.join( actor_dir, f.filename[:-4])\r\n",
        "\r\n",
        "          vid_dir =  os.path.join(actor_dir,f.filename[:-4].split('/')[1])\r\n",
        "\r\n",
        "          os.mkdir( vid_dir) \r\n",
        "\r\n",
        "          ifile = myzip.extract(f)\r\n",
        "          \r\n",
        "          vidcap = cv2.VideoCapture(ifile)\r\n",
        "             \r\n",
        "          n_frames = np.floor((vidcap.get(cv2.CAP_PROP_FRAME_COUNT))).astype(np.int)\r\n",
        "\r\n",
        "          frames_list = list(np.linspace(0,n_frames,60, dtype=np.int))\r\n",
        "\r\n",
        "\r\n",
        "          success,image = vidcap.read()\r\n",
        "          count = 0\r\n",
        "          while success:\r\n",
        "            if count in frames_list:\r\n",
        "                \r\n",
        "                save_face(image, count,vid_dir)\r\n",
        "\r\n",
        "                if count % 10 == 0:\r\n",
        "\r\n",
        "                  print(\"zip: \", n_zip, '/',len(zip_files), \", vid: \", n_vid,'/',len(myzip.infolist()[1:]), \", frame: \" , count, '/', n_frames)\r\n",
        "                     \r\n",
        "            success,image = vidcap.read()\r\n",
        "            count += 1\r\n",
        "          os.remove(ifile)\r\n",
        "  \r\n",
        "  \r\n",
        "  if save_pickle == 1:\r\n",
        "    print(\"picle start\")\r\n",
        "    images2pickle()\r\n",
        "\r\n",
        "##############################################\r\n",
        "\r\n",
        "def images2pickle(path=None):\r\n",
        "\r\n",
        "  print(\"for real\")\r\n",
        "\r\n",
        "  dirs = glob(\"/content/*/\")\r\n",
        "\r\n",
        "  x = []\r\n",
        "  y = []\r\n",
        "\r\n",
        "  for dir in dirs:\r\n",
        "    if dir.find('Actor') == -1: continue\r\n",
        "\r\n",
        "    sub_dirs = glob(os.path.join(dir,'*/'))\r\n",
        "\r\n",
        "    for sub_dir in sub_dirs:\r\n",
        "\r\n",
        "      images = np.array(imread_collection(os.path.join(sub_dir, '*.jpg')))\r\n",
        "\r\n",
        "      x.append(images)\r\n",
        "\r\n",
        "      tag = sub_dir.split('/')[3][7]\r\n",
        "\r\n",
        "      y.append(tag)\r\n",
        "\r\n",
        "\r\n",
        "\r\n",
        "  x = np.array(x)\r\n",
        "\r\n",
        "  y = np.array(y, dtype='int32')\r\n",
        "\r\n",
        "  onehot_encoder = OneHotEncoder(sparse=False)\r\n",
        "  integer_encoded = y.reshape(y.shape[0], 1)\r\n",
        "  y = onehot_encoder.fit_transform(integer_encoded)\r\n",
        "\r\n",
        "\r\n",
        "  z = input(\" weight for user to press enter...\")\r\n",
        "\r\n",
        "  with open('radvess_data_for_train.pickle', 'wb') as output:\r\n",
        "    pickle.dump(x, output)\r\n",
        "\r\n",
        "  with open('radvess_tags_for_train.pickle', 'wb') as output:\r\n",
        "    pickle.dump(y, output)\r\n",
        "\r\n",
        "\r\n",
        "####################################################\r\n",
        "\r\n",
        "def load_pickle(path):\r\n",
        "\r\n",
        "  with open(path, 'rb') as data:\r\n",
        "    return pickle.load(data)\r\n",
        "\r\n",
        "\r\n",
        "load_data()"
      ],
      "execution_count": 23,
      "outputs": [
        {
          "output_type": "stream",
          "text": [
            "Video_Speech_Actor_03\n",
            "/content/drive/MyDrive/Video_Speech_Actor_03.zip\n",
            "<ZipInfo filename='Actor_03/01-01-01-01-01-02-03.mp4' compress_type=deflate file_size=4492054 compress_size=4431053>\n",
            "zip:  1 / 23 , vid:  1 / 119 , frame:  0 / 105\n",
            "zip:  1 / 23 , vid:  1 / 119 , frame:  10 / 105\n",
            "zip:  1 / 23 , vid:  1 / 119 , frame:  30 / 105\n",
            "zip:  1 / 23 , vid:  1 / 119 , frame:  40 / 105\n"
          ],
          "name": "stdout"
        },
        {
          "output_type": "error",
          "ename": "KeyboardInterrupt",
          "evalue": "ignored",
          "traceback": [
            "\u001b[0;31m---------------------------------------------------------------------------\u001b[0m",
            "\u001b[0;31mKeyboardInterrupt\u001b[0m                         Traceback (most recent call last)",
            "\u001b[0;32m<ipython-input-23-71efe3f7bf63>\u001b[0m in \u001b[0;36m<module>\u001b[0;34m()\u001b[0m\n\u001b[1;32m    151\u001b[0m \u001b[0;34m\u001b[0m\u001b[0m\n\u001b[1;32m    152\u001b[0m \u001b[0;34m\u001b[0m\u001b[0m\n\u001b[0;32m--> 153\u001b[0;31m \u001b[0mload_data\u001b[0m\u001b[0;34m(\u001b[0m\u001b[0;34m)\u001b[0m\u001b[0;34m\u001b[0m\u001b[0;34m\u001b[0m\u001b[0m\n\u001b[0m",
            "\u001b[0;32m<ipython-input-23-71efe3f7bf63>\u001b[0m in \u001b[0;36mload_data\u001b[0;34m(save_pickle)\u001b[0m\n\u001b[1;32m     82\u001b[0m             \u001b[0;32mif\u001b[0m \u001b[0mcount\u001b[0m \u001b[0;32min\u001b[0m \u001b[0mframes_list\u001b[0m\u001b[0;34m:\u001b[0m\u001b[0;34m\u001b[0m\u001b[0;34m\u001b[0m\u001b[0m\n\u001b[1;32m     83\u001b[0m \u001b[0;34m\u001b[0m\u001b[0m\n\u001b[0;32m---> 84\u001b[0;31m                 \u001b[0msave_face\u001b[0m\u001b[0;34m(\u001b[0m\u001b[0mimage\u001b[0m\u001b[0;34m,\u001b[0m \u001b[0mcount\u001b[0m\u001b[0;34m,\u001b[0m\u001b[0mvid_dir\u001b[0m\u001b[0;34m)\u001b[0m\u001b[0;34m\u001b[0m\u001b[0;34m\u001b[0m\u001b[0m\n\u001b[0m\u001b[1;32m     85\u001b[0m \u001b[0;34m\u001b[0m\u001b[0m\n\u001b[1;32m     86\u001b[0m                 \u001b[0;32mif\u001b[0m \u001b[0mcount\u001b[0m \u001b[0;34m%\u001b[0m \u001b[0;36m10\u001b[0m \u001b[0;34m==\u001b[0m \u001b[0;36m0\u001b[0m\u001b[0;34m:\u001b[0m\u001b[0;34m\u001b[0m\u001b[0;34m\u001b[0m\u001b[0m\n",
            "\u001b[0;32m<ipython-input-23-71efe3f7bf63>\u001b[0m in \u001b[0;36msave_face\u001b[0;34m(im, count, vid_dir)\u001b[0m\n\u001b[1;32m     17\u001b[0m   \u001b[0mgray\u001b[0m \u001b[0;34m=\u001b[0m \u001b[0mcv2\u001b[0m\u001b[0;34m.\u001b[0m\u001b[0mcvtColor\u001b[0m\u001b[0;34m(\u001b[0m\u001b[0mim\u001b[0m\u001b[0;34m,\u001b[0m \u001b[0mcv2\u001b[0m\u001b[0;34m.\u001b[0m\u001b[0mCOLOR_BGR2GRAY\u001b[0m\u001b[0;34m)\u001b[0m\u001b[0;34m\u001b[0m\u001b[0;34m\u001b[0m\u001b[0m\n\u001b[1;32m     18\u001b[0m \u001b[0;34m\u001b[0m\u001b[0m\n\u001b[0;32m---> 19\u001b[0;31m   \u001b[0mfaces\u001b[0m \u001b[0;34m=\u001b[0m \u001b[0mface_cascade\u001b[0m\u001b[0;34m.\u001b[0m\u001b[0mdetectMultiScale\u001b[0m\u001b[0;34m(\u001b[0m\u001b[0mgray\u001b[0m\u001b[0;34m,\u001b[0m \u001b[0;36m1.1\u001b[0m\u001b[0;34m,\u001b[0m \u001b[0;36m4\u001b[0m\u001b[0;34m)\u001b[0m\u001b[0;34m\u001b[0m\u001b[0;34m\u001b[0m\u001b[0m\n\u001b[0m\u001b[1;32m     20\u001b[0m \u001b[0;34m\u001b[0m\u001b[0m\n\u001b[1;32m     21\u001b[0m   \u001b[0mx\u001b[0m\u001b[0;34m,\u001b[0m\u001b[0my\u001b[0m\u001b[0;34m,\u001b[0m\u001b[0mw\u001b[0m\u001b[0;34m,\u001b[0m\u001b[0mh\u001b[0m \u001b[0;34m=\u001b[0m \u001b[0mfaces\u001b[0m\u001b[0;34m[\u001b[0m\u001b[0;36m0\u001b[0m\u001b[0;34m]\u001b[0m\u001b[0;34m\u001b[0m\u001b[0;34m\u001b[0m\u001b[0m\n",
            "\u001b[0;31mKeyboardInterrupt\u001b[0m: "
          ]
        }
      ]
    },
    {
      "cell_type": "code",
      "metadata": {
        "colab": {
          "base_uri": "https://localhost:8080/",
          "height": 162
        },
        "id": "A7UpXuRndunp",
        "outputId": "6dc62655-e90b-42d0-f91a-c7e2adc314e0"
      },
      "source": [
        "f"
      ],
      "execution_count": 9,
      "outputs": [
        {
          "output_type": "error",
          "ename": "NameError",
          "evalue": "ignored",
          "traceback": [
            "\u001b[0;31m---------------------------------------------------------------------------\u001b[0m",
            "\u001b[0;31mNameError\u001b[0m                                 Traceback (most recent call last)",
            "\u001b[0;32m<ipython-input-9-a9fcd54b25e7>\u001b[0m in \u001b[0;36m<module>\u001b[0;34m()\u001b[0m\n\u001b[0;32m----> 1\u001b[0;31m \u001b[0mf\u001b[0m\u001b[0;34m\u001b[0m\u001b[0;34m\u001b[0m\u001b[0m\n\u001b[0m",
            "\u001b[0;31mNameError\u001b[0m: name 'f' is not defined"
          ]
        }
      ]
    },
    {
      "cell_type": "code",
      "metadata": {
        "id": "lggHoT4Z_c6W",
        "colab": {
          "base_uri": "https://localhost:8080/"
        },
        "outputId": "d70913cb-6127-4161-8fe4-fe2b660d7e83"
      },
      "source": [
        "#load_data()\r\n",
        "\r\n",
        "x = load_pickle('/content/radvess_data_for_train.pickle')\r\n",
        "\r\n",
        "y = load_pickle('/content/radvess_tags_for_train.pickle')\r\n",
        "\r\n",
        "print(x.shape)\r\n",
        "\r\n",
        "x = np.expand_dims(x, axis=4)\r\n",
        "\r\n",
        "print(x.shape)\r\n",
        "\r\n",
        "\r\n",
        "print(y.shape)\r\n"
      ],
      "execution_count": null,
      "outputs": [
        {
          "output_type": "stream",
          "text": [
            "(16, 59, 128, 128)\n",
            "(16, 59, 128, 128, 1)\n",
            "(16, 8)\n"
          ],
          "name": "stdout"
        }
      ]
    },
    {
      "cell_type": "code",
      "metadata": {
        "id": "g4pCMyj_zP7X"
      },
      "source": [
        "from tensorflow.keras.preprocessing.image import ImageDataGenerator\r\n",
        "from tensorflow.keras.layers import AveragePooling2D\r\n",
        "from tensorflow.keras.applications import ResNet50\r\n",
        "from tensorflow.keras.layers import Dropout\r\n",
        "from tensorflow.keras.layers import Flatten\r\n",
        "from tensorflow.keras.layers import Dense\r\n",
        "from tensorflow.keras.layers import Input\r\n",
        "from tensorflow.keras.models import Model\r\n",
        "from tensorflow.keras.optimizers import SGD\r\n",
        "from sklearn.preprocessing import LabelBinarizer\r\n",
        "from sklearn.model_selection import train_test_split\r\n",
        "from sklearn.metrics import classification_report\r\n",
        "from imutils import paths"
      ],
      "execution_count": null,
      "outputs": []
    },
    {
      "cell_type": "code",
      "metadata": {
        "id": "UZNYUbVs1o5N",
        "colab": {
          "base_uri": "https://localhost:8080/",
          "height": 353
        },
        "outputId": "9fd3ed93-2f86-4fcf-ff41-ae69f44ae568"
      },
      "source": [
        "from sklearn.model_selection import train_test_split\r\n",
        "from keras.preprocessing.image import ImageDataGenerator\r\n",
        "\r\n",
        "x = load_pickle('radvess_data_for_train.pickle')\r\n",
        "\r\n",
        "x = x.astype('float64')\r\n",
        "\r\n",
        "x = np.expand_dims(x,axis = 4)\r\n",
        "\r\n",
        "print(x.shape)\r\n",
        "\r\n",
        "y = load_pickle('radvess_tags_for_train.pickle')\r\n",
        "\r\n",
        "y = y.astype('float64')\r\n",
        "\r\n",
        "x_train, x_test, y_train, y_test = train_test_split( x, y, test_size=0.2, random_state=42)\r\n",
        "\r\n",
        "datagen = ImageDataGenerator(\r\n",
        "    featurewise_center=True,\r\n",
        "    featurewise_std_normalization=True,\r\n",
        "    )\r\n",
        "\r\n",
        "datagen.fit(x_train)\r\n",
        "\r\n",
        "\r\n",
        "\r\n",
        "\r\n",
        "\r\n",
        "# load the ResNet-50 network, ensuring the head FC layer sets are left\r\n",
        "# off\r\n",
        "baseModel = ResNet50(weights=\"imagenet\", include_top=False,\r\n",
        "\t        input_tensor=Input(shape=(128,128,59)))\r\n",
        "# construct the head of the model that will be placed on top of the\r\n",
        "# the base model\r\n",
        "headModel = baseModel.output\r\n",
        "headModel = AveragePooling2D(pool_size=(7, 7))(headModel)\r\n",
        "headModel = Flatten(name=\"flatten\")(headModel)\r\n",
        "headModel = Dense(512, activation=\"relu\")(headModel)\r\n",
        "headModel = Dropout(0.5)(headModel)\r\n",
        "headModel = Dense(len(lb.classes_), activation=\"softmax\")(headModel)\r\n",
        "# place the head FC model on top of the base model (this will become\r\n",
        "# the actual model we will train)\r\n",
        "model = Model(inputs=baseModel.input, outputs=headModel)\r\n",
        "# loop over all layers in the base model and freeze them so they will\r\n",
        "# *not* be updated during the training process\r\n",
        "for layer in baseModel.layers:\r\n",
        "\tlayer.trainable = False"
      ],
      "execution_count": null,
      "outputs": [
        {
          "output_type": "stream",
          "text": [
            "(12, 59, 128, 128, 1)\n"
          ],
          "name": "stdout"
        },
        {
          "output_type": "error",
          "ename": "ValueError",
          "evalue": "ignored",
          "traceback": [
            "\u001b[0;31m---------------------------------------------------------------------------\u001b[0m",
            "\u001b[0;31mValueError\u001b[0m                                Traceback (most recent call last)",
            "\u001b[0;32m<ipython-input-69-111639d00637>\u001b[0m in \u001b[0;36m<module>\u001b[0;34m()\u001b[0m\n\u001b[1;32m     21\u001b[0m     )\n\u001b[1;32m     22\u001b[0m \u001b[0;34m\u001b[0m\u001b[0m\n\u001b[0;32m---> 23\u001b[0;31m \u001b[0mdatagen\u001b[0m\u001b[0;34m.\u001b[0m\u001b[0mfit\u001b[0m\u001b[0;34m(\u001b[0m\u001b[0mx_train\u001b[0m\u001b[0;34m)\u001b[0m\u001b[0;34m\u001b[0m\u001b[0;34m\u001b[0m\u001b[0m\n\u001b[0m\u001b[1;32m     24\u001b[0m \u001b[0;34m\u001b[0m\u001b[0m\n\u001b[1;32m     25\u001b[0m \u001b[0;34m\u001b[0m\u001b[0m\n",
            "\u001b[0;32m/usr/local/lib/python3.6/dist-packages/keras_preprocessing/image/image_data_generator.py\u001b[0m in \u001b[0;36mfit\u001b[0;34m(self, x, augment, rounds, seed)\u001b[0m\n\u001b[1;32m    934\u001b[0m         \u001b[0;32mif\u001b[0m \u001b[0mx\u001b[0m\u001b[0;34m.\u001b[0m\u001b[0mndim\u001b[0m \u001b[0;34m!=\u001b[0m \u001b[0;36m4\u001b[0m\u001b[0;34m:\u001b[0m\u001b[0;34m\u001b[0m\u001b[0;34m\u001b[0m\u001b[0m\n\u001b[1;32m    935\u001b[0m             raise ValueError('Input to `.fit()` should have rank 4. '\n\u001b[0;32m--> 936\u001b[0;31m                              'Got array with shape: ' + str(x.shape))\n\u001b[0m\u001b[1;32m    937\u001b[0m         \u001b[0;32mif\u001b[0m \u001b[0mx\u001b[0m\u001b[0;34m.\u001b[0m\u001b[0mshape\u001b[0m\u001b[0;34m[\u001b[0m\u001b[0mself\u001b[0m\u001b[0;34m.\u001b[0m\u001b[0mchannel_axis\u001b[0m\u001b[0;34m]\u001b[0m \u001b[0;32mnot\u001b[0m \u001b[0;32min\u001b[0m \u001b[0;34m{\u001b[0m\u001b[0;36m1\u001b[0m\u001b[0;34m,\u001b[0m \u001b[0;36m3\u001b[0m\u001b[0;34m,\u001b[0m \u001b[0;36m4\u001b[0m\u001b[0;34m}\u001b[0m\u001b[0;34m:\u001b[0m\u001b[0;34m\u001b[0m\u001b[0;34m\u001b[0m\u001b[0m\n\u001b[1;32m    938\u001b[0m             warnings.warn(\n",
            "\u001b[0;31mValueError\u001b[0m: Input to `.fit()` should have rank 4. Got array with shape: (9, 59, 128, 128, 1)"
          ]
        }
      ]
    },
    {
      "cell_type": "code",
      "metadata": {
        "colab": {
          "base_uri": "https://localhost:8080/"
        },
        "id": "pATy_0JU529s",
        "outputId": "5c774107-cb9a-4048-9728-a09923319770"
      },
      "source": [
        "x_train, x_test, y_train, y_test = train_test_split( x, y, test_size=0.2, random_state=42)\r\n",
        "\r\n",
        "y_train.shape\r\n"
      ],
      "execution_count": null,
      "outputs": [
        {
          "output_type": "execute_result",
          "data": {
            "text/plain": [
              "(12, 8)"
            ]
          },
          "metadata": {
            "tags": []
          },
          "execution_count": 88
        }
      ]
    },
    {
      "cell_type": "code",
      "metadata": {
        "id": "au_xQrPiQwlz",
        "colab": {
          "base_uri": "https://localhost:8080/"
        },
        "outputId": "0fa3cfb2-6af2-4977-eae3-4755b8d35cb2"
      },
      "source": [
        "from tensorflow import keras\r\n",
        "from tensorflow.keras import layers\r\n",
        "import numpy as np\r\n",
        "import pylab as plt\r\n",
        "\r\n",
        "seq = keras.Sequential(\r\n",
        "    [\r\n",
        "        keras.Input(\r\n",
        "            shape=(59, 128, 128, 1)\r\n",
        "        ),  # Variable-length sequence of 40x40x1 frames\r\n",
        "        layers.ConvLSTM2D(\r\n",
        "            filters=40, kernel_size=(3, 3), padding=\"same\", return_sequences=True\r\n",
        "        ),\r\n",
        "        layers.BatchNormalization(),\r\n",
        "        layers.ConvLSTM2D(\r\n",
        "            filters=40, kernel_size=(3, 3), padding=\"same\", return_sequences=True\r\n",
        "        ),\r\n",
        "        layers.BatchNormalization(),\r\n",
        "        layers.ConvLSTM2D(\r\n",
        "            filters=40, kernel_size=(3, 3), padding=\"same\", return_sequences=True\r\n",
        "        ),\r\n",
        "        layers.BatchNormalization(),\r\n",
        "        layers.ConvLSTM2D(\r\n",
        "            filters=40, kernel_size=(3, 3), padding=\"same\", return_sequences=True\r\n",
        "        ),\r\n",
        "        layers.BatchNormalization(),\r\n",
        "        layers.Conv3D(\r\n",
        "            filters=1, kernel_size=(3, 3, 3), activation=\"sigmoid\", padding=\"same\"\r\n",
        "        ),\r\n",
        "    ]\r\n",
        ")\r\n",
        "#seq.compile(loss=\"categorical_crossentropy\", optimizer=\"adadelta\")\r\n",
        "\r\n",
        "seq.predict(x_train).shape\r\n"
      ],
      "execution_count": null,
      "outputs": [
        {
          "output_type": "execute_result",
          "data": {
            "text/plain": [
              "(9, 59, 128, 128, 1)"
            ]
          },
          "metadata": {
            "tags": []
          },
          "execution_count": 32
        }
      ]
    },
    {
      "cell_type": "code",
      "metadata": {
        "id": "hx6EHBSuAT9y"
      },
      "source": [
        "seq.fit(\r\n",
        "    x_train,\r\n",
        "    y_train,\r\n",
        "    batch_size=10,\r\n",
        "    epochs=1,\r\n",
        "    verbose=2,\r\n",
        "    validation_split=0.1,\r\n",
        ")"
      ],
      "execution_count": null,
      "outputs": []
    },
    {
      "cell_type": "code",
      "metadata": {
        "id": "Aorr0ztUCpaZ"
      },
      "source": [
        "from keras.models import Sequential\r\n",
        "from keras.layers import ConvLSTM2D\r\n",
        "from keras.callbacks import ModelCheckpoint, ReduceLROnPlateau\r\n",
        "from keras.optimizers import Adam\r\n",
        "from keras.models import Model"
      ],
      "execution_count": null,
      "outputs": []
    },
    {
      "cell_type": "code",
      "metadata": {
        "colab": {
          "base_uri": "https://localhost:8080/",
          "height": 442
        },
        "id": "k65gcWjzEP9r",
        "outputId": "512bf734-9d6e-45f8-8662-1cc87602eba5"
      },
      "source": [
        "model = Sequential()\r\n",
        "model.add(ConvLSTM2D(1, kernel_size=(3, 3), activation='tanh', recurrent_activation='hard_sigmoid', \r\n",
        "                        kernel_initializer='glorot_uniform', recurrent_initializer='orthogonal',\r\n",
        "                        kernel_constraint=None, recurrent_constraint=None, bias_constraint=None, \r\n",
        "                        return_sequences=False,\r\n",
        "                        padding='same',\r\n",
        "                        data_format='channels_last',\r\n",
        "                        dropout=0.0, recurrent_dropout=0.0))\r\n",
        "\r\n",
        "model.compile(optimizer=Adam(decay=1e-4),\r\n",
        "              loss='mean_squared_error',\r\n",
        "              metrics=['accuracy'])\r\n",
        "\r\n",
        "# Prepare model model saving directory.\r\n",
        "save_dir = os.path.join(os.getcwd(), 'saved_models')\r\n",
        "model_name = 'crime_prediction.{epoch:03d}.h5'\r\n",
        "if not os.path.isdir(save_dir):\r\n",
        "    os.makedirs(save_dir)\r\n",
        "filepath = os.path.join(save_dir, model_name)\r\n",
        "\r\n",
        "# Prepare callbacks for model saving and for learning rate adjustment.\r\n",
        "checkpoint = ModelCheckpoint(filepath=filepath,\r\n",
        "                             monitor='val_acc',\r\n",
        "                             verbose=1,\r\n",
        "                             save_best_only=True)\r\n",
        "\r\n",
        "lr_reducer = ReduceLROnPlateau(factor=np.sqrt(0.1),\r\n",
        "                               cooldown=0,\r\n",
        "                               patience=5,\r\n",
        "                               min_lr=0.5e-6)\r\n",
        "\r\n",
        "callbacks = [checkpoint, lr_reducer]\r\n",
        "\r\n",
        "model.fit(x_train, y_train,\r\n",
        "          batch_size=120,\r\n",
        "          epochs=20,\r\n",
        "          validation_data=(x_test, y_test),\r\n",
        "          shuffle=True,\r\n",
        "          callbacks=callbacks)\r\n",
        "\r\n",
        "model.summary()\r\n",
        "\r\n",
        "from keras.utils import plot_model\r\n",
        "plot_model(model, to_file='model.png')\r\n",
        "\r\n",
        "# Score trained model.\r\n",
        "scores = model.evaluate(X_test, y_test, verbose=1)\r\n",
        "print('Test loss:', scores[0])\r\n",
        "print('Test accuracy:', scores[1])"
      ],
      "execution_count": null,
      "outputs": [
        {
          "output_type": "stream",
          "text": [
            "Epoch 1/20\n"
          ],
          "name": "stdout"
        },
        {
          "output_type": "error",
          "ename": "InvalidArgumentError",
          "evalue": "ignored",
          "traceback": [
            "\u001b[0;31m---------------------------------------------------------------------------\u001b[0m",
            "\u001b[0;31mInvalidArgumentError\u001b[0m                      Traceback (most recent call last)",
            "\u001b[0;32m<ipython-input-48-6dfff2897161>\u001b[0m in \u001b[0;36m<module>\u001b[0;34m()\u001b[0m\n\u001b[1;32m     37\u001b[0m           \u001b[0mvalidation_data\u001b[0m\u001b[0;34m=\u001b[0m\u001b[0;34m(\u001b[0m\u001b[0mx_test\u001b[0m\u001b[0;34m,\u001b[0m \u001b[0my_test\u001b[0m\u001b[0;34m)\u001b[0m\u001b[0;34m,\u001b[0m\u001b[0;34m\u001b[0m\u001b[0;34m\u001b[0m\u001b[0m\n\u001b[1;32m     38\u001b[0m           \u001b[0mshuffle\u001b[0m\u001b[0;34m=\u001b[0m\u001b[0;32mTrue\u001b[0m\u001b[0;34m,\u001b[0m\u001b[0;34m\u001b[0m\u001b[0;34m\u001b[0m\u001b[0m\n\u001b[0;32m---> 39\u001b[0;31m           callbacks=callbacks)\n\u001b[0m\u001b[1;32m     40\u001b[0m \u001b[0;34m\u001b[0m\u001b[0m\n\u001b[1;32m     41\u001b[0m \u001b[0mmodel\u001b[0m\u001b[0;34m.\u001b[0m\u001b[0msummary\u001b[0m\u001b[0;34m(\u001b[0m\u001b[0;34m)\u001b[0m\u001b[0;34m\u001b[0m\u001b[0;34m\u001b[0m\u001b[0m\n",
            "\u001b[0;32m/usr/local/lib/python3.6/dist-packages/tensorflow/python/keras/engine/training.py\u001b[0m in \u001b[0;36mfit\u001b[0;34m(self, x, y, batch_size, epochs, verbose, callbacks, validation_split, validation_data, shuffle, class_weight, sample_weight, initial_epoch, steps_per_epoch, validation_steps, validation_batch_size, validation_freq, max_queue_size, workers, use_multiprocessing)\u001b[0m\n\u001b[1;32m   1098\u001b[0m                 _r=1):\n\u001b[1;32m   1099\u001b[0m               \u001b[0mcallbacks\u001b[0m\u001b[0;34m.\u001b[0m\u001b[0mon_train_batch_begin\u001b[0m\u001b[0;34m(\u001b[0m\u001b[0mstep\u001b[0m\u001b[0;34m)\u001b[0m\u001b[0;34m\u001b[0m\u001b[0;34m\u001b[0m\u001b[0m\n\u001b[0;32m-> 1100\u001b[0;31m               \u001b[0mtmp_logs\u001b[0m \u001b[0;34m=\u001b[0m \u001b[0mself\u001b[0m\u001b[0;34m.\u001b[0m\u001b[0mtrain_function\u001b[0m\u001b[0;34m(\u001b[0m\u001b[0miterator\u001b[0m\u001b[0;34m)\u001b[0m\u001b[0;34m\u001b[0m\u001b[0;34m\u001b[0m\u001b[0m\n\u001b[0m\u001b[1;32m   1101\u001b[0m               \u001b[0;32mif\u001b[0m \u001b[0mdata_handler\u001b[0m\u001b[0;34m.\u001b[0m\u001b[0mshould_sync\u001b[0m\u001b[0;34m:\u001b[0m\u001b[0;34m\u001b[0m\u001b[0;34m\u001b[0m\u001b[0m\n\u001b[1;32m   1102\u001b[0m                 \u001b[0mcontext\u001b[0m\u001b[0;34m.\u001b[0m\u001b[0masync_wait\u001b[0m\u001b[0;34m(\u001b[0m\u001b[0;34m)\u001b[0m\u001b[0;34m\u001b[0m\u001b[0;34m\u001b[0m\u001b[0m\n",
            "\u001b[0;32m/usr/local/lib/python3.6/dist-packages/tensorflow/python/eager/def_function.py\u001b[0m in \u001b[0;36m__call__\u001b[0;34m(self, *args, **kwds)\u001b[0m\n\u001b[1;32m    826\u001b[0m     \u001b[0mtracing_count\u001b[0m \u001b[0;34m=\u001b[0m \u001b[0mself\u001b[0m\u001b[0;34m.\u001b[0m\u001b[0mexperimental_get_tracing_count\u001b[0m\u001b[0;34m(\u001b[0m\u001b[0;34m)\u001b[0m\u001b[0;34m\u001b[0m\u001b[0;34m\u001b[0m\u001b[0m\n\u001b[1;32m    827\u001b[0m     \u001b[0;32mwith\u001b[0m \u001b[0mtrace\u001b[0m\u001b[0;34m.\u001b[0m\u001b[0mTrace\u001b[0m\u001b[0;34m(\u001b[0m\u001b[0mself\u001b[0m\u001b[0;34m.\u001b[0m\u001b[0m_name\u001b[0m\u001b[0;34m)\u001b[0m \u001b[0;32mas\u001b[0m \u001b[0mtm\u001b[0m\u001b[0;34m:\u001b[0m\u001b[0;34m\u001b[0m\u001b[0;34m\u001b[0m\u001b[0m\n\u001b[0;32m--> 828\u001b[0;31m       \u001b[0mresult\u001b[0m \u001b[0;34m=\u001b[0m \u001b[0mself\u001b[0m\u001b[0;34m.\u001b[0m\u001b[0m_call\u001b[0m\u001b[0;34m(\u001b[0m\u001b[0;34m*\u001b[0m\u001b[0margs\u001b[0m\u001b[0;34m,\u001b[0m \u001b[0;34m**\u001b[0m\u001b[0mkwds\u001b[0m\u001b[0;34m)\u001b[0m\u001b[0;34m\u001b[0m\u001b[0;34m\u001b[0m\u001b[0m\n\u001b[0m\u001b[1;32m    829\u001b[0m       \u001b[0mcompiler\u001b[0m \u001b[0;34m=\u001b[0m \u001b[0;34m\"xla\"\u001b[0m \u001b[0;32mif\u001b[0m \u001b[0mself\u001b[0m\u001b[0;34m.\u001b[0m\u001b[0m_experimental_compile\u001b[0m \u001b[0;32melse\u001b[0m \u001b[0;34m\"nonXla\"\u001b[0m\u001b[0;34m\u001b[0m\u001b[0;34m\u001b[0m\u001b[0m\n\u001b[1;32m    830\u001b[0m       \u001b[0mnew_tracing_count\u001b[0m \u001b[0;34m=\u001b[0m \u001b[0mself\u001b[0m\u001b[0;34m.\u001b[0m\u001b[0mexperimental_get_tracing_count\u001b[0m\u001b[0;34m(\u001b[0m\u001b[0;34m)\u001b[0m\u001b[0;34m\u001b[0m\u001b[0;34m\u001b[0m\u001b[0m\n",
            "\u001b[0;32m/usr/local/lib/python3.6/dist-packages/tensorflow/python/eager/def_function.py\u001b[0m in \u001b[0;36m_call\u001b[0;34m(self, *args, **kwds)\u001b[0m\n\u001b[1;32m    886\u001b[0m         \u001b[0;31m# Lifting succeeded, so variables are initialized and we can run the\u001b[0m\u001b[0;34m\u001b[0m\u001b[0;34m\u001b[0m\u001b[0;34m\u001b[0m\u001b[0m\n\u001b[1;32m    887\u001b[0m         \u001b[0;31m# stateless function.\u001b[0m\u001b[0;34m\u001b[0m\u001b[0;34m\u001b[0m\u001b[0;34m\u001b[0m\u001b[0m\n\u001b[0;32m--> 888\u001b[0;31m         \u001b[0;32mreturn\u001b[0m \u001b[0mself\u001b[0m\u001b[0;34m.\u001b[0m\u001b[0m_stateless_fn\u001b[0m\u001b[0;34m(\u001b[0m\u001b[0;34m*\u001b[0m\u001b[0margs\u001b[0m\u001b[0;34m,\u001b[0m \u001b[0;34m**\u001b[0m\u001b[0mkwds\u001b[0m\u001b[0;34m)\u001b[0m\u001b[0;34m\u001b[0m\u001b[0;34m\u001b[0m\u001b[0m\n\u001b[0m\u001b[1;32m    889\u001b[0m     \u001b[0;32melse\u001b[0m\u001b[0;34m:\u001b[0m\u001b[0;34m\u001b[0m\u001b[0;34m\u001b[0m\u001b[0m\n\u001b[1;32m    890\u001b[0m       \u001b[0m_\u001b[0m\u001b[0;34m,\u001b[0m \u001b[0m_\u001b[0m\u001b[0;34m,\u001b[0m \u001b[0m_\u001b[0m\u001b[0;34m,\u001b[0m \u001b[0mfiltered_flat_args\u001b[0m \u001b[0;34m=\u001b[0m\u001b[0;31m \u001b[0m\u001b[0;31m\\\u001b[0m\u001b[0;34m\u001b[0m\u001b[0;34m\u001b[0m\u001b[0m\n",
            "\u001b[0;32m/usr/local/lib/python3.6/dist-packages/tensorflow/python/eager/function.py\u001b[0m in \u001b[0;36m__call__\u001b[0;34m(self, *args, **kwargs)\u001b[0m\n\u001b[1;32m   2941\u001b[0m        filtered_flat_args) = self._maybe_define_function(args, kwargs)\n\u001b[1;32m   2942\u001b[0m     return graph_function._call_flat(\n\u001b[0;32m-> 2943\u001b[0;31m         filtered_flat_args, captured_inputs=graph_function.captured_inputs)  # pylint: disable=protected-access\n\u001b[0m\u001b[1;32m   2944\u001b[0m \u001b[0;34m\u001b[0m\u001b[0m\n\u001b[1;32m   2945\u001b[0m   \u001b[0;34m@\u001b[0m\u001b[0mproperty\u001b[0m\u001b[0;34m\u001b[0m\u001b[0;34m\u001b[0m\u001b[0m\n",
            "\u001b[0;32m/usr/local/lib/python3.6/dist-packages/tensorflow/python/eager/function.py\u001b[0m in \u001b[0;36m_call_flat\u001b[0;34m(self, args, captured_inputs, cancellation_manager)\u001b[0m\n\u001b[1;32m   1917\u001b[0m       \u001b[0;31m# No tape is watching; skip to running the function.\u001b[0m\u001b[0;34m\u001b[0m\u001b[0;34m\u001b[0m\u001b[0;34m\u001b[0m\u001b[0m\n\u001b[1;32m   1918\u001b[0m       return self._build_call_outputs(self._inference_function.call(\n\u001b[0;32m-> 1919\u001b[0;31m           ctx, args, cancellation_manager=cancellation_manager))\n\u001b[0m\u001b[1;32m   1920\u001b[0m     forward_backward = self._select_forward_and_backward_functions(\n\u001b[1;32m   1921\u001b[0m         \u001b[0margs\u001b[0m\u001b[0;34m,\u001b[0m\u001b[0;34m\u001b[0m\u001b[0;34m\u001b[0m\u001b[0m\n",
            "\u001b[0;32m/usr/local/lib/python3.6/dist-packages/tensorflow/python/eager/function.py\u001b[0m in \u001b[0;36mcall\u001b[0;34m(self, ctx, args, cancellation_manager)\u001b[0m\n\u001b[1;32m    558\u001b[0m               \u001b[0minputs\u001b[0m\u001b[0;34m=\u001b[0m\u001b[0margs\u001b[0m\u001b[0;34m,\u001b[0m\u001b[0;34m\u001b[0m\u001b[0;34m\u001b[0m\u001b[0m\n\u001b[1;32m    559\u001b[0m               \u001b[0mattrs\u001b[0m\u001b[0;34m=\u001b[0m\u001b[0mattrs\u001b[0m\u001b[0;34m,\u001b[0m\u001b[0;34m\u001b[0m\u001b[0;34m\u001b[0m\u001b[0m\n\u001b[0;32m--> 560\u001b[0;31m               ctx=ctx)\n\u001b[0m\u001b[1;32m    561\u001b[0m         \u001b[0;32melse\u001b[0m\u001b[0;34m:\u001b[0m\u001b[0;34m\u001b[0m\u001b[0;34m\u001b[0m\u001b[0m\n\u001b[1;32m    562\u001b[0m           outputs = execute.execute_with_cancellation(\n",
            "\u001b[0;32m/usr/local/lib/python3.6/dist-packages/tensorflow/python/eager/execute.py\u001b[0m in \u001b[0;36mquick_execute\u001b[0;34m(op_name, num_outputs, inputs, attrs, ctx, name)\u001b[0m\n\u001b[1;32m     58\u001b[0m     \u001b[0mctx\u001b[0m\u001b[0;34m.\u001b[0m\u001b[0mensure_initialized\u001b[0m\u001b[0;34m(\u001b[0m\u001b[0;34m)\u001b[0m\u001b[0;34m\u001b[0m\u001b[0;34m\u001b[0m\u001b[0m\n\u001b[1;32m     59\u001b[0m     tensors = pywrap_tfe.TFE_Py_Execute(ctx._handle, device_name, op_name,\n\u001b[0;32m---> 60\u001b[0;31m                                         inputs, attrs, num_outputs)\n\u001b[0m\u001b[1;32m     61\u001b[0m   \u001b[0;32mexcept\u001b[0m \u001b[0mcore\u001b[0m\u001b[0;34m.\u001b[0m\u001b[0m_NotOkStatusException\u001b[0m \u001b[0;32mas\u001b[0m \u001b[0me\u001b[0m\u001b[0;34m:\u001b[0m\u001b[0;34m\u001b[0m\u001b[0;34m\u001b[0m\u001b[0m\n\u001b[1;32m     62\u001b[0m     \u001b[0;32mif\u001b[0m \u001b[0mname\u001b[0m \u001b[0;32mis\u001b[0m \u001b[0;32mnot\u001b[0m \u001b[0;32mNone\u001b[0m\u001b[0;34m:\u001b[0m\u001b[0;34m\u001b[0m\u001b[0;34m\u001b[0m\u001b[0m\n",
            "\u001b[0;31mInvalidArgumentError\u001b[0m:  Incompatible shapes: [9,1] vs. [9,128,128,1]\n\t [[node mean_squared_error/SquaredDifference (defined at <ipython-input-48-6dfff2897161>:39) ]] [Op:__inference_train_function_38743]\n\nFunction call stack:\ntrain_function\n"
          ]
        }
      ]
    },
    {
      "cell_type": "code",
      "metadata": {
        "colab": {
          "base_uri": "https://localhost:8080/"
        },
        "id": "Dy3rp1NTG1Cb",
        "outputId": "ceda795b-e8cb-4f27-83b8-e800f8d06c43"
      },
      "source": [
        "from tensorflow.keras.layers import Activation,MaxPooling3D,Reshape,LSTM\r\n",
        "from keras.optimizers import Adam\r\n",
        "from keras.utils import plot_model\r\n",
        "\r\n",
        "\r\n",
        "def load_model():\r\n",
        "    # use simple CNN structure\r\n",
        "    in_shape = (59, 128, 128, 1)\r\n",
        "    model = Sequential()\r\n",
        "    model.add(ConvLSTM2D(32, kernel_size=(7, 7), padding='valid', return_sequences=True, input_shape=in_shape))\r\n",
        "    model.add(Activation('relu'))\r\n",
        "    model.add(MaxPooling3D(pool_size=(1, 2, 2)))\r\n",
        "    model.add(ConvLSTM2D(64, kernel_size=(5, 5), padding='valid', return_sequences=True))\r\n",
        "    model.add(MaxPooling3D(pool_size=(1, 2, 2)))\r\n",
        "    model.add(ConvLSTM2D(96, kernel_size=(3, 3), padding='valid', return_sequences=True))\r\n",
        "    model.add(Activation('relu'))\r\n",
        "    model.add(ConvLSTM2D(96, kernel_size=(3, 3), padding='valid', return_sequences=True))\r\n",
        "    model.add(Activation('relu'))\r\n",
        "    model.add(ConvLSTM2D(96, kernel_size=(3, 3), padding='valid', return_sequences=True))\r\n",
        "    model.add(MaxPooling3D(pool_size=(1, 2, 2)))\r\n",
        "    model.add(Dense(320))\r\n",
        "    model.add(Activation('relu'))\r\n",
        "    model.add(Dropout(0.5))\r\n",
        "\r\n",
        "    out_shape = model.output_shape\r\n",
        "    #print('====Model shape: ', out_shape)\r\n",
        "    model.add(Reshape((59, out_shape[2] * out_shape[3] * out_shape[4])))\r\n",
        "    model.add(LSTM(64, return_sequences=False))\r\n",
        "    model.add(Dropout(0.5))\r\n",
        "    model.add(Dense(8, activation='softmax'))\r\n",
        "\r\n",
        "\r\n",
        "    # Prepare model model saving directory.\r\n",
        "    save_dir = os.path.join(os.getcwd(), 'saved_models')\r\n",
        "    model_name = 'crime_prediction.{epoch:03d}.h5'\r\n",
        "    if not os.path.isdir(save_dir):\r\n",
        "        os.makedirs(save_dir)\r\n",
        "    filepath = os.path.join(save_dir, model_name)\r\n",
        "\r\n",
        "    checkpoint = ModelCheckpoint(filepath=filepath,\r\n",
        "                             monitor='val_acc',\r\n",
        "                             verbose=1,\r\n",
        "                             save_best_only=True)\r\n",
        "\r\n",
        "    lr_reducer = ReduceLROnPlateau(factor=np.sqrt(0.1),\r\n",
        "                               cooldown=0,\r\n",
        "                               patience=5,\r\n",
        "                               min_lr=0.5e-6)\r\n",
        "\r\n",
        "    callbacks = [checkpoint, lr_reducer]\r\n",
        "\r\n",
        "    model.compile(loss='categorical_crossentropy', optimizer=Adam(decay=1e-4), metrics=['accuracy'])\r\n",
        "\r\n",
        "    # model structure summary\r\n",
        "    print(model.summary())\r\n",
        "\r\n",
        "    return model \r\n",
        "\r\n",
        "model = load_model()\r\n",
        "\r\n",
        "\r\n",
        "model.fit(x_train, y_train,\r\n",
        "          batch_size=1,\r\n",
        "          epochs=5,\r\n",
        "          validation_data=(x_test, y_test),\r\n",
        "          shuffle=True, callbacks=callbacks)\r\n",
        "\r\n",
        "\r\n",
        "\r\n",
        "plot_model(model, to_file='model.png')\r\n",
        "\r\n",
        "# Score trained model.\r\n",
        "scores = model.evaluate(x_test, y_test, verbose=1)\r\n",
        "print('Test loss:', scores[0])\r\n",
        "print('Test accuracy:', scores[1])"
      ],
      "execution_count": null,
      "outputs": [
        {
          "output_type": "stream",
          "text": [
            "Model: \"sequential_35\"\n",
            "_________________________________________________________________\n",
            "Layer (type)                 Output Shape              Param #   \n",
            "=================================================================\n",
            "conv_lst_m2d_130 (ConvLSTM2D (None, 59, 122, 122, 32)  207104    \n",
            "_________________________________________________________________\n",
            "activation_53 (Activation)   (None, 59, 122, 122, 32)  0         \n",
            "_________________________________________________________________\n",
            "max_pooling3d_39 (MaxPooling (None, 59, 61, 61, 32)    0         \n",
            "_________________________________________________________________\n",
            "conv_lst_m2d_131 (ConvLSTM2D (None, 59, 57, 57, 64)    614656    \n",
            "_________________________________________________________________\n",
            "max_pooling3d_40 (MaxPooling (None, 59, 28, 28, 64)    0         \n",
            "_________________________________________________________________\n",
            "conv_lst_m2d_132 (ConvLSTM2D (None, 59, 26, 26, 96)    553344    \n",
            "_________________________________________________________________\n",
            "activation_54 (Activation)   (None, 59, 26, 26, 96)    0         \n",
            "_________________________________________________________________\n",
            "conv_lst_m2d_133 (ConvLSTM2D (None, 59, 24, 24, 96)    663936    \n",
            "_________________________________________________________________\n",
            "activation_55 (Activation)   (None, 59, 24, 24, 96)    0         \n",
            "_________________________________________________________________\n",
            "conv_lst_m2d_134 (ConvLSTM2D (None, 59, 22, 22, 96)    663936    \n",
            "_________________________________________________________________\n",
            "max_pooling3d_41 (MaxPooling (None, 59, 11, 11, 96)    0         \n",
            "_________________________________________________________________\n",
            "dense_21 (Dense)             (None, 59, 11, 11, 320)   31040     \n",
            "_________________________________________________________________\n",
            "activation_56 (Activation)   (None, 59, 11, 11, 320)   0         \n",
            "_________________________________________________________________\n",
            "dropout_22 (Dropout)         (None, 59, 11, 11, 320)   0         \n",
            "_________________________________________________________________\n",
            "reshape_10 (Reshape)         (None, 59, 38720)         0         \n",
            "_________________________________________________________________\n",
            "lstm_9 (LSTM)                (None, 64)                9928960   \n",
            "_________________________________________________________________\n",
            "dropout_23 (Dropout)         (None, 64)                0         \n",
            "_________________________________________________________________\n",
            "dense_22 (Dense)             (None, 8)                 520       \n",
            "=================================================================\n",
            "Total params: 12,663,496\n",
            "Trainable params: 12,663,496\n",
            "Non-trainable params: 0\n",
            "_________________________________________________________________\n",
            "None\n",
            "Epoch 1/5\n",
            "12/12 [==============================] - 27s 2s/step - loss: 2.9344 - accuracy: 0.2451 - val_loss: 3.1836 - val_accuracy: 0.0000e+00\n",
            "WARNING:tensorflow:Can save best model only with val_acc available, skipping.\n",
            "Epoch 2/5\n",
            "12/12 [==============================] - 18s 2s/step - loss: 2.8265 - accuracy: 0.2249 - val_loss: 2.7673 - val_accuracy: 0.0000e+00\n",
            "WARNING:tensorflow:Can save best model only with val_acc available, skipping.\n",
            "Epoch 3/5\n",
            "12/12 [==============================] - 18s 1s/step - loss: 2.0015 - accuracy: 0.1682 - val_loss: 2.9057 - val_accuracy: 0.0000e+00\n",
            "WARNING:tensorflow:Can save best model only with val_acc available, skipping.\n",
            "Epoch 4/5\n",
            "12/12 [==============================] - 18s 1s/step - loss: 2.1472 - accuracy: 0.2908 - val_loss: 2.8391 - val_accuracy: 0.0000e+00\n",
            "WARNING:tensorflow:Can save best model only with val_acc available, skipping.\n",
            "Epoch 5/5\n",
            "12/12 [==============================] - 18s 1s/step - loss: 2.2399 - accuracy: 0.0567 - val_loss: 2.8509 - val_accuracy: 0.0000e+00\n",
            "WARNING:tensorflow:Can save best model only with val_acc available, skipping.\n",
            "1/1 [==============================] - 2s 2s/step - loss: 2.8509 - accuracy: 0.0000e+00\n",
            "Test loss: 2.850883722305298\n",
            "Test accuracy: 0.0\n"
          ],
          "name": "stdout"
        }
      ]
    },
    {
      "cell_type": "code",
      "metadata": {
        "id": "rVNSbwYTkqbp",
        "colab": {
          "base_uri": "https://localhost:8080/"
        },
        "outputId": "ea2cdd26-5d30-4401-ae7d-7a14cc988a7c"
      },
      "source": [
        "from google.colab import drive\n",
        "drive.mount('/content/drive')"
      ],
      "execution_count": 1,
      "outputs": [
        {
          "output_type": "stream",
          "text": [
            "Mounted at /content/drive\n"
          ],
          "name": "stdout"
        }
      ]
    },
    {
      "cell_type": "code",
      "metadata": {
        "colab": {
          "base_uri": "https://localhost:8080/",
          "height": 35
        },
        "id": "Yh7RJSmbI-9E",
        "outputId": "d016399a-e959-487b-9d55-a83f9768ee04"
      },
      "source": [
        "shutil.move(\"/content/radvess_tags_for_train.pickle\", \"/content/drive/MyDrive/Colab Notebooks/ravdess/radvess_tags_for_train.pickle\")"
      ],
      "execution_count": null,
      "outputs": [
        {
          "output_type": "execute_result",
          "data": {
            "application/vnd.google.colaboratory.intrinsic+json": {
              "type": "string"
            },
            "text/plain": [
              "'/content/drive/MyDrive/Colab Notebooks/ravdess/radvess_tags_for_train.pickle'"
            ]
          },
          "metadata": {
            "tags": []
          },
          "execution_count": 93
        }
      ]
    },
    {
      "cell_type": "code",
      "metadata": {
        "id": "_QGMZWyoceAE"
      },
      "source": [
        "import keras\r\n",
        "from keras import applications\r\n",
        "from keras.preprocessing.image import ImageDataGenerator\r\n",
        "from keras import optimizers\r\n",
        "from keras.models import Sequential, Model \r\n",
        "from keras.layers import *\r\n",
        "from keras.callbacks import ModelCheckpoint, LearningRateScheduler, TensorBoard, EarlyStopping\r\n",
        " \r\n",
        "import os\r\n",
        "import cv2\r\n",
        "import numpy as np\r\n",
        "from sklearn.model_selection import train_test_split\r\n",
        "import keras_metrics as km\r\n",
        " \r\n",
        " \r\n",
        "from sklearn.metrics import accuracy_score\r\n",
        "from sklearn.metrics import precision_score\r\n",
        "from sklearn.metrics import recall_score\r\n",
        "from sklearn.metrics import f1_score\r\n",
        "from sklearn.metrics import cohen_kappa_score\r\n",
        "from sklearn.metrics import roc_auc_score\r\n",
        "from sklearn.metrics import multilabel_confusion_matrix\r\n",
        "\r\n",
        " \r\n",
        "X_train, X_test, y_train, y_test = train_test_split(X, Y, test_size=0.20, shuffle=True, random_state=0)\r\n",
        " \r\n",
        "model = Sequential()\r\n",
        "model.add(ConvLSTM2D(filters = 64, kernel_size = (3, 3), return_sequences = False, data_format = \"channels_last\", input_shape = (x.shape[1], 64, 64, 1)))\r\n",
        "model.add(Dropout(0.2))\r\n",
        "model.add(Flatten())\r\n",
        "model.add(Dense(256, activation=\"relu\"))\r\n",
        "model.add(Dropout(0.3))\r\n",
        "model.add(Dense(6, activation = \"softmax\"))\r\n",
        " \r\n",
        "model.summary()\r\n",
        " \r\n",
        "opt = keras.optimizers.SGD(lr=0.001)\r\n",
        "model.compile(loss='categorical_crossentropy', optimizer=opt, metrics=[\"accuracy\"])\r\n",
        " \r\n",
        "earlystop = EarlyStopping(patience=7)\r\n",
        "callbacks = [earlystop]\r\n",
        " \r\n",
        "history = model.fit(x = X_train, y = y_train, epochs=40, batch_size = 8 , shuffle=True, validation_split=0.2, callbacks=callbacks)\r\n",
        " \r\n",
        "y_pred = np.argmax(y_pred, axis = 1)\r\n",
        "y_test = np.argmax(y_test, axis = 1)\r\n",
        " \r\n",
        "print(classification_report(y_test, y_pred))"
      ],
      "execution_count": null,
      "outputs": []
    }
  ]
}