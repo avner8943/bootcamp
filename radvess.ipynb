{
  "nbformat": 4,
  "nbformat_minor": 0,
  "metadata": {
    "colab": {
      "name": "scratchpad",
      "provenance": [],
      "include_colab_link": true
    },
    "kernelspec": {
      "display_name": "Python 3",
      "name": "python3"
    },
    "accelerator": "GPU"
  },
  "cells": [
    {
      "cell_type": "markdown",
      "metadata": {
        "id": "view-in-github",
        "colab_type": "text"
      },
      "source": [
        "<a href=\"https://colab.research.google.com/github/avner8943/bootcamp/blob/master/radvess.ipynb\" target=\"_parent\"><img src=\"https://colab.research.google.com/assets/colab-badge.svg\" alt=\"Open In Colab\"/></a>"
      ]
    },
    {
      "cell_type": "code",
      "metadata": {
        "id": "lIYdn1woOS1n"
      },
      "source": [
        "from zipfile import ZipFile as zp\r\n",
        "import cv2\r\n",
        "import os\r\n",
        "import numpy as np\r\n",
        "import shutil\r\n",
        "from glob import glob\r\n",
        "import pickle\r\n",
        "from tqdm import tqdm\r\n",
        "from skimage.io import imread_collection\r\n",
        "\r\n",
        "\r\n",
        "face_cascade = cv2.CascadeClassifier(cv2.data.haarcascades + 'haarcascade_frontalface_default.xml')\r\n",
        "\r\n",
        "def save_face(im, count,vid_dir):\r\n",
        "\r\n",
        "  gray = cv2.cvtColor(im, cv2.COLOR_BGR2GRAY)\r\n",
        "\r\n",
        "  faces = face_cascade.detectMultiScale(gray, 1.1, 4)\r\n",
        "\r\n",
        "  x,y,w,h = faces[0]\r\n",
        "\r\n",
        "  face_crop = gray[y:y+h,x:x+w]\r\n",
        "\r\n",
        "  face_crop = cv2.resize(face_crop, (128,128), interpolation = cv2.INTER_AREA)\r\n",
        "\r\n",
        "  cv2.imwrite(vid_dir + \"/frame_{d}.jpg\".format(d = count), face_crop)\r\n",
        "\r\n",
        "\r\n",
        "####################################\r\n",
        "\r\n",
        "\r\n",
        "def load_data(save_pickle = 1):\r\n",
        "\r\n",
        "\r\n",
        "\r\n",
        "  for zip_f in glob('*.zip'):\r\n",
        "\r\n",
        "      print(zip_f)\r\n",
        "\r\n",
        "      actor_dir = zip_f[:-4]\r\n",
        "\r\n",
        "      if os.path.isdir(actor_dir):\r\n",
        "        shutil.rmtree(actor_dir)\r\n",
        "\r\n",
        "      os.mkdir(actor_dir)\r\n",
        "\r\n",
        "      with zp('/content/'+zip_f) as myzip:\r\n",
        "        \r\n",
        "\r\n",
        "        for f in myzip.infolist()[1:]:\r\n",
        "\r\n",
        "          print(f)\r\n",
        "          \r\n",
        "          #vid_dir = os.path.join( actor_dir, f.filename[:-4])\r\n",
        "\r\n",
        "          vid_dir =  f.filename[:-4]\r\n",
        "\r\n",
        "          os.mkdir(vid_dir )\r\n",
        "\r\n",
        "          ifile = myzip.extract(f)\r\n",
        "          \r\n",
        "          vidcap = cv2.VideoCapture(ifile)\r\n",
        "             \r\n",
        "          n_frames = np.floor((vidcap.get(cv2.CAP_PROP_FRAME_COUNT))).astype(np.int)\r\n",
        "\r\n",
        "          frames_list = list(np.linspace(0,n_frames,60, dtype=np.int))\r\n",
        "\r\n",
        "\r\n",
        "          success,image = vidcap.read()\r\n",
        "          count = 0\r\n",
        "          while success:\r\n",
        "            if count in frames_list:\r\n",
        "                \r\n",
        "                save_face(image, count,vid_dir)\r\n",
        "\r\n",
        "                if count % 10 == 0:\r\n",
        "\r\n",
        "                  print(\"zip: \", zip_f, '/',len(glob('*.zip')), \", vid: \", vid_dir,'/',len(myzip.infolist()[1:]), \", frame: \" , count, '/', n_frames)\r\n",
        "                     \r\n",
        "            success,image = vidcap.read()\r\n",
        "            count += 1\r\n",
        "          os.remove(ifile)\r\n",
        "  \r\n",
        "  \r\n",
        "  if save_pickle == 1:\r\n",
        "    print(\"picle start\")\r\n",
        "    images2pickle()\r\n",
        "\r\n",
        "##############################################\r\n",
        "\r\n",
        "def images2pickle(path=None):\r\n",
        "\r\n",
        "  print(\"for real\")\r\n",
        "\r\n",
        "  dirs = glob(\"/content/*/\")\r\n",
        "\r\n",
        "  x = []\r\n",
        "  y = []\r\n",
        "\r\n",
        "  for dir in dirs:\r\n",
        "    if dir.find('Actor') == -1: continue\r\n",
        "\r\n",
        "    sub_dirs = glob(os.path.join(dir,'*/'))\r\n",
        "\r\n",
        "    for sub_dir in sub_dirs:\r\n",
        "\r\n",
        "      images = np.array(imread_collection(os.path.join(sub_dir, '*.jpg')))\r\n",
        "\r\n",
        "      x.append(images)\r\n",
        "\r\n",
        "      tag = sub_dir.split('/')[3][7]\r\n",
        "\r\n",
        "      y.append(tag)\r\n",
        "\r\n",
        "\r\n",
        "\r\n",
        "  x = np.array(x)\r\n",
        "\r\n",
        "  y = np.array(y)\r\n",
        "\r\n",
        "  with open('radvess_data_for_train.pickle', 'wb') as output:\r\n",
        "    pickle.dump(x, output)\r\n",
        "\r\n",
        "  with open('radvess_tags_for_train.pickle', 'wb') as output:\r\n",
        "    pickle.dump(y, output)\r\n",
        "\r\n",
        "\r\n",
        "####################################################\r\n",
        "\r\n",
        "def load_pickle(path):\r\n",
        "\r\n",
        "  with open(path, 'rb') as data:\r\n",
        "    return pickle.load(data)\r\n",
        "\r\n",
        "\r\n"
      ],
      "execution_count": 2,
      "outputs": []
    },
    {
      "cell_type": "code",
      "metadata": {
        "id": "lggHoT4Z_c6W"
      },
      "source": [
        "load_data()\r\n",
        "\r\n"
      ],
      "execution_count": null,
      "outputs": []
    },
    {
      "cell_type": "code",
      "metadata": {
        "id": "g4pCMyj_zP7X"
      },
      "source": [
        "images2pickle()"
      ],
      "execution_count": 30,
      "outputs": []
    },
    {
      "cell_type": "code",
      "metadata": {
        "id": "UZNYUbVs1o5N",
        "outputId": "cf42b1b1-ef97-43df-9f7b-26f90a37325c",
        "colab": {
          "base_uri": "https://localhost:8080/",
          "height": 260
        }
      },
      "source": [
        "from sklearn.model_selection import train_test_split\r\n",
        "from keras.preprocessing.image import ImageDataGenerator\r\n",
        "\r\n",
        "x = load_pickle('radvess_data_for_train.pickle')\r\n",
        "\r\n",
        "y = load_pickle('radvess_tags_for_train.pickle')\r\n",
        "\r\n",
        "x_train, x_test, y_train, y_test = train_test_split( x, y, test_size=0.2, random_state=42)\r\n",
        "\r\n",
        "datagen = ImageDataGenerator(\r\n",
        "    featurewise_center=True,\r\n",
        "    featurewise_std_normalization=True,\r\n",
        "    )\r\n",
        "\r\n",
        "datagen.fit(x_train)\r\n",
        "\r\n",
        "model.fit(datagen.flow(x_train, y_train, batch_size=32),\r\n",
        "          steps_per_epoch=len(x_train) / 32, epochs=epochs)"
      ],
      "execution_count": 9,
      "outputs": [
        {
          "output_type": "stream",
          "text": [
            "/usr/local/lib/python3.6/dist-packages/keras_preprocessing/image/image_data_generator.py:947: UserWarning: Expected input to be images (as Numpy array) following the data format convention \"channels_last\" (channels on axis 3), i.e. expected either 1, 3 or 4 channels on axis 3. However, it was passed an array with shape (9, 59, 128, 128) (128 channels).\n",
            "  ' channels).')\n"
          ],
          "name": "stderr"
        },
        {
          "output_type": "error",
          "ename": "NameError",
          "evalue": "ignored",
          "traceback": [
            "\u001b[0;31m---------------------------------------------------------------------------\u001b[0m",
            "\u001b[0;31mNameError\u001b[0m                                 Traceback (most recent call last)",
            "\u001b[0;32m<ipython-input-9-8bab0e31db4e>\u001b[0m in \u001b[0;36m<module>\u001b[0;34m()\u001b[0m\n\u001b[1;32m     15\u001b[0m \u001b[0mdatagen\u001b[0m\u001b[0;34m.\u001b[0m\u001b[0mfit\u001b[0m\u001b[0;34m(\u001b[0m\u001b[0mx_train\u001b[0m\u001b[0;34m)\u001b[0m\u001b[0;34m\u001b[0m\u001b[0;34m\u001b[0m\u001b[0m\n\u001b[1;32m     16\u001b[0m \u001b[0;34m\u001b[0m\u001b[0m\n\u001b[0;32m---> 17\u001b[0;31m model.fit(datagen.flow(x_train, y_train, batch_size=32),\n\u001b[0m\u001b[1;32m     18\u001b[0m           steps_per_epoch=len(x_train) / 32, epochs=epochs)\n",
            "\u001b[0;31mNameError\u001b[0m: name 'model' is not defined"
          ]
        }
      ]
    }
  ]
}