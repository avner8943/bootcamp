{
  "nbformat": 4,
  "nbformat_minor": 0,
  "metadata": {
    "colab": {
      "name": "scratchpad",
      "provenance": [],
      "include_colab_link": true
    },
    "kernelspec": {
      "display_name": "Python 3",
      "name": "python3"
    }
  },
  "cells": [
    {
      "cell_type": "markdown",
      "metadata": {
        "id": "view-in-github",
        "colab_type": "text"
      },
      "source": [
        "<a href=\"https://colab.research.google.com/github/avner8943/bootcamp/blob/master/naive_bayes.ipynb\" target=\"_parent\"><img src=\"https://colab.research.google.com/assets/colab-badge.svg\" alt=\"Open In Colab\"/></a>"
      ]
    },
    {
      "cell_type": "markdown",
      "metadata": {
        "id": "ngL_il4UH2sD"
      },
      "source": [
        "## Loading data"
      ]
    },
    {
      "cell_type": "code",
      "metadata": {
        "id": "lIYdn1woOS1n"
      },
      "source": [
        "import numpy as np\n",
        "import pandas as pd\n",
        "import matplotlib.pyplot as plt\n",
        "import seaborn as sns\n",
        "from sklearn.model_selection import train_test_split\n",
        "\n",
        "data = pd.read_csv('/content/diabetes.csv')\n",
        "\n",
        "\n",
        "\n",
        "x_train, x_test, y_train, y_test = train_test_split(x, y, test_size=0.2)\n",
        "\n",
        "\n",
        "\n",
        "\n",
        "\n"
      ],
      "execution_count": 55,
      "outputs": []
    },
    {
      "cell_type": "markdown",
      "metadata": {
        "id": "jWY4IbAYH6Rq"
      },
      "source": [
        "## Define class"
      ]
    },
    {
      "cell_type": "code",
      "metadata": {
        "id": "ZvL-B76GDoKG"
      },
      "source": [
        "class naive_bayes():\n",
        "\n",
        "  def __init__(self, x, y):\n",
        "\n",
        "\n",
        "    self.x = x\n",
        "    self.y = y\n",
        "\n",
        "    self.x_for_pos = x[y==1,:]\n",
        "\n",
        "    self.x_for_neg = x[y==0,:]\n",
        "    \n",
        "    self.p_1 = np.sum(y[y==1])/y.shape[0]\n",
        "\n",
        "    self.p_0 = 1 - self.p_1\n",
        "\n",
        "\n",
        "\n",
        "    self.pos_mean = np.mean(self.x_for_pos,axis = 0)\n",
        "\n",
        "    print\n",
        "\n",
        "    self.neg_mean = np.mean(self.x_for_neg,axis = 0)\n",
        "\n",
        "    self.pos_std = np.std(self.x_for_pos,axis = 0)\n",
        "\n",
        "    self.neg_std = np.std(self.x_for_neg,axis = 0)\n",
        "\n",
        "\n",
        "\n",
        "  def gauss(self,x, mu,s):\n",
        "\n",
        "\n",
        "    return 1/np.sqrt(2*np.pi*s**2) * np.exp(-((x-mu)**2)/(2*s**2))\n",
        "\n",
        "\n",
        "  def fit(self, x):\n",
        "\n",
        "    p_1_prod = np.prod(self.gauss(x,self.pos_mean,self.pos_std))\n",
        "\n",
        "    p_0_prod = np.prod(self.gauss(x,self.neg_mean,self.neg_std))\n",
        "\n",
        "    if self.p_1*p_1_prod > self.p_0*p_0_prod :\n",
        "\n",
        "      return 1\n",
        "\n",
        "    return 0\n",
        "\n",
        "\n",
        "\n",
        "\n",
        "\n",
        "\n"
      ],
      "execution_count": 56,
      "outputs": []
    },
    {
      "cell_type": "markdown",
      "metadata": {
        "id": "Eb2Vh-ByH9Gh"
      },
      "source": [
        "#build model and print results"
      ]
    },
    {
      "cell_type": "code",
      "metadata": {
        "colab": {
          "base_uri": "https://localhost:8080/"
        },
        "id": "-luM3DhKLw5-",
        "outputId": "17a1926a-dfd8-4d50-c112-7f72b73e8bbf"
      },
      "source": [
        "nb = naive_bayes(x_train, y_train)\n",
        "\n",
        "\n",
        "\n",
        "tot = 0\n",
        "for i in range(y_test.shape[0]):\n",
        "\n",
        "  tot += y_test[i] == nb.fit(x_test[i,:])\n",
        "\n",
        "print('accuarcy: %6.2f' %(tot/y_test.shape*100), '%')\n"
      ],
      "execution_count": 57,
      "outputs": [
        {
          "output_type": "stream",
          "text": [
            "accuarcy:  77.27 %\n"
          ],
          "name": "stdout"
        }
      ]
    }
  ]
}