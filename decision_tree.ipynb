{
  "nbformat": 4,
  "nbformat_minor": 0,
  "metadata": {
    "colab": {
      "name": "scratchpad",
      "provenance": [],
      "include_colab_link": true
    },
    "kernelspec": {
      "display_name": "Python 3",
      "name": "python3"
    }
  },
  "cells": [
    {
      "cell_type": "markdown",
      "metadata": {
        "id": "view-in-github",
        "colab_type": "text"
      },
      "source": [
        "<a href=\"https://colab.research.google.com/github/avner8943/bootcamp/blob/master/decision_tree.ipynb\" target=\"_parent\"><img src=\"https://colab.research.google.com/assets/colab-badge.svg\" alt=\"Open In Colab\"/></a>"
      ]
    },
    {
      "cell_type": "code",
      "metadata": {
        "id": "z6pzRDD9MSiq"
      },
      "source": [
        "import numpy as np\n",
        "\n",
        "def split(data, feature, split_val):\n",
        "\n",
        "  right = data[data[feature] >= split_val]\n",
        "\n",
        "  left = data[data[feature] < split_val]\n",
        "\n",
        "  return left, right\n",
        "\n",
        "\n",
        "def calc_gini(left, right, classes):\n",
        "\n",
        "  tot_counts = float(len(left) + len(right))\n",
        "\n",
        "  gini = 0.0\n",
        "\n",
        "  left_0 = np.count_nonzero(left[:,-1] == classes[0])\n",
        "  left_1 = left.shape[0] - left_0\n",
        "\n",
        "  right_0 = np.count_nonzero(right[:,-1] == classes[0])\n",
        "  right_1 = right.shape[0] - right_0\n",
        "\n",
        "  gini = (1 - left_0**2+left_1**2)*(left.shape[0]/tot_counts) + (1 - right_0**2+right_1**2)*(right.shape[0]/tot_counts)\n",
        "\n",
        "  return gini\n",
        "\n",
        "\n",
        "\n",
        "def get_split(data):\n",
        "\n",
        "  classes = np.unique(data[:,-1])\n",
        "\n",
        "  best_idx, best_val, best_gini_score, best_groups = 1e3,1e3,1e3,0\n",
        "\n",
        "  for index in range(len(dataset[0])-1):\n",
        "    for row in dataset:\n",
        "      groups = test_split(index, row[index], dataset)\n",
        "      gini = gini_index(groups, class_values)\n",
        "      print('X%d < %.3f Gini=%.3f' % ((index+1), row[index], gini))\n",
        "      if gini < b_score:\n",
        "        b_index, b_value, b_score, b_groups = index, row[index], gini, groups\n",
        "\treturn {'index':b_index, 'value':b_value, 'groups':b_groups}\n",
        " \n",
        "dataset = [[2.771244718,1.784783929,0],\n",
        "\t[1.728571309,1.169761413,0],\n",
        "\t[3.678319846,2.81281357,0],\n",
        "\t[3.961043357,2.61995032,0],\n",
        "\t[2.999208922,2.209014212,0],\n",
        "\t[7.497545867,3.162953546,1],\n",
        "\t[9.00220326,3.339047188,1],\n",
        "\t[7.444542326,0.476683375,1],\n",
        "\t[10.12493903,3.234550982,1],\n",
        "\t[6.642287351,3.319983761,1]]\n",
        "split = get_split(dataset)\n",
        "print('Split: [X%d < %.3f]' % ((split['index']+1), split['value']))\n",
        "\n"
      ],
      "execution_count": 11,
      "outputs": []
    },
    {
      "cell_type": "code",
      "metadata": {
        "id": "INX_CRJ6M5QB",
        "outputId": "24b4c161-07fe-4fd7-9aed-3e5d2838b5ae",
        "colab": {
          "base_uri": "https://localhost:8080/"
        }
      },
      "source": [
        "# Split a dataset based on an attribute and an attribute value\n",
        "def test_split(index, value, dataset):\n",
        "\tleft, right = list(), list()\n",
        "\tfor row in dataset:\n",
        "\t\tif row[index] < value:\n",
        "\t\t\tleft.append(row)\n",
        "\t\telse:\n",
        "\t\t\tright.append(row)\n",
        "\treturn left, right\n",
        "\n",
        "dataset = [[2.771244718,1.784783929,0],\n",
        "\t        [1.728571309,1.169761413,0],\n",
        "\t        [3.678319846,2.81281357,0],\n",
        "          [3.961043357,2.61995032,0],\n",
        "          [2.999208922,2.209014212,0],\n",
        "          [7.497545867,3.162953546,1],\n",
        "          [9.00220326,3.339047188,1],\n",
        "          [7.444542326,0.476683375,1],\n",
        "          [10.12493903,3.234550982,1],\n",
        "          [6.642287351,3.319983761,1]]\n",
        "    \n",
        "for index in range(len(dataset[0])-1):\n",
        "  for row in dataset:\n",
        "    groups = test_split(index, row[index], dataset)\n",
        "    print([len(group) for group in groups])\n",
        "\n",
        "\n",
        "print('a')"
      ],
      "execution_count": 7,
      "outputs": [
        {
          "output_type": "stream",
          "text": [
            "[1, 9]\n",
            "[0, 10]\n",
            "[3, 7]\n",
            "[4, 6]\n",
            "[2, 8]\n",
            "[7, 3]\n",
            "[8, 2]\n",
            "[6, 4]\n",
            "[9, 1]\n",
            "[5, 5]\n",
            "[2, 8]\n",
            "[1, 9]\n",
            "[5, 5]\n",
            "[4, 6]\n",
            "[3, 7]\n",
            "[6, 4]\n",
            "[9, 1]\n",
            "[0, 10]\n",
            "[7, 3]\n",
            "[8, 2]\n",
            "a\n"
          ],
          "name": "stdout"
        }
      ]
    },
    {
      "cell_type": "code",
      "metadata": {
        "id": "rEKmuBvQnk_c",
        "outputId": "6292d203-517b-409d-8761-c389bba06917",
        "colab": {
          "base_uri": "https://localhost:8080/"
        }
      },
      "source": [
        "a = np.array([[  1, 275],\n",
        "       [  1, 441],\n",
        "       [  2, 494],\n",
        "       [  1, 593],\n",
        "       [  2, 679],\n",
        "       [  2, 533],\n",
        "       [  2, 686],\n",
        "       [  3, 559],\n",
        "       [  1, 219],\n",
        "       [  3, 455],\n",
        "       [  4, 605],\n",
        "       [  4, 468],\n",
        "       [  3, 692],\n",
        "       [  4, 613]])\n",
        "\n",
        "\n",
        "a = np.append(a,np.arange(14).reshape(14,-1), axis=1)\n",
        "\n",
        "print(a)\n",
        "\n",
        "print(np.split(a[:,1:], np.unique(a[:, 0], return_index=True)[1][1:]))\n",
        "\n",
        "\n",
        "a.sort(axis=0)\n",
        "print(np.split(a[:,1:], np.unique(a[:, 0], return_index=True)[1][1:]))\n",
        "\n",
        "\n"
      ],
      "execution_count": 21,
      "outputs": [
        {
          "output_type": "stream",
          "text": [
            "[[  1 275   0]\n",
            " [  1 441   1]\n",
            " [  2 494   2]\n",
            " [  1 593   3]\n",
            " [  2 679   4]\n",
            " [  2 533   5]\n",
            " [  2 686   6]\n",
            " [  3 559   7]\n",
            " [  1 219   8]\n",
            " [  3 455   9]\n",
            " [  4 605  10]\n",
            " [  4 468  11]\n",
            " [  3 692  12]\n",
            " [  4 613  13]]\n",
            "[array([[275,   0],\n",
            "       [441,   1]]), array([[494,   2],\n",
            "       [593,   3],\n",
            "       [679,   4],\n",
            "       [533,   5],\n",
            "       [686,   6]]), array([[559,   7],\n",
            "       [219,   8],\n",
            "       [455,   9]]), array([[605,  10],\n",
            "       [468,  11],\n",
            "       [692,  12],\n",
            "       [613,  13]])]\n",
            "[array([[219,   0],\n",
            "       [275,   1],\n",
            "       [441,   2],\n",
            "       [455,   3]]), array([[468,   4],\n",
            "       [494,   5],\n",
            "       [533,   6],\n",
            "       [559,   7]]), array([[593,   8],\n",
            "       [605,   9],\n",
            "       [613,  10]]), array([[679,  11],\n",
            "       [686,  12],\n",
            "       [692,  13]])]\n"
          ],
          "name": "stdout"
        }
      ]
    }
  ]
}