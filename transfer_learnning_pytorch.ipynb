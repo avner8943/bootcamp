{
  "nbformat": 4,
  "nbformat_minor": 0,
  "metadata": {
    "colab": {
      "name": "scratchpad",
      "provenance": [],
      "include_colab_link": true
    },
    "kernelspec": {
      "display_name": "Python 3",
      "name": "python3"
    },
    "accelerator": "GPU",
    "widgets": {
      "application/vnd.jupyter.widget-state+json": {
        "c5527c224f36462c99f261cb1586fd7b": {
          "model_module": "@jupyter-widgets/controls",
          "model_name": "HBoxModel",
          "state": {
            "_view_name": "HBoxView",
            "_dom_classes": [],
            "_model_name": "HBoxModel",
            "_view_module": "@jupyter-widgets/controls",
            "_model_module_version": "1.5.0",
            "_view_count": null,
            "_view_module_version": "1.5.0",
            "box_style": "",
            "layout": "IPY_MODEL_7f5d2294868742e09a236e32f0737b41",
            "_model_module": "@jupyter-widgets/controls",
            "children": [
              "IPY_MODEL_5299f646e911470d9b1eb9d177cac93d",
              "IPY_MODEL_55b0c03b916b4da78822edcb0353916e"
            ]
          }
        },
        "7f5d2294868742e09a236e32f0737b41": {
          "model_module": "@jupyter-widgets/base",
          "model_name": "LayoutModel",
          "state": {
            "_view_name": "LayoutView",
            "grid_template_rows": null,
            "right": null,
            "justify_content": null,
            "_view_module": "@jupyter-widgets/base",
            "overflow": null,
            "_model_module_version": "1.2.0",
            "_view_count": null,
            "flex_flow": null,
            "width": null,
            "min_width": null,
            "border": null,
            "align_items": null,
            "bottom": null,
            "_model_module": "@jupyter-widgets/base",
            "top": null,
            "grid_column": null,
            "overflow_y": null,
            "overflow_x": null,
            "grid_auto_flow": null,
            "grid_area": null,
            "grid_template_columns": null,
            "flex": null,
            "_model_name": "LayoutModel",
            "justify_items": null,
            "grid_row": null,
            "max_height": null,
            "align_content": null,
            "visibility": null,
            "align_self": null,
            "height": null,
            "min_height": null,
            "padding": null,
            "grid_auto_rows": null,
            "grid_gap": null,
            "max_width": null,
            "order": null,
            "_view_module_version": "1.2.0",
            "grid_template_areas": null,
            "object_position": null,
            "object_fit": null,
            "grid_auto_columns": null,
            "margin": null,
            "display": null,
            "left": null
          }
        },
        "5299f646e911470d9b1eb9d177cac93d": {
          "model_module": "@jupyter-widgets/controls",
          "model_name": "FloatProgressModel",
          "state": {
            "_view_name": "ProgressView",
            "style": "IPY_MODEL_1283b3e5607e4cf7a2e58bfba8eb370c",
            "_dom_classes": [],
            "description": "",
            "_model_name": "FloatProgressModel",
            "bar_style": "info",
            "max": 1,
            "_view_module": "@jupyter-widgets/controls",
            "_model_module_version": "1.5.0",
            "value": 1,
            "_view_count": null,
            "_view_module_version": "1.5.0",
            "orientation": "horizontal",
            "min": 0,
            "description_tooltip": null,
            "_model_module": "@jupyter-widgets/controls",
            "layout": "IPY_MODEL_229d5f1424644f7aa4728ae28bb2fa1a"
          }
        },
        "55b0c03b916b4da78822edcb0353916e": {
          "model_module": "@jupyter-widgets/controls",
          "model_name": "HTMLModel",
          "state": {
            "_view_name": "HTMLView",
            "style": "IPY_MODEL_0eab062d7fb04f5f8af4925c91037e5b",
            "_dom_classes": [],
            "description": "",
            "_model_name": "HTMLModel",
            "placeholder": "​",
            "_view_module": "@jupyter-widgets/controls",
            "_model_module_version": "1.5.0",
            "value": " 170500096/? [00:20&lt;00:00, 69910169.06it/s]",
            "_view_count": null,
            "_view_module_version": "1.5.0",
            "description_tooltip": null,
            "_model_module": "@jupyter-widgets/controls",
            "layout": "IPY_MODEL_b5ef5cce2c6241d7a1a93c8ee9b6a1f0"
          }
        },
        "1283b3e5607e4cf7a2e58bfba8eb370c": {
          "model_module": "@jupyter-widgets/controls",
          "model_name": "ProgressStyleModel",
          "state": {
            "_view_name": "StyleView",
            "_model_name": "ProgressStyleModel",
            "description_width": "initial",
            "_view_module": "@jupyter-widgets/base",
            "_model_module_version": "1.5.0",
            "_view_count": null,
            "_view_module_version": "1.2.0",
            "bar_color": null,
            "_model_module": "@jupyter-widgets/controls"
          }
        },
        "229d5f1424644f7aa4728ae28bb2fa1a": {
          "model_module": "@jupyter-widgets/base",
          "model_name": "LayoutModel",
          "state": {
            "_view_name": "LayoutView",
            "grid_template_rows": null,
            "right": null,
            "justify_content": null,
            "_view_module": "@jupyter-widgets/base",
            "overflow": null,
            "_model_module_version": "1.2.0",
            "_view_count": null,
            "flex_flow": null,
            "width": null,
            "min_width": null,
            "border": null,
            "align_items": null,
            "bottom": null,
            "_model_module": "@jupyter-widgets/base",
            "top": null,
            "grid_column": null,
            "overflow_y": null,
            "overflow_x": null,
            "grid_auto_flow": null,
            "grid_area": null,
            "grid_template_columns": null,
            "flex": null,
            "_model_name": "LayoutModel",
            "justify_items": null,
            "grid_row": null,
            "max_height": null,
            "align_content": null,
            "visibility": null,
            "align_self": null,
            "height": null,
            "min_height": null,
            "padding": null,
            "grid_auto_rows": null,
            "grid_gap": null,
            "max_width": null,
            "order": null,
            "_view_module_version": "1.2.0",
            "grid_template_areas": null,
            "object_position": null,
            "object_fit": null,
            "grid_auto_columns": null,
            "margin": null,
            "display": null,
            "left": null
          }
        },
        "0eab062d7fb04f5f8af4925c91037e5b": {
          "model_module": "@jupyter-widgets/controls",
          "model_name": "DescriptionStyleModel",
          "state": {
            "_view_name": "StyleView",
            "_model_name": "DescriptionStyleModel",
            "description_width": "",
            "_view_module": "@jupyter-widgets/base",
            "_model_module_version": "1.5.0",
            "_view_count": null,
            "_view_module_version": "1.2.0",
            "_model_module": "@jupyter-widgets/controls"
          }
        },
        "b5ef5cce2c6241d7a1a93c8ee9b6a1f0": {
          "model_module": "@jupyter-widgets/base",
          "model_name": "LayoutModel",
          "state": {
            "_view_name": "LayoutView",
            "grid_template_rows": null,
            "right": null,
            "justify_content": null,
            "_view_module": "@jupyter-widgets/base",
            "overflow": null,
            "_model_module_version": "1.2.0",
            "_view_count": null,
            "flex_flow": null,
            "width": null,
            "min_width": null,
            "border": null,
            "align_items": null,
            "bottom": null,
            "_model_module": "@jupyter-widgets/base",
            "top": null,
            "grid_column": null,
            "overflow_y": null,
            "overflow_x": null,
            "grid_auto_flow": null,
            "grid_area": null,
            "grid_template_columns": null,
            "flex": null,
            "_model_name": "LayoutModel",
            "justify_items": null,
            "grid_row": null,
            "max_height": null,
            "align_content": null,
            "visibility": null,
            "align_self": null,
            "height": null,
            "min_height": null,
            "padding": null,
            "grid_auto_rows": null,
            "grid_gap": null,
            "max_width": null,
            "order": null,
            "_view_module_version": "1.2.0",
            "grid_template_areas": null,
            "object_position": null,
            "object_fit": null,
            "grid_auto_columns": null,
            "margin": null,
            "display": null,
            "left": null
          }
        }
      }
    }
  },
  "cells": [
    {
      "cell_type": "markdown",
      "metadata": {
        "id": "view-in-github",
        "colab_type": "text"
      },
      "source": [
        "<a href=\"https://colab.research.google.com/github/avner8943/bootcamp/blob/master/transfer_learnning_pytorch.ipynb\" target=\"_parent\"><img src=\"https://colab.research.google.com/assets/colab-badge.svg\" alt=\"Open In Colab\"/></a>"
      ]
    },
    {
      "cell_type": "code",
      "metadata": {
        "id": "lIYdn1woOS1n"
      },
      "source": [
        "from __future__ import print_function, division\n",
        "import os\n",
        "import torch\n",
        "import pandas as pd\n",
        "from skimage import io, transform\n",
        "import numpy as np\n",
        "import matplotlib.pyplot as plt\n",
        "from torch.utils.data import Dataset, DataLoader\n",
        "from torchvision import transforms, utils\n",
        "import torchvision\n"
      ],
      "execution_count": 1,
      "outputs": []
    },
    {
      "cell_type": "code",
      "metadata": {
        "id": "SaT5u-824NDj"
      },
      "source": [
        "import torch\n",
        "import torch.nn as nn\n",
        "import torch.nn.functional as F\n",
        "\n",
        "import numpy as np\n",
        "\n",
        "\n",
        "class LeNet5(nn.Module):\n",
        "\n",
        "    def __init__(self, n_classes):\n",
        "        super(LeNet5, self).__init__()\n",
        "        \n",
        "        \n",
        "\n",
        "        self.conv1 = nn.Conv2d(3, 6, 5)\n",
        "\n",
        "        self.conv2 = nn.Conv2d(6, 16, 5)\n",
        "\n",
        "        # randomly select number of feagtures\n",
        "        fet1 = np.random.randint(100, 400)\n",
        "\n",
        "        fet2 = np.random.randint(100, 400)\n",
        "\n",
        "        \n",
        "        self.fc1 = nn.Linear(in_features= 16 * 5 * 5, out_features=fet1)  # 6*6 from image dimension\n",
        "        \n",
        "        self.fc2 = nn.Linear(in_features=fet1, out_features=fet2)\n",
        "\n",
        "        self.fc3 = nn.Linear(in_features=fet2, out_features=n_classes)\n",
        "    \n",
        "    def forward(self, x):\n",
        "\n",
        "        x = F.max_pool2d(torch.relu(self.conv1(x)), kernel_size=2)\n",
        "        x = F.max_pool2d(torch.relu(self.conv2(x)), kernel_size=2)\n",
        "  \n",
        "        x = x.view(-1, 16 * 5 * 5)\n",
        "        x = F.relu(self.fc1(x))\n",
        "        x = F.relu(self.fc2(x))\n",
        "\n",
        "        x = self.fc3(x)\n",
        "\n",
        "        return x"
      ],
      "execution_count": 2,
      "outputs": []
    },
    {
      "cell_type": "code",
      "metadata": {
        "id": "cig7g4yJzpbc"
      },
      "source": [
        "class im_resize(object):\n",
        "\n",
        "  def __init__(self, o_shape = (3,32,32)):\n",
        "    self.o_shape = o_shape\n",
        "\n",
        "\n",
        "\n",
        "  def __call__(self, im):\n",
        "\n",
        "    c, h, w = self.o_shape\n",
        "    new_im = transforms.Resize(im, (c,h, w))\n",
        "\n",
        "    return new_im"
      ],
      "execution_count": 3,
      "outputs": []
    },
    {
      "cell_type": "code",
      "metadata": {
        "id": "eAdLPfJKycuC"
      },
      "source": [
        "def data_loader_CIFAR10():\n",
        "\n",
        "  transform = transforms.Compose(\n",
        "      [transforms.ToTensor(),\n",
        "       transforms.RandomHorizontalFlip(p=0.5),\n",
        "       transforms.Resize((32,32)),\n",
        "       transforms.Normalize((0.5, 0.5, 0.5), (0.5, 0.5, 0.5))])\n",
        "\n",
        "  train_set = torchvision.datasets.CIFAR10(root='./data', train=True,\n",
        "                                          download=True, transform=transform)\n",
        "  train_loader = torch.utils.data.DataLoader(train_set, batch_size=4,\n",
        "                                            shuffle=True, num_workers=2)\n",
        "\n",
        "  test_set = torchvision.datasets.CIFAR10(root='./data', train=False,\n",
        "                                        download=True, transform=transform)\n",
        "  test_loader = torch.utils.data.DataLoader(test_set, batch_size=4,\n",
        "                                          shuffle=False, num_workers=2)\n",
        "  classes = ('plane', 'car', 'bird', 'cat',\n",
        "           'deer', 'dog', 'frog', 'horse', 'ship', 'truck')\n",
        "  return train_set, train_loader, test_set, test_loader, classes"
      ],
      "execution_count": 4,
      "outputs": []
    },
    {
      "cell_type": "code",
      "metadata": {
        "id": "BzvthxcD4DM9",
        "outputId": "6b864438-9c44-478a-e6b3-74e05fe01a44",
        "colab": {
          "base_uri": "https://localhost:8080/",
          "height": 113,
          "referenced_widgets": [
            "c5527c224f36462c99f261cb1586fd7b",
            "7f5d2294868742e09a236e32f0737b41",
            "5299f646e911470d9b1eb9d177cac93d",
            "55b0c03b916b4da78822edcb0353916e",
            "1283b3e5607e4cf7a2e58bfba8eb370c",
            "229d5f1424644f7aa4728ae28bb2fa1a",
            "0eab062d7fb04f5f8af4925c91037e5b",
            "b5ef5cce2c6241d7a1a93c8ee9b6a1f0"
          ]
        }
      },
      "source": [
        "import torch.optim as optim\n",
        "\n",
        "train_set, train_loader, test_set, test_loader, classes = data_loader_CIFAR10()\n",
        "print(train_loader)\n",
        "\n",
        "net = LeNet5(len(classes))\n",
        "criterion = nn.CrossEntropyLoss()\n",
        "optimizer = optim.SGD(net.parameters(), lr=0.001, momentum=0.9)"
      ],
      "execution_count": 5,
      "outputs": [
        {
          "output_type": "stream",
          "text": [
            "Downloading https://www.cs.toronto.edu/~kriz/cifar-10-python.tar.gz to ./data/cifar-10-python.tar.gz\n"
          ],
          "name": "stdout"
        },
        {
          "output_type": "display_data",
          "data": {
            "application/vnd.jupyter.widget-view+json": {
              "model_id": "c5527c224f36462c99f261cb1586fd7b",
              "version_minor": 0,
              "version_major": 2
            },
            "text/plain": [
              "HBox(children=(FloatProgress(value=1.0, bar_style='info', max=1.0), HTML(value='')))"
            ]
          },
          "metadata": {
            "tags": []
          }
        },
        {
          "output_type": "stream",
          "text": [
            "Extracting ./data/cifar-10-python.tar.gz to ./data\n",
            "Files already downloaded and verified\n",
            "<torch.utils.data.dataloader.DataLoader object at 0x7f5393970470>\n"
          ],
          "name": "stdout"
        }
      ]
    },
    {
      "cell_type": "code",
      "metadata": {
        "id": "bhHrfomK4Fu0",
        "outputId": "c8fe988d-7cfd-4f2c-b63d-e8390d9f1d19",
        "colab": {
          "base_uri": "https://localhost:8080/"
        }
      },
      "source": [
        "# train model\n",
        "for epoch in range(2):  # loop over the dataset multiple times\n",
        "\n",
        "    running_loss = 0.0\n",
        "    for i, data in enumerate(train_loader, 0):\n",
        "        # get the inputs; data is a list of [inputs, labels]\n",
        "        inputs, labels = data\n",
        "\n",
        "        # zero the parameter gradients\n",
        "        optimizer.zero_grad()\n",
        "\n",
        "        # forward + backward + optimize\n",
        "        outputs = net(inputs)\n",
        "        #print(outputs.shape, inputs.shape, labels.shape)\n",
        "        loss = criterion(outputs, labels)\n",
        "        loss.backward()\n",
        "        optimizer.step()\n",
        "\n",
        "        # print statistics\n",
        "        running_loss += loss.item()\n",
        "        if i % 2000 == 1999:    # print every 2000 mini-batches\n",
        "            print('[%d, %5d] loss: %.3f' %\n",
        "                  (epoch + 1, i + 1, running_loss / 2000))\n",
        "            running_loss = 0.0"
      ],
      "execution_count": 6,
      "outputs": [
        {
          "output_type": "stream",
          "text": [
            "[1,  2000] loss: 2.187\n",
            "[1,  4000] loss: 1.839\n",
            "[1,  6000] loss: 1.666\n",
            "[1,  8000] loss: 1.547\n",
            "[1, 10000] loss: 1.474\n",
            "[1, 12000] loss: 1.419\n",
            "[2,  2000] loss: 1.369\n",
            "[2,  4000] loss: 1.298\n",
            "[2,  6000] loss: 1.299\n",
            "[2,  8000] loss: 1.272\n",
            "[2, 10000] loss: 1.243\n",
            "[2, 12000] loss: 1.220\n"
          ],
          "name": "stdout"
        }
      ]
    },
    {
      "cell_type": "code",
      "metadata": {
        "id": "NyqW4HaA4HHM",
        "outputId": "33cabb1a-ca63-45a0-9cbe-f615b8b55994",
        "colab": {
          "base_uri": "https://localhost:8080/"
        }
      },
      "source": [
        "# evaluate model\n",
        "correct = 0\n",
        "total = 0\n",
        "with torch.no_grad():\n",
        "    for data in test_loader:\n",
        "        images, labels = data\n",
        "        outputs = net(images)\n",
        "        _, predicted = torch.max(outputs.data, 1)\n",
        "        total += labels.size(0)\n",
        "        correct += (predicted == labels).sum().item()\n",
        "\n",
        "print('Accuracy of the network on the 10000 test images: %d %%' % (\n",
        "    100 * correct / total))"
      ],
      "execution_count": 7,
      "outputs": [
        {
          "output_type": "stream",
          "text": [
            "Accuracy of the network on the 10000 test images: 57 %\n"
          ],
          "name": "stdout"
        }
      ]
    },
    {
      "cell_type": "markdown",
      "metadata": {
        "id": "BQH0EWhc-k_s"
      },
      "source": [
        "same results as for last assignment"
      ]
    },
    {
      "cell_type": "markdown",
      "metadata": {
        "id": "_nWWtGhF_Wcu"
      },
      "source": [
        "### Q2.a implent tutorial transfer learnning from https://pytorch.org/tutorials/beginner/transfer_learning_tutorial.html"
      ]
    },
    {
      "cell_type": "code",
      "metadata": {
        "id": "wYcfbf4xn1pT"
      },
      "source": [
        "os.environ['CUDA_LAUNCH_BLOCKING'] = \"1\" "
      ],
      "execution_count": 8,
      "outputs": []
    },
    {
      "cell_type": "code",
      "metadata": {
        "id": "cFkwwbKn_gpO"
      },
      "source": [
        "from __future__ import print_function, division\n",
        "\n",
        "import torch\n",
        "import torch.nn as nn\n",
        "import torch.optim as optim\n",
        "from torch.optim import lr_scheduler\n",
        "import numpy as np\n",
        "import torchvision\n",
        "from torchvision import datasets, models, transforms\n",
        "import matplotlib.pyplot as plt\n",
        "import time\n",
        "import os\n",
        "import copy"
      ],
      "execution_count": 9,
      "outputs": []
    },
    {
      "cell_type": "code",
      "metadata": {
        "id": "kDyB1mWRCTtu",
        "outputId": "ede0c797-0dd8-44ba-a97b-e19f5887550f",
        "colab": {
          "base_uri": "https://localhost:8080/"
        }
      },
      "source": [
        "data_transforms = {\n",
        "    'train': transforms.Compose([\n",
        "        transforms.RandomResizedCrop(224),\n",
        "        transforms.RandomHorizontalFlip(),\n",
        "        transforms.ToTensor(),\n",
        "        transforms.Normalize([0.485, 0.456, 0.406], [0.229, 0.224, 0.225])\n",
        "    ]),\n",
        "    'val': transforms.Compose([\n",
        "        transforms.Resize(256),\n",
        "        transforms.CenterCrop(224),\n",
        "        transforms.ToTensor(),\n",
        "        transforms.Normalize([0.485, 0.456, 0.406], [0.229, 0.224, 0.225])\n",
        "    ]),\n",
        "}\n",
        "\n",
        "data_dir = '/content'\n",
        "image_datasets = {x: datasets.ImageFolder(os.path.join(data_dir, x), data_transforms[x]) for x in ['train', 'val']}\n",
        "dataloaders = {x: torch.utils.data.DataLoader(image_datasets[x], batch_size=4, shuffle=True, num_workers=4)for x in ['train', 'val']}\n",
        "dataset_sizes = {x: len(image_datasets[x]) for x in ['train', 'val']}\n",
        "class_names = image_datasets['train'].classes\n",
        "print(class_names)\n",
        "\n",
        "\n",
        "device = torch.device(\"cuda:0\" if torch.cuda.is_available() else \"cpu\")"
      ],
      "execution_count": 11,
      "outputs": [
        {
          "output_type": "stream",
          "text": [
            "['.ipynb_checkpoints', 'ants', 'bees']\n"
          ],
          "name": "stdout"
        }
      ]
    },
    {
      "cell_type": "code",
      "metadata": {
        "id": "CVG-6gEzCn4v",
        "outputId": "04bd1a10-1537-4cd8-f2a4-0a9a0f4de233",
        "colab": {
          "base_uri": "https://localhost:8080/",
          "height": 147
        }
      },
      "source": [
        "def imshow(inp, title=None):\n",
        "    \"\"\"Imshow for Tensor.\"\"\"\n",
        "    inp = inp.numpy().transpose((1, 2, 0))\n",
        "    mean = np.array([0.485, 0.456, 0.406])\n",
        "    std = np.array([0.229, 0.224, 0.225])\n",
        "    inp = std * inp + mean\n",
        "    inp = np.clip(inp, 0, 1)\n",
        "    plt.imshow(inp)\n",
        "    if title is not None:\n",
        "        plt.title(title)\n",
        "    plt.pause(0.001)  # pause a bit so that plots are updated\n",
        "\n",
        "\n",
        "# Get a batch of training data\n",
        "inputs, classes = next(iter(dataloaders['train']))\n",
        "\n",
        "\n",
        "# Make a grid from batch\n",
        "out = torchvision.utils.make_grid(inputs)\n",
        "\n",
        "imshow(out, title=[class_names[x] for x in classes])"
      ],
      "execution_count": 12,
      "outputs": [
        {
          "output_type": "display_data",
          "data": {
            "image/png": "[encoded data removed]",
            "text/plain": [
              "<Figure size 432x288 with 1 Axes>"
            ]
          },
          "metadata": {
            "tags": [],
            "needs_background": "light"
          }
        }
      ]
    },
    {
      "cell_type": "code",
      "metadata": {
        "id": "j_TqNZfJdMf8"
      },
      "source": [
        "def train_model(model, criterion, optimizer, scheduler, num_epochs=25):\n",
        "    since = time.time()\n",
        "\n",
        "    best_model_wts = copy.deepcopy(model.state_dict())\n",
        "    best_acc = 0.0\n",
        "\n",
        "    for epoch in range(num_epochs):\n",
        "        print('Epoch {}/{}'.format(epoch, num_epochs - 1))\n",
        "        print('-' * 10)\n",
        "\n",
        "        # Each epoch has a training and validation phase\n",
        "        for phase in ['train', 'val']:\n",
        "            if phase == 'train':\n",
        "                model.train()  # Set model to training mode\n",
        "            else:\n",
        "                model.eval()   # Set model to evaluate mode\n",
        "\n",
        "            running_loss = 0.0\n",
        "            running_corrects = 0\n",
        "\n",
        "            # Iterate over data.\n",
        "            for inputs, labels in dataloaders[phase]:\n",
        "                #inputs = inputs.to(device)\n",
        "                #labels = labels.to(device)\n",
        "\n",
        "                # zero the parameter gradients\n",
        "                optimizer.zero_grad()\n",
        "\n",
        "                # forward\n",
        "                # track history if only in train\n",
        "                with torch.set_grad_enabled(phase == 'train'):\n",
        "                    outputs = model(inputs)\n",
        "                    _, preds = torch.max(outputs, 1)\n",
        "                    #print(preds, labels)\n",
        "                    loss = criterion(outputs, labels)\n",
        "\n",
        "                    # backward + optimize only if in training phase\n",
        "                    if phase == 'train':\n",
        "                        loss.backward()\n",
        "                        optimizer.step()\n",
        "\n",
        "                # statistics\n",
        "                running_loss += loss.item() * inputs.size(0)\n",
        "                running_corrects += torch.sum(preds == labels.data)\n",
        "            if phase == 'train':\n",
        "                scheduler.step()\n",
        "\n",
        "            epoch_loss = running_loss / dataset_sizes[phase]\n",
        "            epoch_acc = running_corrects.double() / dataset_sizes[phase]\n",
        "\n",
        "            print('{} Loss: {:.4f} Acc: {:.4f}'.format(\n",
        "                phase, epoch_loss, epoch_acc))\n",
        "\n",
        "            # deep copy the model\n",
        "            if phase == 'val' and epoch_acc > best_acc:\n",
        "                best_acc = epoch_acc\n",
        "                best_model_wts = copy.deepcopy(model.state_dict())\n",
        "\n",
        "\n",
        "\n",
        "    time_elapsed = time.time() - since\n",
        "    print('Training complete in {:.0f}m {:.0f}s'.format(\n",
        "        time_elapsed // 60, time_elapsed % 60))\n",
        "    print('Best val Acc: {:4f}'.format(best_acc))\n",
        "\n",
        "    # load best model weights\n",
        "    model.load_state_dict(best_model_wts)\n",
        "    return model"
      ],
      "execution_count": 17,
      "outputs": []
    },
    {
      "cell_type": "code",
      "metadata": {
        "id": "EBkvcpt_eVoc"
      },
      "source": [
        "def visualize_model(model, num_images=6):\n",
        "    was_training = model.training\n",
        "    model.eval()\n",
        "    images_so_far = 0\n",
        "    fig = plt.figure()\n",
        "\n",
        "    with torch.no_grad():\n",
        "        for i, (inputs, labels) in enumerate(dataloaders['val']):\n",
        "            #inputs = inputs.to(device)\n",
        "            #labels = labels.to(device)\n",
        "\n",
        "            outputs = model(inputs)\n",
        "            _, preds = torch.max(outputs, 1)\n",
        "\n",
        "            for j in range(inputs.size()[0]):\n",
        "                images_so_far += 1\n",
        "                ax = plt.subplot(num_images//2, 2, images_so_far)\n",
        "                ax.axis('off')\n",
        "                ax.set_title('predicted: {}'.format(class_names[preds[j]]))\n",
        "                imshow(inputs.cpu().data[j])\n",
        "\n",
        "                if images_so_far == num_images:\n",
        "                    model.train(mode=was_training)\n",
        "                    return\n",
        "        model.train(mode=was_training)"
      ],
      "execution_count": 18,
      "outputs": []
    },
    {
      "cell_type": "code",
      "metadata": {
        "id": "MG1GIFbIeedc",
        "outputId": "3fb3e87f-47d7-46d2-9283-b4cf93de2663",
        "colab": {
          "base_uri": "https://localhost:8080/"
        }
      },
      "source": [
        "model_ft = models.resnet18(pretrained=True)\n",
        "num_ftrs = model_ft.fc.in_features\n",
        "print(num_ftrs)\n",
        "# Here the size of each output sample is set to 2.\n",
        "# Alternatively, it can be generalized to nn.Linear(num_ftrs, len(class_names)).\n",
        "model_ft.fc = nn.Linear(num_ftrs, len(class_names))\n",
        "\n",
        "\n",
        "#model_ft = model_ft.to(device)\n",
        "\n",
        "criterion = nn.CrossEntropyLoss()\n",
        "\n",
        "# Observe that all parameters are being optimized\n",
        "optimizer_ft = optim.SGD(model_ft.parameters(), lr=0.001, momentum=0.9)\n",
        "\n",
        "# Decay LR by a factor of 0.1 every 7 epochs\n",
        "exp_lr_scheduler = lr_scheduler.StepLR(optimizer_ft, step_size=7, gamma=0.1)"
      ],
      "execution_count": 19,
      "outputs": [
        {
          "output_type": "stream",
          "text": [
            "512\n"
          ],
          "name": "stdout"
        }
      ]
    },
    {
      "cell_type": "code",
      "metadata": {
        "id": "MsYsYKIQfYo9",
        "outputId": "da07159a-6b5d-4c00-af7e-417510fd4d7f",
        "colab": {
          "base_uri": "https://localhost:8080/"
        }
      },
      "source": [
        "model_ft = train_model(model_ft, criterion, optimizer_ft, exp_lr_scheduler,\n",
        "                       num_epochs=25)"
      ],
      "execution_count": 20,
      "outputs": [
        {
          "output_type": "stream",
          "text": [
            "Epoch 0/24\n",
            "----------\n",
            "train Loss: 0.6557 Acc: 0.6352\n",
            "val Loss: 0.1981 Acc: 0.9085\n",
            "Epoch 1/24\n",
            "----------\n",
            "train Loss: 0.7348 Acc: 0.7295\n",
            "val Loss: 0.2984 Acc: 0.8562\n",
            "Epoch 2/24\n",
            "----------\n",
            "train Loss: 0.6202 Acc: 0.7541\n",
            "val Loss: 0.2591 Acc: 0.8954\n",
            "Epoch 3/24\n",
            "----------\n",
            "train Loss: 0.4865 Acc: 0.8115\n",
            "val Loss: 0.3802 Acc: 0.8497\n",
            "Epoch 4/24\n",
            "----------\n",
            "train Loss: 0.5930 Acc: 0.7459\n",
            "val Loss: 0.3240 Acc: 0.8954\n",
            "Epoch 5/24\n",
            "----------\n",
            "train Loss: 0.4384 Acc: 0.8689\n",
            "val Loss: 0.4174 Acc: 0.8758\n",
            "Epoch 6/24\n",
            "----------\n",
            "train Loss: 0.4469 Acc: 0.8320\n",
            "val Loss: 0.2734 Acc: 0.8693\n",
            "Epoch 7/24\n",
            "----------\n",
            "train Loss: 0.3672 Acc: 0.8320\n",
            "val Loss: 0.2620 Acc: 0.8954\n",
            "Epoch 8/24\n",
            "----------\n",
            "train Loss: 0.3642 Acc: 0.8484\n",
            "val Loss: 0.2455 Acc: 0.8954\n",
            "Epoch 9/24\n",
            "----------\n",
            "train Loss: 0.3090 Acc: 0.8730\n",
            "val Loss: 0.2280 Acc: 0.8889\n",
            "Epoch 10/24\n",
            "----------\n",
            "train Loss: 0.3013 Acc: 0.8648\n",
            "val Loss: 0.2719 Acc: 0.9085\n",
            "Epoch 11/24\n",
            "----------\n",
            "train Loss: 0.3298 Acc: 0.8238\n",
            "val Loss: 0.2576 Acc: 0.9085\n",
            "Epoch 12/24\n",
            "----------\n",
            "train Loss: 0.2415 Acc: 0.9016\n",
            "val Loss: 0.2406 Acc: 0.8889\n",
            "Epoch 13/24\n",
            "----------\n",
            "train Loss: 0.2553 Acc: 0.8934\n",
            "val Loss: 0.2392 Acc: 0.9020\n",
            "Epoch 14/24\n",
            "----------\n",
            "train Loss: 0.3006 Acc: 0.8730\n",
            "val Loss: 0.2421 Acc: 0.9085\n",
            "Epoch 15/24\n",
            "----------\n",
            "train Loss: 0.2295 Acc: 0.9016\n",
            "val Loss: 0.2486 Acc: 0.9150\n",
            "Epoch 16/24\n",
            "----------\n",
            "train Loss: 0.3491 Acc: 0.8279\n",
            "val Loss: 0.2451 Acc: 0.9020\n",
            "Epoch 17/24\n",
            "----------\n",
            "train Loss: 0.3118 Acc: 0.8648\n",
            "val Loss: 0.2562 Acc: 0.9150\n",
            "Epoch 18/24\n",
            "----------\n",
            "train Loss: 0.2587 Acc: 0.8893\n",
            "val Loss: 0.2483 Acc: 0.9216\n",
            "Epoch 19/24\n",
            "----------\n",
            "train Loss: 0.2966 Acc: 0.8525\n",
            "val Loss: 0.2547 Acc: 0.9085\n",
            "Epoch 20/24\n",
            "----------\n",
            "train Loss: 0.3059 Acc: 0.8893\n",
            "val Loss: 0.2358 Acc: 0.9085\n",
            "Epoch 21/24\n",
            "----------\n",
            "train Loss: 0.2686 Acc: 0.9057\n",
            "val Loss: 0.2317 Acc: 0.9085\n",
            "Epoch 22/24\n",
            "----------\n",
            "train Loss: 0.2566 Acc: 0.8934\n",
            "val Loss: 0.2542 Acc: 0.9020\n",
            "Epoch 23/24\n",
            "----------\n",
            "train Loss: 0.3046 Acc: 0.8566\n",
            "val Loss: 0.2356 Acc: 0.8954\n",
            "Epoch 24/24\n",
            "----------\n",
            "train Loss: 0.2822 Acc: 0.8770\n",
            "val Loss: 0.2527 Acc: 0.9085\n",
            "Training complete in 28m 60s\n",
            "Best val Acc: 0.921569\n"
          ],
          "name": "stdout"
        }
      ]
    },
    {
      "cell_type": "code",
      "metadata": {
        "id": "9wXqns7Ni3Sb",
        "outputId": "8c6f5d7b-de31-49b1-90bf-0211fe84b348",
        "colab": {
          "base_uri": "https://localhost:8080/",
          "height": 581
        }
      },
      "source": [
        "visualize_model(model_ft)"
      ],
      "execution_count": 21,
      "outputs": [
        {
          "output_type": "display_data",
          "data": {
            "image/png": "[encoded data removed]",
            "text/plain": [
              "<Figure size 432x288 with 1 Axes>"
            ]
          },
          "metadata": {
            "tags": [],
            "needs_background": "light"
          }
        },
        {
          "output_type": "display_data",
          "data": {
            "image/png": "[encoded data removed]",
            "text/plain": [
              "<Figure size 432x288 with 1 Axes>"
            ]
          },
          "metadata": {
            "tags": [],
            "needs_background": "light"
          }
        },
        {
          "output_type": "display_data",
          "data": {
            "image/png": "[encoded data removed]",
            "text/plain": [
              "<Figure size 432x288 with 1 Axes>"
            ]
          },
          "metadata": {
            "tags": [],
            "needs_background": "light"
          }
        },
        {
          "output_type": "display_data",
          "data": {
            "image/png": "[encoded data removed]",
            "text/plain": [
              "<Figure size 432x288 with 1 Axes>"
            ]
          },
          "metadata": {
            "tags": [],
            "needs_background": "light"
          }
        },
        {
          "output_type": "display_data",
          "data": {
            "image/png": "[encoded data removed]",
            "text/plain": [
              "<Figure size 432x288 with 1 Axes>"
            ]
          },
          "metadata": {
            "tags": [],
            "needs_background": "light"
          }
        },
        {
          "output_type": "display_data",
          "data": {
            "image/png": "[encoded data removed]",
            "text/plain": [
              "<Figure size 432x288 with 1 Axes>"
            ]
          },
          "metadata": {
            "tags": [],
            "needs_background": "light"
          }
        }
      ]
    },
    {
      "cell_type": "markdown",
      "metadata": {
        "id": "R-ADN9i0pAN7"
      },
      "source": [
        "### Q2.b Transfer learnning CIFAR10"
      ]
    },
    {
      "cell_type": "code",
      "metadata": {
        "id": "xda5mlmupHNm",
        "outputId": "529e7966-19aa-46f0-d857-d4ec9791acb5",
        "colab": {
          "base_uri": "https://localhost:8080/"
        }
      },
      "source": [
        "transform = transforms.Compose(\n",
        "    [transforms.ToTensor(),\n",
        "      transforms.RandomHorizontalFlip(p=0.5),\n",
        "      transforms.Resize((32,32)),\n",
        "      transforms.Normalize((0.5, 0.5, 0.5), (0.5, 0.5, 0.5))])\n",
        "\n",
        "class CifarPartialDataSet(torchvision.datasets.CIFAR10):\n",
        "\n",
        "  def __init__(self, ind_range, train=True, transform=None, target_transform=None):\n",
        "\n",
        "    self.train = train\n",
        "    assert isinstance (ind_range, tuple)\n",
        "    from_ind, to_ind = ind_range\n",
        "    assert 0 <= from_ind < to_ind < 10\n",
        "    self.transform = transform\n",
        "    self.target_transform = target_transform\n",
        "\n",
        "    if train:\n",
        "      cifar10_train = torchvision.datasets.CIFAR10(root='./data', train=True, download=True)\n",
        "\n",
        "      targets = np.array(cifar10_train.targets, dtype=np.int64)\n",
        "      indices = (from_ind <= targets) & (targets <= to_ind)\n",
        "      self.data = cifar10_train.data[indices]\n",
        "      self.targets = list(targets[indices]-from_ind)\n",
        "    else:\n",
        "      cifar10_test = torchvision.datasets.CIFAR10(root='./data', train=False, download=True)\n",
        "      targets = np.array(cifar10_test.targets, dtype=np.int64)\n",
        "      indices = (from_ind <= targets) & (targets <= to_ind)\n",
        "      self.data = cifar10_test.data[indices]\n",
        "      self.targets = list(targets[indices]-from_ind)\n",
        "\n",
        "cifar07_train = CifarPartialDataSet((0,7), True, transform=transform)\n",
        "\n",
        "cifar_train = CifarPartialDataSet((8,9), True, transform=transform)\n",
        "\n",
        "\n",
        "\n",
        "\n",
        "cifar07_train_loader = torch.utils.data.DataLoader(cifar07_train, batch_size=4, shuffle=True, num_workers=0)\n",
        "\n",
        "cifar07_test = CifarPartialDataSet((0,7), False, transform=transform)\n",
        "\n",
        "cifar07_test_loader = torch.utils.data.DataLoader(cifar07_test, batch_size=4, shuffle=True, num_workers=0)"
      ],
      "execution_count": 22,
      "outputs": [
        {
          "output_type": "stream",
          "text": [
            "Files already downloaded and verified\n",
            "Files already downloaded and verified\n",
            "Files already downloaded and verified\n"
          ],
          "name": "stdout"
        }
      ]
    },
    {
      "cell_type": "code",
      "metadata": {
        "id": "tUvpBJtluNiG"
      },
      "source": [
        "import torch\n",
        "import torch.nn as nn\n",
        "import torch.nn.functional as F\n",
        "\n",
        "import numpy as np\n",
        "\n",
        "\n",
        "class LeNet5(nn.Module):\n",
        "\n",
        "    def __init__(self, n_classes):\n",
        "        super(LeNet5, self).__init__()\n",
        "        \n",
        "        \n",
        "\n",
        "        self.conv1 = nn.Conv2d(3, 6, 5)\n",
        "\n",
        "        self.conv2 = nn.Conv2d(6, 16, 5)\n",
        "\n",
        "\n",
        "\n",
        "        \n",
        "        self.fc1 = nn.Linear(in_features= 16 * 5 * 5, out_features=256)  # 6*6 from image dimension\n",
        "        \n",
        "        self.fc2 = nn.Linear(in_features=256, out_features=128)\n",
        "\n",
        "        self.fc3 = nn.Linear(in_features=128, out_features=10)\n",
        "    \n",
        "    def forward(self, x):\n",
        "\n",
        "        x = F.max_pool2d(torch.relu(self.conv1(x)), kernel_size=2)\n",
        "        x = F.max_pool2d(torch.relu(self.conv2(x)), kernel_size=2)\n",
        "  \n",
        "        x = x.view(-1, 16 * 5 * 5)\n",
        "        x = F.relu(self.fc1(x))\n",
        "        x = F.relu(self.fc2(x))\n",
        "\n",
        "        x = self.fc3(x)\n",
        "\n",
        "        return x"
      ],
      "execution_count": 23,
      "outputs": []
    },
    {
      "cell_type": "code",
      "metadata": {
        "id": "w-W5TuO8uTCU"
      },
      "source": [
        "import torch.optim as optim\n",
        "\n",
        "\n",
        "net = LeNet5(10)\n",
        "criterion = nn.CrossEntropyLoss()\n",
        "optimizer = optim.SGD(net.parameters(), lr=0.001, momentum=0.9)"
      ],
      "execution_count": 24,
      "outputs": []
    },
    {
      "cell_type": "code",
      "metadata": {
        "id": "R2hrKDcNuVjE",
        "outputId": "516bb23c-b866-49b3-c517-b932dfb4f81a",
        "colab": {
          "base_uri": "https://localhost:8080/"
        }
      },
      "source": [
        "# train model\n",
        "for epoch in range(2):  # loop over the dataset multiple times\n",
        "\n",
        "    running_loss = 0.0\n",
        "    for i, data in enumerate(cifar07_train_loader, 0):\n",
        "        # get the inputs; data is a list of [inputs, labels]\n",
        "        inputs, labels = data\n",
        "\n",
        "        # zero the parameter gradients\n",
        "        optimizer.zero_grad()\n",
        "        # forward + backward + optimize\n",
        "        outputs = net(inputs)\n",
        "        #print(outputs.shape)#, inputs.shape, labels.shape)\n",
        "        loss = criterion(outputs, labels)\n",
        "        loss.backward()\n",
        "        optimizer.step()\n",
        "\n",
        "        # print statistics\n",
        "        running_loss += loss.item()\n",
        "        if i % 2000 == 1999:    # print every 2000 mini-batches\n",
        "            print('[%d, %5d] loss: %.3f' %\n",
        "                  (epoch + 1, i + 1, running_loss / 2000))\n",
        "            running_loss = 0.0"
      ],
      "execution_count": 25,
      "outputs": [
        {
          "output_type": "stream",
          "text": [
            "[1,  2000] loss: 1.995\n",
            "[1,  4000] loss: 1.655\n",
            "[1,  6000] loss: 1.491\n",
            "[1,  8000] loss: 1.398\n",
            "[1, 10000] loss: 1.337\n",
            "[2,  2000] loss: 1.295\n",
            "[2,  4000] loss: 1.279\n",
            "[2,  6000] loss: 1.235\n",
            "[2,  8000] loss: 1.185\n",
            "[2, 10000] loss: 1.178\n"
          ],
          "name": "stdout"
        }
      ]
    },
    {
      "cell_type": "code",
      "metadata": {
        "id": "2OT2CdfSuXxQ",
        "outputId": "0663eab2-9dfb-4a65-ca93-6b43097ceb7f",
        "colab": {
          "base_uri": "https://localhost:8080/"
        }
      },
      "source": [
        "# evaluate model\n",
        "correct = 0\n",
        "total = 0\n",
        "with torch.no_grad():\n",
        "    for data in cifar07_test_loader:\n",
        "        images, labels = data\n",
        "        outputs = net(images)\n",
        "        _, predicted = torch.max(outputs.data, 1)\n",
        "        total += labels.size(0)\n",
        "        correct += (predicted == labels).sum().item()\n",
        "\n",
        "print('Accuracy of the network on the 10000 test images: %d %%' % (\n",
        "    100 * correct / total))"
      ],
      "execution_count": 26,
      "outputs": [
        {
          "output_type": "stream",
          "text": [
            "Accuracy of the network on the 10000 test images: 57 %\n"
          ],
          "name": "stdout"
        }
      ]
    },
    {
      "cell_type": "code",
      "metadata": {
        "id": "DzUkHHXX6OJF"
      },
      "source": [
        "f_name = \"net_weights.pt\"\n",
        "\n",
        "torch.save(net.state_dict(), f_name)"
      ],
      "execution_count": 30,
      "outputs": []
    },
    {
      "cell_type": "code",
      "metadata": {
        "id": "NtvwpsFW66ut"
      },
      "source": [
        "for param in net.parameters():\n",
        "    param.requires_grad = False"
      ],
      "execution_count": 31,
      "outputs": []
    },
    {
      "cell_type": "code",
      "metadata": {
        "id": "79yn6TTczlFN",
        "outputId": "9f177007-c87b-4600-de33-fed12479edb4",
        "colab": {
          "base_uri": "https://localhost:8080/"
        }
      },
      "source": [
        "state = torch.load('/content/net_weights.pt')\n",
        "\n",
        "new_net = LeNet5(len(classes))\n",
        "\n",
        "\n",
        "new_net.load_state_dict(state)\n",
        "\n",
        "for param in new_net.parameters():\n",
        "    param.requires_grad = False\n",
        "\n",
        "new_net =  nn.Sequential(\n",
        "    new_net,\n",
        "    nn.Linear(10, 256),\n",
        "    nn.Linear(256,10)\n",
        ")\n",
        "print(new_net)"
      ],
      "execution_count": 36,
      "outputs": [
        {
          "output_type": "stream",
          "text": [
            "Sequential(\n",
            "  (0): LeNet5(\n",
            "    (conv1): Conv2d(3, 6, kernel_size=(5, 5), stride=(1, 1))\n",
            "    (conv2): Conv2d(6, 16, kernel_size=(5, 5), stride=(1, 1))\n",
            "    (fc1): Linear(in_features=400, out_features=256, bias=True)\n",
            "    (fc2): Linear(in_features=256, out_features=128, bias=True)\n",
            "    (fc3): Linear(in_features=128, out_features=10, bias=True)\n",
            "  )\n",
            "  (1): Linear(in_features=10, out_features=256, bias=True)\n",
            "  (2): Linear(in_features=256, out_features=10, bias=True)\n",
            ")\n"
          ],
          "name": "stdout"
        }
      ]
    },
    {
      "cell_type": "code",
      "metadata": {
        "id": "68yoBFU-fFuU",
        "outputId": "5a5ffd11-cf9a-4764-cc68-5a4e257d1849",
        "colab": {
          "base_uri": "https://localhost:8080/"
        }
      },
      "source": [
        "cifar10_train = CifarPartialDataSet((8,9), True, transform=transform)\n",
        "\n",
        "cifar10_train_loader = torch.utils.data.DataLoader(cifar10_train, batch_size=4, shuffle=True, num_workers=0)\n",
        "\n",
        "cifar10_test = CifarPartialDataSet((8,9), False, transform=transform)\n",
        "\n",
        "cifar10_test_loader = torch.utils.data.DataLoader(cifar10_test, batch_size=4, shuffle=True, num_workers=0)"
      ],
      "execution_count": 37,
      "outputs": [
        {
          "output_type": "stream",
          "text": [
            "Files already downloaded and verified\n",
            "Files already downloaded and verified\n"
          ],
          "name": "stdout"
        }
      ]
    },
    {
      "cell_type": "code",
      "metadata": {
        "id": "4OtiBRXCzpUd",
        "outputId": "73ffe3dc-6ffc-49c4-99ad-85f63bf6e91e",
        "colab": {
          "base_uri": "https://localhost:8080/"
        }
      },
      "source": [
        "optimizer = optim.SGD(new_net.parameters(), lr=0.01, momentum=0.9)\n",
        "\n",
        "# train model\n",
        "for epoch in range(10):  # loop over the dataset multiple times\n",
        "\n",
        "    running_loss = 0.0\n",
        "    for i, data in enumerate(cifar10_train_loader, 0):\n",
        "        # get the inputs; data is a list of [inputs, labels]\n",
        "        inputs, labels = data\n",
        "\n",
        "        # zero the parameter gradients\n",
        "        optimizer.zero_grad()\n",
        "\n",
        "        # forward + backward + optimize\n",
        "        outputs = new_net(inputs)\n",
        "        #print(outputs.shape)#, inputs.shape, labels.shape)\n",
        "        loss = criterion(outputs, labels)\n",
        "        loss.backward()\n",
        "        optimizer.step()\n",
        "\n",
        "        # print statistics\n",
        "        running_loss += loss.item()\n",
        "        if i % 2000 == 1999:    # print every 2000 mini-batches\n",
        "            print('[%d, %5d] loss: %.3f' %\n",
        "                  (epoch + 1, i + 1, running_loss / 2000))\n",
        "            running_loss = 0.0"
      ],
      "execution_count": 38,
      "outputs": [
        {
          "output_type": "stream",
          "text": [
            "[1,  2000] loss: 0.696\n",
            "[2,  2000] loss: 0.510\n",
            "[3,  2000] loss: 0.512\n",
            "[4,  2000] loss: 0.519\n",
            "[5,  2000] loss: 0.493\n",
            "[6,  2000] loss: 0.495\n",
            "[7,  2000] loss: 0.494\n",
            "[8,  2000] loss: 0.495\n",
            "[9,  2000] loss: 0.481\n",
            "[10,  2000] loss: 0.501\n"
          ],
          "name": "stdout"
        }
      ]
    },
    {
      "cell_type": "code",
      "metadata": {
        "id": "0YQzycSxqk2X",
        "outputId": "a34fe973-bbe1-494e-f22c-e54f81da7ba2",
        "colab": {
          "base_uri": "https://localhost:8080/"
        }
      },
      "source": [
        "# evaluate model\n",
        "correct = 0\n",
        "total = 0\n",
        "with torch.no_grad():\n",
        "    for data in cifar10_test_loader:\n",
        "        images, labels = data\n",
        "        outputs = new_net(images)\n",
        "        _, predicted = torch.max(outputs.data, 1)\n",
        "        total += labels.size(0)\n",
        "        correct += (predicted == labels).sum().item()\n",
        "\n",
        "print('Accuracy of the network on the 10000 test images: %d %%' % (\n",
        "    100 * correct / total))"
      ],
      "execution_count": 39,
      "outputs": [
        {
          "output_type": "stream",
          "text": [
            "Accuracy of the network on the 10000 test images: 78 %\n"
          ],
          "name": "stdout"
        }
      ]
    }
  ]
}