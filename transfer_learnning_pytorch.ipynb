{
  "nbformat": 4,
  "nbformat_minor": 0,
  "metadata": {
    "colab": {
      "name": "scratchpad",
      "provenance": [],
      "include_colab_link": true
    },
    "kernelspec": {
      "display_name": "Python 3",
      "name": "python3"
    },
    "accelerator": "GPU"
  },
  "cells": [
    {
      "cell_type": "markdown",
      "metadata": {
        "id": "view-in-github",
        "colab_type": "text"
      },
      "source": [
        "<a href=\"https://colab.research.google.com/github/avner8943/bootcamp/blob/master/transfer_learnning_pytorch.ipynb\" target=\"_parent\"><img src=\"https://colab.research.google.com/assets/colab-badge.svg\" alt=\"Open In Colab\"/></a>"
      ]
    },
    {
      "cell_type": "code",
      "metadata": {
        "id": "lIYdn1woOS1n"
      },
      "source": [
        "from __future__ import print_function, division\n",
        "import os\n",
        "import torch\n",
        "import pandas as pd\n",
        "from skimage import io, transform\n",
        "import numpy as np\n",
        "import matplotlib.pyplot as plt\n",
        "from torch.utils.data import Dataset, DataLoader\n",
        "from torchvision import transforms, utils\n",
        "import torchvision\n"
      ],
      "execution_count": 2,
      "outputs": []
    },
    {
      "cell_type": "code",
      "metadata": {
        "id": "SaT5u-824NDj"
      },
      "source": [
        "import torch\n",
        "import torch.nn as nn\n",
        "import torch.nn.functional as F\n",
        "\n",
        "import numpy as np\n",
        "\n",
        "\n",
        "class LeNet5(nn.Module):\n",
        "\n",
        "    def __init__(self, n_classes):\n",
        "        super(LeNet5, self).__init__()\n",
        "        \n",
        "        \n",
        "\n",
        "        self.conv1 = nn.Conv2d(3, 6, 5)\n",
        "\n",
        "        self.conv2 = nn.Conv2d(6, 16, 5)\n",
        "\n",
        "        # randomly select number of feagtures\n",
        "        fet1 = np.random.randint(100, 400)\n",
        "\n",
        "        fet2 = np.random.randint(100, 400)\n",
        "\n",
        "        \n",
        "        self.fc1 = nn.Linear(in_features= 16 * 5 * 5, out_features=fet1)  # 6*6 from image dimension\n",
        "        \n",
        "        self.fc2 = nn.Linear(in_features=fet1, out_features=fet2)\n",
        "\n",
        "        self.fc3 = nn.Linear(in_features=fet2, out_features=n_classes)\n",
        "    \n",
        "    def forward(self, x):\n",
        "\n",
        "        x = F.max_pool2d(torch.relu(self.conv1(x)), kernel_size=2)\n",
        "        x = F.max_pool2d(torch.relu(self.conv2(x)), kernel_size=2)\n",
        "  \n",
        "        x = x.view(-1, 16 * 5 * 5)\n",
        "        x = F.relu(self.fc1(x))\n",
        "        x = F.relu(self.fc2(x))\n",
        "\n",
        "        x = self.fc3(x)\n",
        "\n",
        "        return x"
      ],
      "execution_count": 3,
      "outputs": []
    },
    {
      "cell_type": "code",
      "metadata": {
        "id": "cig7g4yJzpbc"
      },
      "source": [
        "class im_resize(object):\n",
        "\n",
        "  def __init__(self, o_shape = (3,32,32)):\n",
        "    self.o_shape = o_shape\n",
        "\n",
        "\n",
        "\n",
        "  def __call__(self, im):\n",
        "\n",
        "    c, h, w = self.o_shape\n",
        "    new_im = transforms.Resize(im, (c,h, w))\n",
        "\n",
        "    return new_im"
      ],
      "execution_count": 65,
      "outputs": []
    },
    {
      "cell_type": "code",
      "metadata": {
        "id": "eAdLPfJKycuC"
      },
      "source": [
        "def data_loader_CIFAR10():\n",
        "\n",
        "  transform = transforms.Compose(\n",
        "      [transforms.ToTensor(),\n",
        "       transforms.RandomHorizontalFlip(p=0.5),\n",
        "       transforms.Resize((32,32)),\n",
        "       transforms.Normalize((0.5, 0.5, 0.5), (0.5, 0.5, 0.5))])\n",
        "\n",
        "  train_set = torchvision.datasets.CIFAR10(root='./data', train=True,\n",
        "                                          download=True, transform=transform)\n",
        "  train_loader = torch.utils.data.DataLoader(train_set, batch_size=4,\n",
        "                                            shuffle=True, num_workers=2)\n",
        "\n",
        "  test_set = torchvision.datasets.CIFAR10(root='./data', train=False,\n",
        "                                        download=True, transform=transform)\n",
        "  test_loader = torch.utils.data.DataLoader(test_set, batch_size=4,\n",
        "                                          shuffle=False, num_workers=2)\n",
        "  classes = ('plane', 'car', 'bird', 'cat',\n",
        "           'deer', 'dog', 'frog', 'horse', 'ship', 'truck')\n",
        "  return train_set, train_loader, test_set, test_loader, classes"
      ],
      "execution_count": 11,
      "outputs": []
    },
    {
      "cell_type": "code",
      "metadata": {
        "id": "BzvthxcD4DM9",
        "outputId": "ec6f31ab-12e7-432e-a38c-9ae194965e79",
        "colab": {
          "base_uri": "https://localhost:8080/"
        }
      },
      "source": [
        "import torch.optim as optim\n",
        "\n",
        "train_set, train_loader, test_set, test_loader, classes = data_loader_CIFAR10()\n",
        "print(train_loader)\n",
        "\n",
        "net = LeNet5(len(classes))\n",
        "criterion = nn.CrossEntropyLoss()\n",
        "optimizer = optim.SGD(net.parameters(), lr=0.001, momentum=0.9)"
      ],
      "execution_count": 12,
      "outputs": [
        {
          "output_type": "stream",
          "text": [
            "Files already downloaded and verified\n",
            "Files already downloaded and verified\n",
            "<torch.utils.data.dataloader.DataLoader object at 0x7f55c5ac26d8>\n"
          ],
          "name": "stdout"
        }
      ]
    },
    {
      "cell_type": "code",
      "metadata": {
        "id": "bhHrfomK4Fu0",
        "outputId": "eabf95cd-f5a7-42fb-e93b-3817efafa99a",
        "colab": {
          "base_uri": "https://localhost:8080/",
          "height": 1000
        }
      },
      "source": [
        "# train model\n",
        "for epoch in range(2):  # loop over the dataset multiple times\n",
        "\n",
        "    running_loss = 0.0\n",
        "    for i, data in enumerate(train_loader, 0):\n",
        "        # get the inputs; data is a list of [inputs, labels]\n",
        "        inputs, labels = data\n",
        "\n",
        "        # zero the parameter gradients\n",
        "        optimizer.zero_grad()\n",
        "\n",
        "        # forward + backward + optimize\n",
        "        outputs = net(inputs)\n",
        "        #print(outputs.shape, inputs.shape, labels.shape)\n",
        "        loss = criterion(outputs, labels)\n",
        "        loss.backward()\n",
        "        optimizer.step()\n",
        "\n",
        "        # print statistics\n",
        "        running_loss += loss.item()\n",
        "        if i % 2000 == 1999:    # print every 2000 mini-batches\n",
        "            print('[%d, %5d] loss: %.3f' %\n",
        "                  (epoch + 1, i + 1, running_loss / 2000))\n",
        "            running_loss = 0.0"
      ],
      "execution_count": 33,
      "outputs": [
        {
          "output_type": "stream",
          "text": [
            "torch.Size([4, 10]) torch.Size([4, 3, 32, 32]) torch.Size([4])\n",
            "torch.Size([4, 10]) torch.Size([4, 3, 32, 32]) torch.Size([4])\n",
            "torch.Size([4, 10]) torch.Size([4, 3, 32, 32]) torch.Size([4])\n",
            "torch.Size([4, 10]) torch.Size([4, 3, 32, 32]) torch.Size([4])\n",
            "torch.Size([4, 10]) torch.Size([4, 3, 32, 32]) torch.Size([4])\n",
            "torch.Size([4, 10]) torch.Size([4, 3, 32, 32]) torch.Size([4])\n",
            "torch.Size([4, 10]) torch.Size([4, 3, 32, 32]) torch.Size([4])\n",
            "torch.Size([4, 10]) torch.Size([4, 3, 32, 32]) torch.Size([4])\n",
            "torch.Size([4, 10]) torch.Size([4, 3, 32, 32]) torch.Size([4])\n",
            "torch.Size([4, 10]) torch.Size([4, 3, 32, 32]) torch.Size([4])\n",
            "torch.Size([4, 10]) torch.Size([4, 3, 32, 32]) torch.Size([4])\n",
            "torch.Size([4, 10]) torch.Size([4, 3, 32, 32]) torch.Size([4])\n",
            "torch.Size([4, 10]) torch.Size([4, 3, 32, 32]) torch.Size([4])\n",
            "torch.Size([4, 10]) torch.Size([4, 3, 32, 32]) torch.Size([4])\n",
            "torch.Size([4, 10]) torch.Size([4, 3, 32, 32]) torch.Size([4])\n",
            "torch.Size([4, 10]) torch.Size([4, 3, 32, 32]) torch.Size([4])\n",
            "torch.Size([4, 10]) torch.Size([4, 3, 32, 32]) torch.Size([4])\n",
            "torch.Size([4, 10]) torch.Size([4, 3, 32, 32]) torch.Size([4])\n",
            "torch.Size([4, 10]) torch.Size([4, 3, 32, 32]) torch.Size([4])\n",
            "torch.Size([4, 10]) torch.Size([4, 3, 32, 32]) torch.Size([4])\n",
            "torch.Size([4, 10]) torch.Size([4, 3, 32, 32]) torch.Size([4])\n",
            "torch.Size([4, 10]) torch.Size([4, 3, 32, 32]) torch.Size([4])\n",
            "torch.Size([4, 10]) torch.Size([4, 3, 32, 32]) torch.Size([4])\n",
            "torch.Size([4, 10]) torch.Size([4, 3, 32, 32]) torch.Size([4])\n",
            "torch.Size([4, 10]) torch.Size([4, 3, 32, 32]) torch.Size([4])\n",
            "torch.Size([4, 10]) torch.Size([4, 3, 32, 32]) torch.Size([4])\n",
            "torch.Size([4, 10]) torch.Size([4, 3, 32, 32]) torch.Size([4])\n",
            "torch.Size([4, 10]) torch.Size([4, 3, 32, 32]) torch.Size([4])\n",
            "torch.Size([4, 10]) torch.Size([4, 3, 32, 32]) torch.Size([4])\n",
            "torch.Size([4, 10]) torch.Size([4, 3, 32, 32]) torch.Size([4])\n",
            "torch.Size([4, 10]) torch.Size([4, 3, 32, 32]) torch.Size([4])\n",
            "torch.Size([4, 10]) torch.Size([4, 3, 32, 32]) torch.Size([4])\n",
            "torch.Size([4, 10]) torch.Size([4, 3, 32, 32]) torch.Size([4])\n",
            "torch.Size([4, 10]) torch.Size([4, 3, 32, 32]) torch.Size([4])\n",
            "torch.Size([4, 10]) torch.Size([4, 3, 32, 32]) torch.Size([4])\n",
            "torch.Size([4, 10]) torch.Size([4, 3, 32, 32]) torch.Size([4])\n",
            "torch.Size([4, 10]) torch.Size([4, 3, 32, 32]) torch.Size([4])\n",
            "torch.Size([4, 10]) torch.Size([4, 3, 32, 32]) torch.Size([4])\n",
            "torch.Size([4, 10]) torch.Size([4, 3, 32, 32]) torch.Size([4])\n",
            "torch.Size([4, 10]) torch.Size([4, 3, 32, 32]) torch.Size([4])\n",
            "torch.Size([4, 10]) torch.Size([4, 3, 32, 32]) torch.Size([4])\n",
            "torch.Size([4, 10]) torch.Size([4, 3, 32, 32]) torch.Size([4])\n",
            "torch.Size([4, 10]) torch.Size([4, 3, 32, 32]) torch.Size([4])\n",
            "torch.Size([4, 10]) torch.Size([4, 3, 32, 32]) torch.Size([4])\n",
            "torch.Size([4, 10]) torch.Size([4, 3, 32, 32]) torch.Size([4])\n",
            "torch.Size([4, 10]) torch.Size([4, 3, 32, 32]) torch.Size([4])\n",
            "torch.Size([4, 10]) torch.Size([4, 3, 32, 32]) torch.Size([4])\n",
            "torch.Size([4, 10]) torch.Size([4, 3, 32, 32]) torch.Size([4])\n",
            "torch.Size([4, 10]) torch.Size([4, 3, 32, 32]) torch.Size([4])\n",
            "torch.Size([4, 10]) torch.Size([4, 3, 32, 32]) torch.Size([4])\n",
            "torch.Size([4, 10]) torch.Size([4, 3, 32, 32]) torch.Size([4])\n",
            "torch.Size([4, 10]) torch.Size([4, 3, 32, 32]) torch.Size([4])\n",
            "torch.Size([4, 10]) torch.Size([4, 3, 32, 32]) torch.Size([4])\n",
            "torch.Size([4, 10]) torch.Size([4, 3, 32, 32]) torch.Size([4])\n",
            "torch.Size([4, 10]) torch.Size([4, 3, 32, 32]) torch.Size([4])\n",
            "torch.Size([4, 10]) torch.Size([4, 3, 32, 32]) torch.Size([4])\n",
            "torch.Size([4, 10]) torch.Size([4, 3, 32, 32]) torch.Size([4])\n",
            "torch.Size([4, 10]) torch.Size([4, 3, 32, 32]) torch.Size([4])\n",
            "torch.Size([4, 10]) torch.Size([4, 3, 32, 32]) torch.Size([4])\n",
            "torch.Size([4, 10]) torch.Size([4, 3, 32, 32]) torch.Size([4])\n",
            "torch.Size([4, 10]) torch.Size([4, 3, 32, 32]) torch.Size([4])\n",
            "torch.Size([4, 10]) torch.Size([4, 3, 32, 32]) torch.Size([4])\n",
            "torch.Size([4, 10]) torch.Size([4, 3, 32, 32]) torch.Size([4])\n",
            "torch.Size([4, 10]) torch.Size([4, 3, 32, 32]) torch.Size([4])\n",
            "torch.Size([4, 10]) torch.Size([4, 3, 32, 32]) torch.Size([4])\n",
            "torch.Size([4, 10]) torch.Size([4, 3, 32, 32]) torch.Size([4])\n",
            "torch.Size([4, 10]) torch.Size([4, 3, 32, 32]) torch.Size([4])\n",
            "torch.Size([4, 10]) torch.Size([4, 3, 32, 32]) torch.Size([4])\n",
            "torch.Size([4, 10]) torch.Size([4, 3, 32, 32]) torch.Size([4])\n",
            "torch.Size([4, 10]) torch.Size([4, 3, 32, 32]) torch.Size([4])\n",
            "torch.Size([4, 10]) torch.Size([4, 3, 32, 32]) torch.Size([4])\n",
            "torch.Size([4, 10]) torch.Size([4, 3, 32, 32]) torch.Size([4])\n",
            "torch.Size([4, 10]) torch.Size([4, 3, 32, 32]) torch.Size([4])\n",
            "torch.Size([4, 10]) torch.Size([4, 3, 32, 32]) torch.Size([4])\n",
            "torch.Size([4, 10]) torch.Size([4, 3, 32, 32]) torch.Size([4])\n",
            "torch.Size([4, 10]) torch.Size([4, 3, 32, 32]) torch.Size([4])\n",
            "torch.Size([4, 10]) torch.Size([4, 3, 32, 32]) torch.Size([4])\n",
            "torch.Size([4, 10]) torch.Size([4, 3, 32, 32]) torch.Size([4])\n",
            "torch.Size([4, 10]) torch.Size([4, 3, 32, 32]) torch.Size([4])\n",
            "torch.Size([4, 10]) torch.Size([4, 3, 32, 32]) torch.Size([4])\n",
            "torch.Size([4, 10]) torch.Size([4, 3, 32, 32]) torch.Size([4])\n",
            "torch.Size([4, 10]) torch.Size([4, 3, 32, 32]) torch.Size([4])\n",
            "torch.Size([4, 10]) torch.Size([4, 3, 32, 32]) torch.Size([4])\n",
            "torch.Size([4, 10]) torch.Size([4, 3, 32, 32]) torch.Size([4])\n",
            "torch.Size([4, 10]) torch.Size([4, 3, 32, 32]) torch.Size([4])\n",
            "torch.Size([4, 10]) torch.Size([4, 3, 32, 32]) torch.Size([4])\n",
            "torch.Size([4, 10]) torch.Size([4, 3, 32, 32]) torch.Size([4])\n",
            "torch.Size([4, 10]) torch.Size([4, 3, 32, 32]) torch.Size([4])\n",
            "torch.Size([4, 10]) torch.Size([4, 3, 32, 32]) torch.Size([4])\n",
            "torch.Size([4, 10]) torch.Size([4, 3, 32, 32]) torch.Size([4])\n",
            "torch.Size([4, 10]) torch.Size([4, 3, 32, 32]) torch.Size([4])\n",
            "torch.Size([4, 10]) torch.Size([4, 3, 32, 32]) torch.Size([4])\n",
            "torch.Size([4, 10]) torch.Size([4, 3, 32, 32]) torch.Size([4])\n",
            "torch.Size([4, 10]) torch.Size([4, 3, 32, 32]) torch.Size([4])\n",
            "torch.Size([4, 10]) torch.Size([4, 3, 32, 32]) torch.Size([4])\n",
            "torch.Size([4, 10]) torch.Size([4, 3, 32, 32]) torch.Size([4])\n",
            "torch.Size([4, 10]) torch.Size([4, 3, 32, 32]) torch.Size([4])\n",
            "torch.Size([4, 10]) torch.Size([4, 3, 32, 32]) torch.Size([4])\n",
            "torch.Size([4, 10]) torch.Size([4, 3, 32, 32]) torch.Size([4])\n",
            "torch.Size([4, 10]) torch.Size([4, 3, 32, 32]) torch.Size([4])\n",
            "torch.Size([4, 10]) torch.Size([4, 3, 32, 32]) torch.Size([4])\n",
            "torch.Size([4, 10]) torch.Size([4, 3, 32, 32]) torch.Size([4])\n",
            "torch.Size([4, 10]) torch.Size([4, 3, 32, 32]) torch.Size([4])\n",
            "torch.Size([4, 10]) torch.Size([4, 3, 32, 32]) torch.Size([4])\n",
            "torch.Size([4, 10]) torch.Size([4, 3, 32, 32]) torch.Size([4])\n",
            "torch.Size([4, 10]) torch.Size([4, 3, 32, 32]) torch.Size([4])\n",
            "torch.Size([4, 10]) torch.Size([4, 3, 32, 32]) torch.Size([4])\n",
            "torch.Size([4, 10]) torch.Size([4, 3, 32, 32]) torch.Size([4])\n",
            "torch.Size([4, 10]) torch.Size([4, 3, 32, 32]) torch.Size([4])\n",
            "torch.Size([4, 10]) torch.Size([4, 3, 32, 32]) torch.Size([4])\n",
            "torch.Size([4, 10]) torch.Size([4, 3, 32, 32]) torch.Size([4])\n",
            "torch.Size([4, 10]) torch.Size([4, 3, 32, 32]) torch.Size([4])\n",
            "torch.Size([4, 10]) torch.Size([4, 3, 32, 32]) torch.Size([4])\n",
            "torch.Size([4, 10]) torch.Size([4, 3, 32, 32]) torch.Size([4])\n",
            "torch.Size([4, 10]) torch.Size([4, 3, 32, 32]) torch.Size([4])\n",
            "torch.Size([4, 10]) torch.Size([4, 3, 32, 32]) torch.Size([4])\n",
            "torch.Size([4, 10]) torch.Size([4, 3, 32, 32]) torch.Size([4])\n",
            "torch.Size([4, 10]) torch.Size([4, 3, 32, 32]) torch.Size([4])\n",
            "torch.Size([4, 10]) torch.Size([4, 3, 32, 32]) torch.Size([4])\n",
            "torch.Size([4, 10]) torch.Size([4, 3, 32, 32]) torch.Size([4])\n",
            "torch.Size([4, 10]) torch.Size([4, 3, 32, 32]) torch.Size([4])\n",
            "torch.Size([4, 10]) torch.Size([4, 3, 32, 32]) torch.Size([4])\n",
            "torch.Size([4, 10]) torch.Size([4, 3, 32, 32]) torch.Size([4])\n",
            "torch.Size([4, 10]) torch.Size([4, 3, 32, 32]) torch.Size([4])\n",
            "torch.Size([4, 10]) torch.Size([4, 3, 32, 32]) torch.Size([4])\n",
            "torch.Size([4, 10]) torch.Size([4, 3, 32, 32]) torch.Size([4])\n",
            "torch.Size([4, 10]) torch.Size([4, 3, 32, 32]) torch.Size([4])\n",
            "torch.Size([4, 10]) torch.Size([4, 3, 32, 32]) torch.Size([4])\n",
            "torch.Size([4, 10]) torch.Size([4, 3, 32, 32]) torch.Size([4])\n",
            "torch.Size([4, 10]) torch.Size([4, 3, 32, 32]) torch.Size([4])\n",
            "torch.Size([4, 10]) torch.Size([4, 3, 32, 32]) torch.Size([4])\n",
            "torch.Size([4, 10]) torch.Size([4, 3, 32, 32]) torch.Size([4])\n",
            "torch.Size([4, 10]) torch.Size([4, 3, 32, 32]) torch.Size([4])\n",
            "torch.Size([4, 10]) torch.Size([4, 3, 32, 32]) torch.Size([4])\n",
            "torch.Size([4, 10]) torch.Size([4, 3, 32, 32]) torch.Size([4])\n",
            "torch.Size([4, 10]) torch.Size([4, 3, 32, 32]) torch.Size([4])\n",
            "torch.Size([4, 10]) torch.Size([4, 3, 32, 32]) torch.Size([4])\n",
            "torch.Size([4, 10]) torch.Size([4, 3, 32, 32]) torch.Size([4])\n",
            "torch.Size([4, 10]) torch.Size([4, 3, 32, 32]) torch.Size([4])\n",
            "torch.Size([4, 10]) torch.Size([4, 3, 32, 32]) torch.Size([4])\n",
            "torch.Size([4, 10]) torch.Size([4, 3, 32, 32]) torch.Size([4])\n",
            "torch.Size([4, 10]) torch.Size([4, 3, 32, 32]) torch.Size([4])\n",
            "torch.Size([4, 10]) torch.Size([4, 3, 32, 32]) torch.Size([4])\n",
            "torch.Size([4, 10]) torch.Size([4, 3, 32, 32]) torch.Size([4])\n",
            "torch.Size([4, 10]) torch.Size([4, 3, 32, 32]) torch.Size([4])\n",
            "torch.Size([4, 10]) torch.Size([4, 3, 32, 32]) torch.Size([4])\n",
            "torch.Size([4, 10]) torch.Size([4, 3, 32, 32]) torch.Size([4])\n",
            "torch.Size([4, 10]) torch.Size([4, 3, 32, 32]) torch.Size([4])\n",
            "torch.Size([4, 10]) torch.Size([4, 3, 32, 32]) torch.Size([4])\n",
            "torch.Size([4, 10]) torch.Size([4, 3, 32, 32]) torch.Size([4])\n",
            "torch.Size([4, 10]) torch.Size([4, 3, 32, 32]) torch.Size([4])\n",
            "torch.Size([4, 10]) torch.Size([4, 3, 32, 32]) torch.Size([4])\n",
            "torch.Size([4, 10]) torch.Size([4, 3, 32, 32]) torch.Size([4])\n",
            "torch.Size([4, 10]) torch.Size([4, 3, 32, 32]) torch.Size([4])\n",
            "torch.Size([4, 10]) torch.Size([4, 3, 32, 32]) torch.Size([4])\n",
            "torch.Size([4, 10]) torch.Size([4, 3, 32, 32]) torch.Size([4])\n",
            "torch.Size([4, 10]) torch.Size([4, 3, 32, 32]) torch.Size([4])\n",
            "torch.Size([4, 10]) torch.Size([4, 3, 32, 32]) torch.Size([4])\n",
            "torch.Size([4, 10]) torch.Size([4, 3, 32, 32]) torch.Size([4])\n",
            "torch.Size([4, 10]) torch.Size([4, 3, 32, 32]) torch.Size([4])\n",
            "torch.Size([4, 10]) torch.Size([4, 3, 32, 32]) torch.Size([4])\n",
            "torch.Size([4, 10]) torch.Size([4, 3, 32, 32]) torch.Size([4])\n",
            "torch.Size([4, 10]) torch.Size([4, 3, 32, 32]) torch.Size([4])\n",
            "torch.Size([4, 10]) torch.Size([4, 3, 32, 32]) torch.Size([4])\n",
            "torch.Size([4, 10]) torch.Size([4, 3, 32, 32]) torch.Size([4])\n",
            "torch.Size([4, 10]) torch.Size([4, 3, 32, 32]) torch.Size([4])\n",
            "torch.Size([4, 10]) torch.Size([4, 3, 32, 32]) torch.Size([4])\n",
            "torch.Size([4, 10]) torch.Size([4, 3, 32, 32]) torch.Size([4])\n",
            "torch.Size([4, 10]) torch.Size([4, 3, 32, 32]) torch.Size([4])\n",
            "torch.Size([4, 10]) torch.Size([4, 3, 32, 32]) torch.Size([4])\n",
            "torch.Size([4, 10]) torch.Size([4, 3, 32, 32]) torch.Size([4])\n",
            "torch.Size([4, 10]) torch.Size([4, 3, 32, 32]) torch.Size([4])\n",
            "torch.Size([4, 10]) torch.Size([4, 3, 32, 32]) torch.Size([4])\n",
            "torch.Size([4, 10]) torch.Size([4, 3, 32, 32]) torch.Size([4])\n",
            "torch.Size([4, 10]) torch.Size([4, 3, 32, 32]) torch.Size([4])\n",
            "torch.Size([4, 10]) torch.Size([4, 3, 32, 32]) torch.Size([4])\n",
            "torch.Size([4, 10]) torch.Size([4, 3, 32, 32]) torch.Size([4])\n",
            "torch.Size([4, 10]) torch.Size([4, 3, 32, 32]) torch.Size([4])\n",
            "torch.Size([4, 10]) torch.Size([4, 3, 32, 32]) torch.Size([4])\n",
            "torch.Size([4, 10]) torch.Size([4, 3, 32, 32]) torch.Size([4])\n",
            "torch.Size([4, 10]) torch.Size([4, 3, 32, 32]) torch.Size([4])\n",
            "torch.Size([4, 10]) torch.Size([4, 3, 32, 32]) torch.Size([4])\n",
            "torch.Size([4, 10]) torch.Size([4, 3, 32, 32]) torch.Size([4])\n",
            "torch.Size([4, 10]) torch.Size([4, 3, 32, 32]) torch.Size([4])\n",
            "torch.Size([4, 10]) torch.Size([4, 3, 32, 32]) torch.Size([4])\n",
            "torch.Size([4, 10]) torch.Size([4, 3, 32, 32]) torch.Size([4])\n",
            "torch.Size([4, 10]) torch.Size([4, 3, 32, 32]) torch.Size([4])\n",
            "torch.Size([4, 10]) torch.Size([4, 3, 32, 32]) torch.Size([4])\n",
            "torch.Size([4, 10]) torch.Size([4, 3, 32, 32]) torch.Size([4])\n",
            "torch.Size([4, 10]) torch.Size([4, 3, 32, 32]) torch.Size([4])\n",
            "torch.Size([4, 10]) torch.Size([4, 3, 32, 32]) torch.Size([4])\n",
            "torch.Size([4, 10]) torch.Size([4, 3, 32, 32]) torch.Size([4])\n",
            "torch.Size([4, 10]) torch.Size([4, 3, 32, 32]) torch.Size([4])\n",
            "torch.Size([4, 10]) torch.Size([4, 3, 32, 32]) torch.Size([4])\n",
            "torch.Size([4, 10]) torch.Size([4, 3, 32, 32]) torch.Size([4])\n",
            "torch.Size([4, 10]) torch.Size([4, 3, 32, 32]) torch.Size([4])\n",
            "torch.Size([4, 10]) torch.Size([4, 3, 32, 32]) torch.Size([4])\n",
            "torch.Size([4, 10]) torch.Size([4, 3, 32, 32]) torch.Size([4])\n",
            "torch.Size([4, 10]) torch.Size([4, 3, 32, 32]) torch.Size([4])\n",
            "torch.Size([4, 10]) torch.Size([4, 3, 32, 32]) torch.Size([4])\n",
            "torch.Size([4, 10]) torch.Size([4, 3, 32, 32]) torch.Size([4])\n",
            "torch.Size([4, 10]) torch.Size([4, 3, 32, 32]) torch.Size([4])\n",
            "torch.Size([4, 10]) torch.Size([4, 3, 32, 32]) torch.Size([4])\n",
            "torch.Size([4, 10]) torch.Size([4, 3, 32, 32]) torch.Size([4])\n",
            "torch.Size([4, 10]) torch.Size([4, 3, 32, 32]) torch.Size([4])\n",
            "torch.Size([4, 10]) torch.Size([4, 3, 32, 32]) torch.Size([4])\n",
            "torch.Size([4, 10]) torch.Size([4, 3, 32, 32]) torch.Size([4])\n",
            "torch.Size([4, 10]) torch.Size([4, 3, 32, 32]) torch.Size([4])\n",
            "torch.Size([4, 10]) torch.Size([4, 3, 32, 32]) torch.Size([4])\n",
            "torch.Size([4, 10]) torch.Size([4, 3, 32, 32]) torch.Size([4])\n",
            "torch.Size([4, 10]) torch.Size([4, 3, 32, 32]) torch.Size([4])\n",
            "torch.Size([4, 10]) torch.Size([4, 3, 32, 32]) torch.Size([4])\n",
            "torch.Size([4, 10]) torch.Size([4, 3, 32, 32]) torch.Size([4])\n",
            "torch.Size([4, 10]) torch.Size([4, 3, 32, 32]) torch.Size([4])\n",
            "torch.Size([4, 10]) torch.Size([4, 3, 32, 32]) torch.Size([4])\n",
            "torch.Size([4, 10]) torch.Size([4, 3, 32, 32]) torch.Size([4])\n",
            "torch.Size([4, 10]) torch.Size([4, 3, 32, 32]) torch.Size([4])\n",
            "torch.Size([4, 10]) torch.Size([4, 3, 32, 32]) torch.Size([4])\n",
            "torch.Size([4, 10]) torch.Size([4, 3, 32, 32]) torch.Size([4])\n",
            "torch.Size([4, 10]) torch.Size([4, 3, 32, 32]) torch.Size([4])\n",
            "torch.Size([4, 10]) torch.Size([4, 3, 32, 32]) torch.Size([4])\n",
            "torch.Size([4, 10]) torch.Size([4, 3, 32, 32]) torch.Size([4])\n",
            "torch.Size([4, 10]) torch.Size([4, 3, 32, 32]) torch.Size([4])\n",
            "torch.Size([4, 10]) torch.Size([4, 3, 32, 32]) torch.Size([4])\n",
            "torch.Size([4, 10]) torch.Size([4, 3, 32, 32]) torch.Size([4])\n",
            "torch.Size([4, 10]) torch.Size([4, 3, 32, 32]) torch.Size([4])\n",
            "torch.Size([4, 10]) torch.Size([4, 3, 32, 32]) torch.Size([4])\n",
            "torch.Size([4, 10]) torch.Size([4, 3, 32, 32]) torch.Size([4])\n",
            "torch.Size([4, 10]) torch.Size([4, 3, 32, 32]) torch.Size([4])\n",
            "torch.Size([4, 10]) torch.Size([4, 3, 32, 32]) torch.Size([4])\n",
            "torch.Size([4, 10]) torch.Size([4, 3, 32, 32]) torch.Size([4])\n",
            "torch.Size([4, 10]) torch.Size([4, 3, 32, 32]) torch.Size([4])\n",
            "torch.Size([4, 10]) torch.Size([4, 3, 32, 32]) torch.Size([4])\n",
            "torch.Size([4, 10]) torch.Size([4, 3, 32, 32]) torch.Size([4])\n",
            "torch.Size([4, 10]) torch.Size([4, 3, 32, 32]) torch.Size([4])\n",
            "torch.Size([4, 10]) torch.Size([4, 3, 32, 32]) torch.Size([4])\n",
            "torch.Size([4, 10]) torch.Size([4, 3, 32, 32]) torch.Size([4])\n",
            "torch.Size([4, 10]) torch.Size([4, 3, 32, 32]) torch.Size([4])\n",
            "torch.Size([4, 10]) torch.Size([4, 3, 32, 32]) torch.Size([4])\n",
            "torch.Size([4, 10]) torch.Size([4, 3, 32, 32]) torch.Size([4])\n",
            "torch.Size([4, 10]) torch.Size([4, 3, 32, 32]) torch.Size([4])\n",
            "torch.Size([4, 10]) torch.Size([4, 3, 32, 32]) torch.Size([4])\n",
            "torch.Size([4, 10]) torch.Size([4, 3, 32, 32]) torch.Size([4])\n",
            "torch.Size([4, 10]) torch.Size([4, 3, 32, 32]) torch.Size([4])\n",
            "torch.Size([4, 10]) torch.Size([4, 3, 32, 32]) torch.Size([4])\n",
            "torch.Size([4, 10]) torch.Size([4, 3, 32, 32]) torch.Size([4])\n",
            "torch.Size([4, 10]) torch.Size([4, 3, 32, 32]) torch.Size([4])\n",
            "torch.Size([4, 10]) torch.Size([4, 3, 32, 32]) torch.Size([4])\n",
            "torch.Size([4, 10]) torch.Size([4, 3, 32, 32]) torch.Size([4])\n",
            "torch.Size([4, 10]) torch.Size([4, 3, 32, 32]) torch.Size([4])\n",
            "torch.Size([4, 10]) torch.Size([4, 3, 32, 32]) torch.Size([4])\n",
            "torch.Size([4, 10]) torch.Size([4, 3, 32, 32]) torch.Size([4])\n",
            "torch.Size([4, 10]) torch.Size([4, 3, 32, 32]) torch.Size([4])\n",
            "torch.Size([4, 10]) torch.Size([4, 3, 32, 32]) torch.Size([4])\n",
            "torch.Size([4, 10]) torch.Size([4, 3, 32, 32]) torch.Size([4])\n",
            "torch.Size([4, 10]) torch.Size([4, 3, 32, 32]) torch.Size([4])\n",
            "torch.Size([4, 10]) torch.Size([4, 3, 32, 32]) torch.Size([4])\n",
            "torch.Size([4, 10]) torch.Size([4, 3, 32, 32]) torch.Size([4])\n",
            "torch.Size([4, 10]) torch.Size([4, 3, 32, 32]) torch.Size([4])\n",
            "torch.Size([4, 10]) torch.Size([4, 3, 32, 32]) torch.Size([4])\n",
            "torch.Size([4, 10]) torch.Size([4, 3, 32, 32]) torch.Size([4])\n",
            "torch.Size([4, 10]) torch.Size([4, 3, 32, 32]) torch.Size([4])\n",
            "torch.Size([4, 10]) torch.Size([4, 3, 32, 32]) torch.Size([4])\n",
            "torch.Size([4, 10]) torch.Size([4, 3, 32, 32]) torch.Size([4])\n",
            "torch.Size([4, 10]) torch.Size([4, 3, 32, 32]) torch.Size([4])\n",
            "torch.Size([4, 10]) torch.Size([4, 3, 32, 32]) torch.Size([4])\n",
            "torch.Size([4, 10]) torch.Size([4, 3, 32, 32]) torch.Size([4])\n",
            "torch.Size([4, 10]) torch.Size([4, 3, 32, 32]) torch.Size([4])\n",
            "torch.Size([4, 10]) torch.Size([4, 3, 32, 32]) torch.Size([4])\n",
            "torch.Size([4, 10]) torch.Size([4, 3, 32, 32]) torch.Size([4])\n",
            "torch.Size([4, 10]) torch.Size([4, 3, 32, 32]) torch.Size([4])\n",
            "torch.Size([4, 10]) torch.Size([4, 3, 32, 32]) torch.Size([4])\n",
            "torch.Size([4, 10]) torch.Size([4, 3, 32, 32]) torch.Size([4])\n",
            "torch.Size([4, 10]) torch.Size([4, 3, 32, 32]) torch.Size([4])\n",
            "torch.Size([4, 10]) torch.Size([4, 3, 32, 32]) torch.Size([4])\n",
            "torch.Size([4, 10]) torch.Size([4, 3, 32, 32]) torch.Size([4])\n",
            "torch.Size([4, 10]) torch.Size([4, 3, 32, 32]) torch.Size([4])\n",
            "torch.Size([4, 10]) torch.Size([4, 3, 32, 32]) torch.Size([4])\n",
            "torch.Size([4, 10]) torch.Size([4, 3, 32, 32]) torch.Size([4])\n",
            "torch.Size([4, 10]) torch.Size([4, 3, 32, 32]) torch.Size([4])\n",
            "torch.Size([4, 10]) torch.Size([4, 3, 32, 32]) torch.Size([4])\n",
            "torch.Size([4, 10]) torch.Size([4, 3, 32, 32]) torch.Size([4])\n",
            "torch.Size([4, 10]) torch.Size([4, 3, 32, 32]) torch.Size([4])\n",
            "torch.Size([4, 10]) torch.Size([4, 3, 32, 32]) torch.Size([4])\n",
            "torch.Size([4, 10]) torch.Size([4, 3, 32, 32]) torch.Size([4])\n",
            "torch.Size([4, 10]) torch.Size([4, 3, 32, 32]) torch.Size([4])\n",
            "torch.Size([4, 10]) torch.Size([4, 3, 32, 32]) torch.Size([4])\n",
            "torch.Size([4, 10]) torch.Size([4, 3, 32, 32]) torch.Size([4])\n",
            "torch.Size([4, 10]) torch.Size([4, 3, 32, 32]) torch.Size([4])\n",
            "torch.Size([4, 10]) torch.Size([4, 3, 32, 32]) torch.Size([4])\n",
            "torch.Size([4, 10]) torch.Size([4, 3, 32, 32]) torch.Size([4])\n",
            "torch.Size([4, 10]) torch.Size([4, 3, 32, 32]) torch.Size([4])\n",
            "torch.Size([4, 10]) torch.Size([4, 3, 32, 32]) torch.Size([4])\n",
            "torch.Size([4, 10]) torch.Size([4, 3, 32, 32]) torch.Size([4])\n",
            "torch.Size([4, 10]) torch.Size([4, 3, 32, 32]) torch.Size([4])\n",
            "torch.Size([4, 10]) torch.Size([4, 3, 32, 32]) torch.Size([4])\n",
            "torch.Size([4, 10]) torch.Size([4, 3, 32, 32]) torch.Size([4])\n",
            "torch.Size([4, 10]) torch.Size([4, 3, 32, 32]) torch.Size([4])\n",
            "torch.Size([4, 10]) torch.Size([4, 3, 32, 32]) torch.Size([4])\n",
            "torch.Size([4, 10]) torch.Size([4, 3, 32, 32]) torch.Size([4])\n",
            "torch.Size([4, 10]) torch.Size([4, 3, 32, 32]) torch.Size([4])\n",
            "torch.Size([4, 10]) torch.Size([4, 3, 32, 32]) torch.Size([4])\n",
            "torch.Size([4, 10]) torch.Size([4, 3, 32, 32]) torch.Size([4])\n",
            "torch.Size([4, 10]) torch.Size([4, 3, 32, 32]) torch.Size([4])\n",
            "torch.Size([4, 10]) torch.Size([4, 3, 32, 32]) torch.Size([4])\n",
            "torch.Size([4, 10]) torch.Size([4, 3, 32, 32]) torch.Size([4])\n",
            "torch.Size([4, 10]) torch.Size([4, 3, 32, 32]) torch.Size([4])\n",
            "torch.Size([4, 10]) torch.Size([4, 3, 32, 32]) torch.Size([4])\n",
            "torch.Size([4, 10]) torch.Size([4, 3, 32, 32]) torch.Size([4])\n",
            "torch.Size([4, 10]) torch.Size([4, 3, 32, 32]) torch.Size([4])\n",
            "torch.Size([4, 10]) torch.Size([4, 3, 32, 32]) torch.Size([4])\n",
            "torch.Size([4, 10]) torch.Size([4, 3, 32, 32]) torch.Size([4])\n",
            "torch.Size([4, 10]) torch.Size([4, 3, 32, 32]) torch.Size([4])\n",
            "torch.Size([4, 10]) torch.Size([4, 3, 32, 32]) torch.Size([4])\n",
            "torch.Size([4, 10]) torch.Size([4, 3, 32, 32]) torch.Size([4])\n",
            "torch.Size([4, 10]) torch.Size([4, 3, 32, 32]) torch.Size([4])\n",
            "torch.Size([4, 10]) torch.Size([4, 3, 32, 32]) torch.Size([4])\n",
            "torch.Size([4, 10]) torch.Size([4, 3, 32, 32]) torch.Size([4])\n",
            "torch.Size([4, 10]) torch.Size([4, 3, 32, 32]) torch.Size([4])\n",
            "torch.Size([4, 10]) torch.Size([4, 3, 32, 32]) torch.Size([4])\n",
            "torch.Size([4, 10]) torch.Size([4, 3, 32, 32]) torch.Size([4])\n",
            "torch.Size([4, 10]) torch.Size([4, 3, 32, 32]) torch.Size([4])\n",
            "torch.Size([4, 10]) torch.Size([4, 3, 32, 32]) torch.Size([4])\n",
            "torch.Size([4, 10]) torch.Size([4, 3, 32, 32]) torch.Size([4])\n",
            "torch.Size([4, 10]) torch.Size([4, 3, 32, 32]) torch.Size([4])\n",
            "torch.Size([4, 10]) torch.Size([4, 3, 32, 32]) torch.Size([4])\n",
            "torch.Size([4, 10]) torch.Size([4, 3, 32, 32]) torch.Size([4])\n",
            "torch.Size([4, 10]) torch.Size([4, 3, 32, 32]) torch.Size([4])\n",
            "torch.Size([4, 10]) torch.Size([4, 3, 32, 32]) torch.Size([4])\n",
            "torch.Size([4, 10]) torch.Size([4, 3, 32, 32]) torch.Size([4])\n",
            "torch.Size([4, 10]) torch.Size([4, 3, 32, 32]) torch.Size([4])\n",
            "torch.Size([4, 10]) torch.Size([4, 3, 32, 32]) torch.Size([4])\n",
            "torch.Size([4, 10]) torch.Size([4, 3, 32, 32]) torch.Size([4])\n",
            "torch.Size([4, 10]) torch.Size([4, 3, 32, 32]) torch.Size([4])\n",
            "torch.Size([4, 10]) torch.Size([4, 3, 32, 32]) torch.Size([4])\n",
            "torch.Size([4, 10]) torch.Size([4, 3, 32, 32]) torch.Size([4])\n",
            "torch.Size([4, 10]) torch.Size([4, 3, 32, 32]) torch.Size([4])\n",
            "torch.Size([4, 10]) torch.Size([4, 3, 32, 32]) torch.Size([4])\n",
            "torch.Size([4, 10]) torch.Size([4, 3, 32, 32]) torch.Size([4])\n",
            "torch.Size([4, 10]) torch.Size([4, 3, 32, 32]) torch.Size([4])\n",
            "torch.Size([4, 10]) torch.Size([4, 3, 32, 32]) torch.Size([4])\n",
            "torch.Size([4, 10]) torch.Size([4, 3, 32, 32]) torch.Size([4])\n",
            "torch.Size([4, 10]) torch.Size([4, 3, 32, 32]) torch.Size([4])\n",
            "torch.Size([4, 10]) torch.Size([4, 3, 32, 32]) torch.Size([4])\n",
            "torch.Size([4, 10]) torch.Size([4, 3, 32, 32]) torch.Size([4])\n",
            "torch.Size([4, 10]) torch.Size([4, 3, 32, 32]) torch.Size([4])\n",
            "torch.Size([4, 10]) torch.Size([4, 3, 32, 32]) torch.Size([4])\n",
            "torch.Size([4, 10]) torch.Size([4, 3, 32, 32]) torch.Size([4])\n",
            "torch.Size([4, 10]) torch.Size([4, 3, 32, 32]) torch.Size([4])\n",
            "torch.Size([4, 10]) torch.Size([4, 3, 32, 32]) torch.Size([4])\n",
            "torch.Size([4, 10]) torch.Size([4, 3, 32, 32]) torch.Size([4])\n",
            "torch.Size([4, 10]) torch.Size([4, 3, 32, 32]) torch.Size([4])\n",
            "torch.Size([4, 10]) torch.Size([4, 3, 32, 32]) torch.Size([4])\n",
            "torch.Size([4, 10]) torch.Size([4, 3, 32, 32]) torch.Size([4])\n",
            "torch.Size([4, 10]) torch.Size([4, 3, 32, 32]) torch.Size([4])\n",
            "torch.Size([4, 10]) torch.Size([4, 3, 32, 32]) torch.Size([4])\n",
            "torch.Size([4, 10]) torch.Size([4, 3, 32, 32]) torch.Size([4])\n",
            "torch.Size([4, 10]) torch.Size([4, 3, 32, 32]) torch.Size([4])\n",
            "torch.Size([4, 10]) torch.Size([4, 3, 32, 32]) torch.Size([4])\n",
            "torch.Size([4, 10]) torch.Size([4, 3, 32, 32]) torch.Size([4])\n",
            "torch.Size([4, 10]) torch.Size([4, 3, 32, 32]) torch.Size([4])\n",
            "torch.Size([4, 10]) torch.Size([4, 3, 32, 32]) torch.Size([4])\n",
            "torch.Size([4, 10]) torch.Size([4, 3, 32, 32]) torch.Size([4])\n",
            "torch.Size([4, 10]) torch.Size([4, 3, 32, 32]) torch.Size([4])\n",
            "torch.Size([4, 10]) torch.Size([4, 3, 32, 32]) torch.Size([4])\n",
            "torch.Size([4, 10]) torch.Size([4, 3, 32, 32]) torch.Size([4])\n",
            "torch.Size([4, 10]) torch.Size([4, 3, 32, 32]) torch.Size([4])\n",
            "torch.Size([4, 10]) torch.Size([4, 3, 32, 32]) torch.Size([4])\n",
            "torch.Size([4, 10]) torch.Size([4, 3, 32, 32]) torch.Size([4])\n",
            "torch.Size([4, 10]) torch.Size([4, 3, 32, 32]) torch.Size([4])\n",
            "torch.Size([4, 10]) torch.Size([4, 3, 32, 32]) torch.Size([4])\n",
            "torch.Size([4, 10]) torch.Size([4, 3, 32, 32]) torch.Size([4])\n",
            "torch.Size([4, 10]) torch.Size([4, 3, 32, 32]) torch.Size([4])\n",
            "torch.Size([4, 10]) torch.Size([4, 3, 32, 32]) torch.Size([4])\n",
            "torch.Size([4, 10]) torch.Size([4, 3, 32, 32]) torch.Size([4])\n",
            "torch.Size([4, 10]) torch.Size([4, 3, 32, 32]) torch.Size([4])\n",
            "torch.Size([4, 10]) torch.Size([4, 3, 32, 32]) torch.Size([4])\n",
            "torch.Size([4, 10]) torch.Size([4, 3, 32, 32]) torch.Size([4])\n",
            "torch.Size([4, 10]) torch.Size([4, 3, 32, 32]) torch.Size([4])\n",
            "torch.Size([4, 10]) torch.Size([4, 3, 32, 32]) torch.Size([4])\n",
            "torch.Size([4, 10]) torch.Size([4, 3, 32, 32]) torch.Size([4])\n",
            "torch.Size([4, 10]) torch.Size([4, 3, 32, 32]) torch.Size([4])\n",
            "torch.Size([4, 10]) torch.Size([4, 3, 32, 32]) torch.Size([4])\n",
            "torch.Size([4, 10]) torch.Size([4, 3, 32, 32]) torch.Size([4])\n",
            "torch.Size([4, 10]) torch.Size([4, 3, 32, 32]) torch.Size([4])\n",
            "torch.Size([4, 10]) torch.Size([4, 3, 32, 32]) torch.Size([4])\n",
            "torch.Size([4, 10]) torch.Size([4, 3, 32, 32]) torch.Size([4])\n",
            "torch.Size([4, 10]) torch.Size([4, 3, 32, 32]) torch.Size([4])\n",
            "torch.Size([4, 10]) torch.Size([4, 3, 32, 32]) torch.Size([4])\n",
            "torch.Size([4, 10]) torch.Size([4, 3, 32, 32]) torch.Size([4])\n",
            "torch.Size([4, 10]) torch.Size([4, 3, 32, 32]) torch.Size([4])\n",
            "torch.Size([4, 10]) torch.Size([4, 3, 32, 32]) torch.Size([4])\n",
            "torch.Size([4, 10]) torch.Size([4, 3, 32, 32]) torch.Size([4])\n",
            "torch.Size([4, 10]) torch.Size([4, 3, 32, 32]) torch.Size([4])\n",
            "torch.Size([4, 10]) torch.Size([4, 3, 32, 32]) torch.Size([4])\n",
            "torch.Size([4, 10]) torch.Size([4, 3, 32, 32]) torch.Size([4])\n",
            "torch.Size([4, 10]) torch.Size([4, 3, 32, 32]) torch.Size([4])\n",
            "torch.Size([4, 10]) torch.Size([4, 3, 32, 32]) torch.Size([4])\n",
            "torch.Size([4, 10]) torch.Size([4, 3, 32, 32]) torch.Size([4])\n",
            "torch.Size([4, 10]) torch.Size([4, 3, 32, 32]) torch.Size([4])\n",
            "torch.Size([4, 10]) torch.Size([4, 3, 32, 32]) torch.Size([4])\n",
            "torch.Size([4, 10]) torch.Size([4, 3, 32, 32]) torch.Size([4])\n",
            "torch.Size([4, 10]) torch.Size([4, 3, 32, 32]) torch.Size([4])\n",
            "torch.Size([4, 10]) torch.Size([4, 3, 32, 32]) torch.Size([4])\n",
            "torch.Size([4, 10]) torch.Size([4, 3, 32, 32]) torch.Size([4])\n",
            "torch.Size([4, 10]) torch.Size([4, 3, 32, 32]) torch.Size([4])\n",
            "torch.Size([4, 10]) torch.Size([4, 3, 32, 32]) torch.Size([4])\n",
            "torch.Size([4, 10]) torch.Size([4, 3, 32, 32]) torch.Size([4])\n",
            "torch.Size([4, 10]) torch.Size([4, 3, 32, 32]) torch.Size([4])\n",
            "torch.Size([4, 10]) torch.Size([4, 3, 32, 32]) torch.Size([4])\n",
            "torch.Size([4, 10]) torch.Size([4, 3, 32, 32]) torch.Size([4])\n",
            "torch.Size([4, 10]) torch.Size([4, 3, 32, 32]) torch.Size([4])\n",
            "torch.Size([4, 10]) torch.Size([4, 3, 32, 32]) torch.Size([4])\n",
            "torch.Size([4, 10]) torch.Size([4, 3, 32, 32]) torch.Size([4])\n",
            "torch.Size([4, 10]) torch.Size([4, 3, 32, 32]) torch.Size([4])\n",
            "torch.Size([4, 10]) torch.Size([4, 3, 32, 32]) torch.Size([4])\n",
            "torch.Size([4, 10]) torch.Size([4, 3, 32, 32]) torch.Size([4])\n",
            "torch.Size([4, 10]) torch.Size([4, 3, 32, 32]) torch.Size([4])\n",
            "torch.Size([4, 10]) torch.Size([4, 3, 32, 32]) torch.Size([4])\n",
            "torch.Size([4, 10]) torch.Size([4, 3, 32, 32]) torch.Size([4])\n",
            "torch.Size([4, 10]) torch.Size([4, 3, 32, 32]) torch.Size([4])\n",
            "torch.Size([4, 10]) torch.Size([4, 3, 32, 32]) torch.Size([4])\n",
            "torch.Size([4, 10]) torch.Size([4, 3, 32, 32]) torch.Size([4])\n",
            "torch.Size([4, 10]) torch.Size([4, 3, 32, 32]) torch.Size([4])\n",
            "torch.Size([4, 10]) torch.Size([4, 3, 32, 32]) torch.Size([4])\n",
            "torch.Size([4, 10]) torch.Size([4, 3, 32, 32]) torch.Size([4])\n",
            "torch.Size([4, 10]) torch.Size([4, 3, 32, 32]) torch.Size([4])\n",
            "torch.Size([4, 10]) torch.Size([4, 3, 32, 32]) torch.Size([4])\n",
            "torch.Size([4, 10]) torch.Size([4, 3, 32, 32]) torch.Size([4])\n",
            "torch.Size([4, 10]) torch.Size([4, 3, 32, 32]) torch.Size([4])\n",
            "torch.Size([4, 10]) torch.Size([4, 3, 32, 32]) torch.Size([4])\n",
            "torch.Size([4, 10]) torch.Size([4, 3, 32, 32]) torch.Size([4])\n",
            "torch.Size([4, 10]) torch.Size([4, 3, 32, 32]) torch.Size([4])\n",
            "torch.Size([4, 10]) torch.Size([4, 3, 32, 32]) torch.Size([4])\n",
            "torch.Size([4, 10]) torch.Size([4, 3, 32, 32]) torch.Size([4])\n",
            "torch.Size([4, 10]) torch.Size([4, 3, 32, 32]) torch.Size([4])\n",
            "torch.Size([4, 10]) torch.Size([4, 3, 32, 32]) torch.Size([4])\n",
            "torch.Size([4, 10]) torch.Size([4, 3, 32, 32]) torch.Size([4])\n",
            "torch.Size([4, 10]) torch.Size([4, 3, 32, 32]) torch.Size([4])\n",
            "torch.Size([4, 10]) torch.Size([4, 3, 32, 32]) torch.Size([4])\n",
            "torch.Size([4, 10]) torch.Size([4, 3, 32, 32]) torch.Size([4])\n",
            "torch.Size([4, 10]) torch.Size([4, 3, 32, 32]) torch.Size([4])\n",
            "torch.Size([4, 10]) torch.Size([4, 3, 32, 32]) torch.Size([4])\n",
            "torch.Size([4, 10]) torch.Size([4, 3, 32, 32]) torch.Size([4])\n",
            "torch.Size([4, 10]) torch.Size([4, 3, 32, 32]) torch.Size([4])\n",
            "torch.Size([4, 10]) torch.Size([4, 3, 32, 32]) torch.Size([4])\n",
            "torch.Size([4, 10]) torch.Size([4, 3, 32, 32]) torch.Size([4])\n",
            "torch.Size([4, 10]) torch.Size([4, 3, 32, 32]) torch.Size([4])\n"
          ],
          "name": "stdout"
        },
        {
          "output_type": "error",
          "ename": "KeyboardInterrupt",
          "evalue": "ignored",
          "traceback": [
            "\u001b[0;31m---------------------------------------------------------------------------\u001b[0m",
            "\u001b[0;31mKeyboardInterrupt\u001b[0m                         Traceback (most recent call last)",
            "\u001b[0;32m<ipython-input-33-25b6f859eb89>\u001b[0m in \u001b[0;36m<module>\u001b[0;34m()\u001b[0m\n\u001b[1;32m     11\u001b[0m \u001b[0;34m\u001b[0m\u001b[0m\n\u001b[1;32m     12\u001b[0m         \u001b[0;31m# forward + backward + optimize\u001b[0m\u001b[0;34m\u001b[0m\u001b[0;34m\u001b[0m\u001b[0;34m\u001b[0m\u001b[0m\n\u001b[0;32m---> 13\u001b[0;31m         \u001b[0moutputs\u001b[0m \u001b[0;34m=\u001b[0m \u001b[0mnet\u001b[0m\u001b[0;34m(\u001b[0m\u001b[0minputs\u001b[0m\u001b[0;34m)\u001b[0m\u001b[0;34m\u001b[0m\u001b[0;34m\u001b[0m\u001b[0m\n\u001b[0m\u001b[1;32m     14\u001b[0m         \u001b[0mprint\u001b[0m\u001b[0;34m(\u001b[0m\u001b[0moutputs\u001b[0m\u001b[0;34m.\u001b[0m\u001b[0mshape\u001b[0m\u001b[0;34m,\u001b[0m \u001b[0minputs\u001b[0m\u001b[0;34m.\u001b[0m\u001b[0mshape\u001b[0m\u001b[0;34m,\u001b[0m \u001b[0mlabels\u001b[0m\u001b[0;34m.\u001b[0m\u001b[0mshape\u001b[0m\u001b[0;34m)\u001b[0m\u001b[0;34m\u001b[0m\u001b[0;34m\u001b[0m\u001b[0m\n\u001b[1;32m     15\u001b[0m         \u001b[0mloss\u001b[0m \u001b[0;34m=\u001b[0m \u001b[0mcriterion\u001b[0m\u001b[0;34m(\u001b[0m\u001b[0moutputs\u001b[0m\u001b[0;34m,\u001b[0m \u001b[0mlabels\u001b[0m\u001b[0;34m)\u001b[0m\u001b[0;34m\u001b[0m\u001b[0;34m\u001b[0m\u001b[0m\n",
            "\u001b[0;32m/usr/local/lib/python3.6/dist-packages/torch/nn/modules/module.py\u001b[0m in \u001b[0;36m_call_impl\u001b[0;34m(self, *input, **kwargs)\u001b[0m\n\u001b[1;32m    725\u001b[0m             \u001b[0mresult\u001b[0m \u001b[0;34m=\u001b[0m \u001b[0mself\u001b[0m\u001b[0;34m.\u001b[0m\u001b[0m_slow_forward\u001b[0m\u001b[0;34m(\u001b[0m\u001b[0;34m*\u001b[0m\u001b[0minput\u001b[0m\u001b[0;34m,\u001b[0m \u001b[0;34m**\u001b[0m\u001b[0mkwargs\u001b[0m\u001b[0;34m)\u001b[0m\u001b[0;34m\u001b[0m\u001b[0;34m\u001b[0m\u001b[0m\n\u001b[1;32m    726\u001b[0m         \u001b[0;32melse\u001b[0m\u001b[0;34m:\u001b[0m\u001b[0;34m\u001b[0m\u001b[0;34m\u001b[0m\u001b[0m\n\u001b[0;32m--> 727\u001b[0;31m             \u001b[0mresult\u001b[0m \u001b[0;34m=\u001b[0m \u001b[0mself\u001b[0m\u001b[0;34m.\u001b[0m\u001b[0mforward\u001b[0m\u001b[0;34m(\u001b[0m\u001b[0;34m*\u001b[0m\u001b[0minput\u001b[0m\u001b[0;34m,\u001b[0m \u001b[0;34m**\u001b[0m\u001b[0mkwargs\u001b[0m\u001b[0;34m)\u001b[0m\u001b[0;34m\u001b[0m\u001b[0;34m\u001b[0m\u001b[0m\n\u001b[0m\u001b[1;32m    728\u001b[0m         for hook in itertools.chain(\n\u001b[1;32m    729\u001b[0m                 \u001b[0m_global_forward_hooks\u001b[0m\u001b[0;34m.\u001b[0m\u001b[0mvalues\u001b[0m\u001b[0;34m(\u001b[0m\u001b[0;34m)\u001b[0m\u001b[0;34m,\u001b[0m\u001b[0;34m\u001b[0m\u001b[0;34m\u001b[0m\u001b[0m\n",
            "\u001b[0;32m<ipython-input-22-6cc5bb055003>\u001b[0m in \u001b[0;36mforward\u001b[0;34m(self, x)\u001b[0m\n\u001b[1;32m     32\u001b[0m \u001b[0;34m\u001b[0m\u001b[0m\n\u001b[1;32m     33\u001b[0m         \u001b[0mx\u001b[0m \u001b[0;34m=\u001b[0m \u001b[0mF\u001b[0m\u001b[0;34m.\u001b[0m\u001b[0mmax_pool2d\u001b[0m\u001b[0;34m(\u001b[0m\u001b[0mtorch\u001b[0m\u001b[0;34m.\u001b[0m\u001b[0mrelu\u001b[0m\u001b[0;34m(\u001b[0m\u001b[0mself\u001b[0m\u001b[0;34m.\u001b[0m\u001b[0mconv1\u001b[0m\u001b[0;34m(\u001b[0m\u001b[0mx\u001b[0m\u001b[0;34m)\u001b[0m\u001b[0;34m)\u001b[0m\u001b[0;34m,\u001b[0m \u001b[0mkernel_size\u001b[0m\u001b[0;34m=\u001b[0m\u001b[0;36m2\u001b[0m\u001b[0;34m)\u001b[0m\u001b[0;34m\u001b[0m\u001b[0;34m\u001b[0m\u001b[0m\n\u001b[0;32m---> 34\u001b[0;31m         \u001b[0mx\u001b[0m \u001b[0;34m=\u001b[0m \u001b[0mF\u001b[0m\u001b[0;34m.\u001b[0m\u001b[0mmax_pool2d\u001b[0m\u001b[0;34m(\u001b[0m\u001b[0mtorch\u001b[0m\u001b[0;34m.\u001b[0m\u001b[0mrelu\u001b[0m\u001b[0;34m(\u001b[0m\u001b[0mself\u001b[0m\u001b[0;34m.\u001b[0m\u001b[0mconv2\u001b[0m\u001b[0;34m(\u001b[0m\u001b[0mx\u001b[0m\u001b[0;34m)\u001b[0m\u001b[0;34m)\u001b[0m\u001b[0;34m,\u001b[0m \u001b[0mkernel_size\u001b[0m\u001b[0;34m=\u001b[0m\u001b[0;36m2\u001b[0m\u001b[0;34m)\u001b[0m\u001b[0;34m\u001b[0m\u001b[0;34m\u001b[0m\u001b[0m\n\u001b[0m\u001b[1;32m     35\u001b[0m \u001b[0;34m\u001b[0m\u001b[0m\n\u001b[1;32m     36\u001b[0m         \u001b[0mx\u001b[0m \u001b[0;34m=\u001b[0m \u001b[0mx\u001b[0m\u001b[0;34m.\u001b[0m\u001b[0mview\u001b[0m\u001b[0;34m(\u001b[0m\u001b[0;34m-\u001b[0m\u001b[0;36m1\u001b[0m\u001b[0;34m,\u001b[0m \u001b[0;36m16\u001b[0m \u001b[0;34m*\u001b[0m \u001b[0;36m5\u001b[0m \u001b[0;34m*\u001b[0m \u001b[0;36m5\u001b[0m\u001b[0;34m)\u001b[0m\u001b[0;34m\u001b[0m\u001b[0;34m\u001b[0m\u001b[0m\n",
            "\u001b[0;31mKeyboardInterrupt\u001b[0m: "
          ]
        }
      ]
    },
    {
      "cell_type": "code",
      "metadata": {
        "id": "NyqW4HaA4HHM",
        "outputId": "3a77d37c-25ce-4ae6-eb21-d2d48e4ab128",
        "colab": {
          "base_uri": "https://localhost:8080/"
        }
      },
      "source": [
        "# evaluate model\n",
        "correct = 0\n",
        "total = 0\n",
        "with torch.no_grad():\n",
        "    for data in test_loader:\n",
        "        images, labels = data\n",
        "        outputs = net(images)\n",
        "        _, predicted = torch.max(outputs.data, 1)\n",
        "        total += labels.size(0)\n",
        "        correct += (predicted == labels).sum().item()\n",
        "\n",
        "print('Accuracy of the network on the 10000 test images: %d %%' % (\n",
        "    100 * correct / total))"
      ],
      "execution_count": 83,
      "outputs": [
        {
          "output_type": "stream",
          "text": [
            "Accuracy of the network on the 10000 test images: 54 %\n"
          ],
          "name": "stdout"
        }
      ]
    },
    {
      "cell_type": "markdown",
      "metadata": {
        "id": "BQH0EWhc-k_s"
      },
      "source": [
        "same results as for last assignment"
      ]
    },
    {
      "cell_type": "markdown",
      "metadata": {
        "id": "_nWWtGhF_Wcu"
      },
      "source": [
        "### Q2.a implent tutorial transfer learnning from https://pytorch.org/tutorials/beginner/transfer_learning_tutorial.html"
      ]
    },
    {
      "cell_type": "code",
      "metadata": {
        "id": "wYcfbf4xn1pT",
        "outputId": "42905041-e0a8-44a7-9c81-7def1a4ee05a",
        "colab": {
          "base_uri": "https://localhost:8080/",
          "height": 167
        }
      },
      "source": [
        "os.environ['CUDA_LAUNCH_BLOCKING'] = \"1\" "
      ],
      "execution_count": 2,
      "outputs": [
        {
          "output_type": "error",
          "ename": "NameError",
          "evalue": "ignored",
          "traceback": [
            "\u001b[0;31m---------------------------------------------------------------------------\u001b[0m",
            "\u001b[0;31mNameError\u001b[0m                                 Traceback (most recent call last)",
            "\u001b[0;32m<ipython-input-2-c559c02e8c4d>\u001b[0m in \u001b[0;36m<module>\u001b[0;34m()\u001b[0m\n\u001b[0;32m----> 1\u001b[0;31m \u001b[0mos\u001b[0m\u001b[0;34m.\u001b[0m\u001b[0menviron\u001b[0m\u001b[0;34m[\u001b[0m\u001b[0;34m'CUDA_LAUNCH_BLOCKING'\u001b[0m\u001b[0;34m]\u001b[0m \u001b[0;34m=\u001b[0m \u001b[0;34m\"1\"\u001b[0m\u001b[0;34m\u001b[0m\u001b[0;34m\u001b[0m\u001b[0m\n\u001b[0m",
            "\u001b[0;31mNameError\u001b[0m: name 'os' is not defined"
          ]
        }
      ]
    },
    {
      "cell_type": "code",
      "metadata": {
        "id": "cFkwwbKn_gpO"
      },
      "source": [
        "from __future__ import print_function, division\n",
        "\n",
        "import torch\n",
        "import torch.nn as nn\n",
        "import torch.optim as optim\n",
        "from torch.optim import lr_scheduler\n",
        "import numpy as np\n",
        "import torchvision\n",
        "from torchvision import datasets, models, transforms\n",
        "import matplotlib.pyplot as plt\n",
        "import time\n",
        "import os\n",
        "import copy"
      ],
      "execution_count": 4,
      "outputs": []
    },
    {
      "cell_type": "code",
      "metadata": {
        "id": "kDyB1mWRCTtu",
        "outputId": "0e2d683e-e3b3-4bd8-ed01-cb53c0da9ad4",
        "colab": {
          "base_uri": "https://localhost:8080/"
        }
      },
      "source": [
        "data_transforms = {\n",
        "    'train': transforms.Compose([\n",
        "        transforms.RandomResizedCrop(224),\n",
        "        transforms.RandomHorizontalFlip(),\n",
        "        transforms.ToTensor(),\n",
        "        transforms.Normalize([0.485, 0.456, 0.406], [0.229, 0.224, 0.225])\n",
        "    ]),\n",
        "    'val': transforms.Compose([\n",
        "        transforms.Resize(256),\n",
        "        transforms.CenterCrop(224),\n",
        "        transforms.ToTensor(),\n",
        "        transforms.Normalize([0.485, 0.456, 0.406], [0.229, 0.224, 0.225])\n",
        "    ]),\n",
        "}\n",
        "\n",
        "data_dir = '/content'\n",
        "image_datasets = {x: datasets.ImageFolder(os.path.join(data_dir, x), data_transforms[x]) for x in ['train', 'val']}\n",
        "dataloaders = {x: torch.utils.data.DataLoader(image_datasets[x], batch_size=4, shuffle=True, num_workers=4)for x in ['train', 'val']}\n",
        "dataset_sizes = {x: len(image_datasets[x]) for x in ['train', 'val']}\n",
        "class_names = image_datasets['train'].classes\n",
        "print(class_names)\n",
        "\n",
        "\n",
        "device = torch.device(\"cuda:0\" if torch.cuda.is_available() else \"cpu\")"
      ],
      "execution_count": 5,
      "outputs": [
        {
          "output_type": "stream",
          "text": [
            "['.ipynb_checkpoints', 'ants', 'bees']\n"
          ],
          "name": "stdout"
        }
      ]
    },
    {
      "cell_type": "code",
      "metadata": {
        "id": "CVG-6gEzCn4v",
        "outputId": "0da89145-bcd7-405f-c5bc-04eceecef2c8",
        "colab": {
          "base_uri": "https://localhost:8080/",
          "height": 147
        }
      },
      "source": [
        "def imshow(inp, title=None):\n",
        "    \"\"\"Imshow for Tensor.\"\"\"\n",
        "    inp = inp.numpy().transpose((1, 2, 0))\n",
        "    mean = np.array([0.485, 0.456, 0.406])\n",
        "    std = np.array([0.229, 0.224, 0.225])\n",
        "    inp = std * inp + mean\n",
        "    inp = np.clip(inp, 0, 1)\n",
        "    plt.imshow(inp)\n",
        "    if title is not None:\n",
        "        plt.title(title)\n",
        "    plt.pause(0.001)  # pause a bit so that plots are updated\n",
        "\n",
        "\n",
        "# Get a batch of training data\n",
        "inputs, classes = next(iter(dataloaders['train']))\n",
        "\n",
        "\n",
        "# Make a grid from batch\n",
        "out = torchvision.utils.make_grid(inputs)\n",
        "\n",
        "imshow(out, title=[class_names[x] for x in classes])"
      ],
      "execution_count": 6,
      "outputs": [
        {
          "output_type": "display_data",
          "data": {
            "image/png": "[encoded data removed]",
            "text/plain": [
              "<Figure size 432x288 with 1 Axes>"
            ]
          },
          "metadata": {
            "tags": [],
            "needs_background": "light"
          }
        }
      ]
    },
    {
      "cell_type": "code",
      "metadata": {
        "id": "j_TqNZfJdMf8"
      },
      "source": [
        "def train_model(model, criterion, optimizer, scheduler, num_epochs=25):\n",
        "    since = time.time()\n",
        "\n",
        "    best_model_wts = copy.deepcopy(model.state_dict())\n",
        "    best_acc = 0.0\n",
        "\n",
        "    for epoch in range(num_epochs):\n",
        "        print('Epoch {}/{}'.format(epoch, num_epochs - 1))\n",
        "        print('-' * 10)\n",
        "\n",
        "        # Each epoch has a training and validation phase\n",
        "        for phase in ['train', 'val']:\n",
        "            if phase == 'train':\n",
        "                model.train()  # Set model to training mode\n",
        "            else:\n",
        "                model.eval()   # Set model to evaluate mode\n",
        "\n",
        "            running_loss = 0.0\n",
        "            running_corrects = 0\n",
        "\n",
        "            # Iterate over data.\n",
        "            for inputs, labels in dataloaders[phase]:\n",
        "                #inputs = inputs.to(device)\n",
        "                #labels = labels.to(device)\n",
        "\n",
        "                # zero the parameter gradients\n",
        "                optimizer.zero_grad()\n",
        "\n",
        "                # forward\n",
        "                # track history if only in train\n",
        "                with torch.set_grad_enabled(phase == 'train'):\n",
        "                    outputs = model(inputs)\n",
        "                    _, preds = torch.max(outputs, 1)\n",
        "                    print(preds, labels)\n",
        "                    loss = criterion(outputs, labels)\n",
        "\n",
        "                    # backward + optimize only if in training phase\n",
        "                    if phase == 'train':\n",
        "                        loss.backward()\n",
        "                        optimizer.step()\n",
        "\n",
        "                # statistics\n",
        "                running_loss += loss.item() * inputs.size(0)\n",
        "                running_corrects += torch.sum(preds == labels.data)\n",
        "            if phase == 'train':\n",
        "                scheduler.step()\n",
        "\n",
        "            epoch_loss = running_loss / dataset_sizes[phase]\n",
        "            epoch_acc = running_corrects.double() / dataset_sizes[phase]\n",
        "\n",
        "            print('{} Loss: {:.4f} Acc: {:.4f}'.format(\n",
        "                phase, epoch_loss, epoch_acc))\n",
        "\n",
        "            # deep copy the model\n",
        "            if phase == 'val' and epoch_acc > best_acc:\n",
        "                best_acc = epoch_acc\n",
        "                best_model_wts = copy.deepcopy(model.state_dict())\n",
        "\n",
        "        print()\n",
        "\n",
        "    time_elapsed = time.time() - since\n",
        "    print('Training complete in {:.0f}m {:.0f}s'.format(\n",
        "        time_elapsed // 60, time_elapsed % 60))\n",
        "    print('Best val Acc: {:4f}'.format(best_acc))\n",
        "\n",
        "    # load best model weights\n",
        "    model.load_state_dict(best_model_wts)\n",
        "    return model"
      ],
      "execution_count": 7,
      "outputs": []
    },
    {
      "cell_type": "code",
      "metadata": {
        "id": "EBkvcpt_eVoc"
      },
      "source": [
        "def visualize_model(model, num_images=6):\n",
        "    was_training = model.training\n",
        "    model.eval()\n",
        "    images_so_far = 0\n",
        "    fig = plt.figure()\n",
        "\n",
        "    with torch.no_grad():\n",
        "        for i, (inputs, labels) in enumerate(dataloaders['val']):\n",
        "            #inputs = inputs.to(device)\n",
        "            #labels = labels.to(device)\n",
        "\n",
        "            outputs = model(inputs)\n",
        "            _, preds = torch.max(outputs, 1)\n",
        "\n",
        "            for j in range(inputs.size()[0]):\n",
        "                images_so_far += 1\n",
        "                ax = plt.subplot(num_images//2, 2, images_so_far)\n",
        "                ax.axis('off')\n",
        "                ax.set_title('predicted: {}'.format(class_names[preds[j]]))\n",
        "                imshow(inputs.cpu().data[j])\n",
        "\n",
        "                if images_so_far == num_images:\n",
        "                    model.train(mode=was_training)\n",
        "                    return\n",
        "        model.train(mode=was_training)"
      ],
      "execution_count": 8,
      "outputs": []
    },
    {
      "cell_type": "code",
      "metadata": {
        "id": "MG1GIFbIeedc",
        "outputId": "5a50cfa6-7ee7-46c5-da8d-aa53757db677",
        "colab": {
          "base_uri": "https://localhost:8080/"
        }
      },
      "source": [
        "model_ft = models.resnet18(pretrained=True)\n",
        "num_ftrs = model_ft.fc.in_features\n",
        "print(num_ftrs)\n",
        "# Here the size of each output sample is set to 2.\n",
        "# Alternatively, it can be generalized to nn.Linear(num_ftrs, len(class_names)).\n",
        "model_ft.fc = nn.Linear(num_ftrs, len(class_names))\n",
        "\n",
        "\n",
        "#model_ft = model_ft.to(device)\n",
        "\n",
        "criterion = nn.CrossEntropyLoss()\n",
        "\n",
        "# Observe that all parameters are being optimized\n",
        "optimizer_ft = optim.SGD(model_ft.parameters(), lr=0.001, momentum=0.9)\n",
        "\n",
        "# Decay LR by a factor of 0.1 every 7 epochs\n",
        "exp_lr_scheduler = lr_scheduler.StepLR(optimizer_ft, step_size=7, gamma=0.1)"
      ],
      "execution_count": 59,
      "outputs": [
        {
          "output_type": "stream",
          "text": [
            "512\n"
          ],
          "name": "stdout"
        }
      ]
    },
    {
      "cell_type": "code",
      "metadata": {
        "id": "MsYsYKIQfYo9",
        "outputId": "39cfccf7-cb7e-4c95-94c7-9b0a5658c0d5",
        "colab": {
          "base_uri": "https://localhost:8080/",
          "height": 441
        }
      },
      "source": [
        "model_ft = train_model(model_ft, criterion, optimizer_ft, exp_lr_scheduler,\n",
        "                       num_epochs=25)"
      ],
      "execution_count": 85,
      "outputs": [
        {
          "output_type": "stream",
          "text": [
            "Epoch 0/24\n",
            "----------\n",
            "tensor([0, 2, 2, 2]) tensor([1, 2, 2, 1])\n",
            "tensor([2, 0, 1, 2]) tensor([2, 1, 1, 1])\n",
            "tensor([2, 2, 1, 1]) tensor([2, 1, 1, 1])\n",
            "tensor([1, 2, 1, 2]) tensor([1, 2, 1, 2])\n"
          ],
          "name": "stdout"
        },
        {
          "output_type": "error",
          "ename": "KeyboardInterrupt",
          "evalue": "ignored",
          "traceback": [
            "\u001b[0;31m---------------------------------------------------------------------------\u001b[0m",
            "\u001b[0;31mKeyboardInterrupt\u001b[0m                         Traceback (most recent call last)",
            "\u001b[0;32m<ipython-input-85-cc88ea5f8bd3>\u001b[0m in \u001b[0;36m<module>\u001b[0;34m()\u001b[0m\n\u001b[1;32m      1\u001b[0m model_ft = train_model(model_ft, criterion, optimizer_ft, exp_lr_scheduler,\n\u001b[0;32m----> 2\u001b[0;31m                        num_epochs=25)\n\u001b[0m",
            "\u001b[0;32m<ipython-input-83-7cbd9e46b57b>\u001b[0m in \u001b[0;36mtrain_model\u001b[0;34m(model, criterion, optimizer, scheduler, num_epochs)\u001b[0m\n\u001b[1;32m     30\u001b[0m                 \u001b[0;31m# track history if only in train\u001b[0m\u001b[0;34m\u001b[0m\u001b[0;34m\u001b[0m\u001b[0;34m\u001b[0m\u001b[0m\n\u001b[1;32m     31\u001b[0m                 \u001b[0;32mwith\u001b[0m \u001b[0mtorch\u001b[0m\u001b[0;34m.\u001b[0m\u001b[0mset_grad_enabled\u001b[0m\u001b[0;34m(\u001b[0m\u001b[0mphase\u001b[0m \u001b[0;34m==\u001b[0m \u001b[0;34m'train'\u001b[0m\u001b[0;34m)\u001b[0m\u001b[0;34m:\u001b[0m\u001b[0;34m\u001b[0m\u001b[0;34m\u001b[0m\u001b[0m\n\u001b[0;32m---> 32\u001b[0;31m                     \u001b[0moutputs\u001b[0m \u001b[0;34m=\u001b[0m \u001b[0mmodel\u001b[0m\u001b[0;34m(\u001b[0m\u001b[0minputs\u001b[0m\u001b[0;34m)\u001b[0m\u001b[0;34m\u001b[0m\u001b[0;34m\u001b[0m\u001b[0m\n\u001b[0m\u001b[1;32m     33\u001b[0m                     \u001b[0m_\u001b[0m\u001b[0;34m,\u001b[0m \u001b[0mpreds\u001b[0m \u001b[0;34m=\u001b[0m \u001b[0mtorch\u001b[0m\u001b[0;34m.\u001b[0m\u001b[0mmax\u001b[0m\u001b[0;34m(\u001b[0m\u001b[0moutputs\u001b[0m\u001b[0;34m,\u001b[0m \u001b[0;36m1\u001b[0m\u001b[0;34m)\u001b[0m\u001b[0;34m\u001b[0m\u001b[0;34m\u001b[0m\u001b[0m\n\u001b[1;32m     34\u001b[0m                     \u001b[0mprint\u001b[0m\u001b[0;34m(\u001b[0m\u001b[0mpreds\u001b[0m\u001b[0;34m,\u001b[0m \u001b[0mlabels\u001b[0m\u001b[0;34m)\u001b[0m\u001b[0;34m\u001b[0m\u001b[0;34m\u001b[0m\u001b[0m\n",
            "\u001b[0;32m/usr/local/lib/python3.6/dist-packages/torch/nn/modules/module.py\u001b[0m in \u001b[0;36m_call_impl\u001b[0;34m(self, *input, **kwargs)\u001b[0m\n\u001b[1;32m    725\u001b[0m             \u001b[0mresult\u001b[0m \u001b[0;34m=\u001b[0m \u001b[0mself\u001b[0m\u001b[0;34m.\u001b[0m\u001b[0m_slow_forward\u001b[0m\u001b[0;34m(\u001b[0m\u001b[0;34m*\u001b[0m\u001b[0minput\u001b[0m\u001b[0;34m,\u001b[0m \u001b[0;34m**\u001b[0m\u001b[0mkwargs\u001b[0m\u001b[0;34m)\u001b[0m\u001b[0;34m\u001b[0m\u001b[0;34m\u001b[0m\u001b[0m\n\u001b[1;32m    726\u001b[0m         \u001b[0;32melse\u001b[0m\u001b[0;34m:\u001b[0m\u001b[0;34m\u001b[0m\u001b[0;34m\u001b[0m\u001b[0m\n\u001b[0;32m--> 727\u001b[0;31m             \u001b[0mresult\u001b[0m \u001b[0;34m=\u001b[0m \u001b[0mself\u001b[0m\u001b[0;34m.\u001b[0m\u001b[0mforward\u001b[0m\u001b[0;34m(\u001b[0m\u001b[0;34m*\u001b[0m\u001b[0minput\u001b[0m\u001b[0;34m,\u001b[0m \u001b[0;34m**\u001b[0m\u001b[0mkwargs\u001b[0m\u001b[0;34m)\u001b[0m\u001b[0;34m\u001b[0m\u001b[0;34m\u001b[0m\u001b[0m\n\u001b[0m\u001b[1;32m    728\u001b[0m         for hook in itertools.chain(\n\u001b[1;32m    729\u001b[0m                 \u001b[0m_global_forward_hooks\u001b[0m\u001b[0;34m.\u001b[0m\u001b[0mvalues\u001b[0m\u001b[0;34m(\u001b[0m\u001b[0;34m)\u001b[0m\u001b[0;34m,\u001b[0m\u001b[0;34m\u001b[0m\u001b[0;34m\u001b[0m\u001b[0m\n",
            "\u001b[0;32m/usr/local/lib/python3.6/dist-packages/torchvision/models/resnet.py\u001b[0m in \u001b[0;36mforward\u001b[0;34m(self, x)\u001b[0m\n\u001b[1;32m    218\u001b[0m \u001b[0;34m\u001b[0m\u001b[0m\n\u001b[1;32m    219\u001b[0m     \u001b[0;32mdef\u001b[0m \u001b[0mforward\u001b[0m\u001b[0;34m(\u001b[0m\u001b[0mself\u001b[0m\u001b[0;34m,\u001b[0m \u001b[0mx\u001b[0m\u001b[0;34m)\u001b[0m\u001b[0;34m:\u001b[0m\u001b[0;34m\u001b[0m\u001b[0;34m\u001b[0m\u001b[0m\n\u001b[0;32m--> 220\u001b[0;31m         \u001b[0;32mreturn\u001b[0m \u001b[0mself\u001b[0m\u001b[0;34m.\u001b[0m\u001b[0m_forward_impl\u001b[0m\u001b[0;34m(\u001b[0m\u001b[0mx\u001b[0m\u001b[0;34m)\u001b[0m\u001b[0;34m\u001b[0m\u001b[0;34m\u001b[0m\u001b[0m\n\u001b[0m\u001b[1;32m    221\u001b[0m \u001b[0;34m\u001b[0m\u001b[0m\n\u001b[1;32m    222\u001b[0m \u001b[0;34m\u001b[0m\u001b[0m\n",
            "\u001b[0;32m/usr/local/lib/python3.6/dist-packages/torchvision/models/resnet.py\u001b[0m in \u001b[0;36m_forward_impl\u001b[0;34m(self, x)\u001b[0m\n\u001b[1;32m    201\u001b[0m     \u001b[0;32mdef\u001b[0m \u001b[0m_forward_impl\u001b[0m\u001b[0;34m(\u001b[0m\u001b[0mself\u001b[0m\u001b[0;34m,\u001b[0m \u001b[0mx\u001b[0m\u001b[0;34m)\u001b[0m\u001b[0;34m:\u001b[0m\u001b[0;34m\u001b[0m\u001b[0;34m\u001b[0m\u001b[0m\n\u001b[1;32m    202\u001b[0m         \u001b[0;31m# See note [TorchScript super()]\u001b[0m\u001b[0;34m\u001b[0m\u001b[0;34m\u001b[0m\u001b[0;34m\u001b[0m\u001b[0m\n\u001b[0;32m--> 203\u001b[0;31m         \u001b[0mx\u001b[0m \u001b[0;34m=\u001b[0m \u001b[0mself\u001b[0m\u001b[0;34m.\u001b[0m\u001b[0mconv1\u001b[0m\u001b[0;34m(\u001b[0m\u001b[0mx\u001b[0m\u001b[0;34m)\u001b[0m\u001b[0;34m\u001b[0m\u001b[0;34m\u001b[0m\u001b[0m\n\u001b[0m\u001b[1;32m    204\u001b[0m         \u001b[0mx\u001b[0m \u001b[0;34m=\u001b[0m \u001b[0mself\u001b[0m\u001b[0;34m.\u001b[0m\u001b[0mbn1\u001b[0m\u001b[0;34m(\u001b[0m\u001b[0mx\u001b[0m\u001b[0;34m)\u001b[0m\u001b[0;34m\u001b[0m\u001b[0;34m\u001b[0m\u001b[0m\n\u001b[1;32m    205\u001b[0m         \u001b[0mx\u001b[0m \u001b[0;34m=\u001b[0m \u001b[0mself\u001b[0m\u001b[0;34m.\u001b[0m\u001b[0mrelu\u001b[0m\u001b[0;34m(\u001b[0m\u001b[0mx\u001b[0m\u001b[0;34m)\u001b[0m\u001b[0;34m\u001b[0m\u001b[0;34m\u001b[0m\u001b[0m\n",
            "\u001b[0;32m/usr/local/lib/python3.6/dist-packages/torch/nn/modules/module.py\u001b[0m in \u001b[0;36m_call_impl\u001b[0;34m(self, *input, **kwargs)\u001b[0m\n\u001b[1;32m    725\u001b[0m             \u001b[0mresult\u001b[0m \u001b[0;34m=\u001b[0m \u001b[0mself\u001b[0m\u001b[0;34m.\u001b[0m\u001b[0m_slow_forward\u001b[0m\u001b[0;34m(\u001b[0m\u001b[0;34m*\u001b[0m\u001b[0minput\u001b[0m\u001b[0;34m,\u001b[0m \u001b[0;34m**\u001b[0m\u001b[0mkwargs\u001b[0m\u001b[0;34m)\u001b[0m\u001b[0;34m\u001b[0m\u001b[0;34m\u001b[0m\u001b[0m\n\u001b[1;32m    726\u001b[0m         \u001b[0;32melse\u001b[0m\u001b[0;34m:\u001b[0m\u001b[0;34m\u001b[0m\u001b[0;34m\u001b[0m\u001b[0m\n\u001b[0;32m--> 727\u001b[0;31m             \u001b[0mresult\u001b[0m \u001b[0;34m=\u001b[0m \u001b[0mself\u001b[0m\u001b[0;34m.\u001b[0m\u001b[0mforward\u001b[0m\u001b[0;34m(\u001b[0m\u001b[0;34m*\u001b[0m\u001b[0minput\u001b[0m\u001b[0;34m,\u001b[0m \u001b[0;34m**\u001b[0m\u001b[0mkwargs\u001b[0m\u001b[0;34m)\u001b[0m\u001b[0;34m\u001b[0m\u001b[0;34m\u001b[0m\u001b[0m\n\u001b[0m\u001b[1;32m    728\u001b[0m         for hook in itertools.chain(\n\u001b[1;32m    729\u001b[0m                 \u001b[0m_global_forward_hooks\u001b[0m\u001b[0;34m.\u001b[0m\u001b[0mvalues\u001b[0m\u001b[0;34m(\u001b[0m\u001b[0;34m)\u001b[0m\u001b[0;34m,\u001b[0m\u001b[0;34m\u001b[0m\u001b[0;34m\u001b[0m\u001b[0m\n",
            "\u001b[0;32m/usr/local/lib/python3.6/dist-packages/torch/nn/modules/conv.py\u001b[0m in \u001b[0;36mforward\u001b[0;34m(self, input)\u001b[0m\n\u001b[1;32m    421\u001b[0m \u001b[0;34m\u001b[0m\u001b[0m\n\u001b[1;32m    422\u001b[0m     \u001b[0;32mdef\u001b[0m \u001b[0mforward\u001b[0m\u001b[0;34m(\u001b[0m\u001b[0mself\u001b[0m\u001b[0;34m,\u001b[0m \u001b[0minput\u001b[0m\u001b[0;34m:\u001b[0m \u001b[0mTensor\u001b[0m\u001b[0;34m)\u001b[0m \u001b[0;34m->\u001b[0m \u001b[0mTensor\u001b[0m\u001b[0;34m:\u001b[0m\u001b[0;34m\u001b[0m\u001b[0;34m\u001b[0m\u001b[0m\n\u001b[0;32m--> 423\u001b[0;31m         \u001b[0;32mreturn\u001b[0m \u001b[0mself\u001b[0m\u001b[0;34m.\u001b[0m\u001b[0m_conv_forward\u001b[0m\u001b[0;34m(\u001b[0m\u001b[0minput\u001b[0m\u001b[0;34m,\u001b[0m \u001b[0mself\u001b[0m\u001b[0;34m.\u001b[0m\u001b[0mweight\u001b[0m\u001b[0;34m)\u001b[0m\u001b[0;34m\u001b[0m\u001b[0;34m\u001b[0m\u001b[0m\n\u001b[0m\u001b[1;32m    424\u001b[0m \u001b[0;34m\u001b[0m\u001b[0m\n\u001b[1;32m    425\u001b[0m \u001b[0;32mclass\u001b[0m \u001b[0mConv3d\u001b[0m\u001b[0;34m(\u001b[0m\u001b[0m_ConvNd\u001b[0m\u001b[0;34m)\u001b[0m\u001b[0;34m:\u001b[0m\u001b[0;34m\u001b[0m\u001b[0;34m\u001b[0m\u001b[0m\n",
            "\u001b[0;32m/usr/local/lib/python3.6/dist-packages/torch/nn/modules/conv.py\u001b[0m in \u001b[0;36m_conv_forward\u001b[0;34m(self, input, weight)\u001b[0m\n\u001b[1;32m    418\u001b[0m                             _pair(0), self.dilation, self.groups)\n\u001b[1;32m    419\u001b[0m         return F.conv2d(input, weight, self.bias, self.stride,\n\u001b[0;32m--> 420\u001b[0;31m                         self.padding, self.dilation, self.groups)\n\u001b[0m\u001b[1;32m    421\u001b[0m \u001b[0;34m\u001b[0m\u001b[0m\n\u001b[1;32m    422\u001b[0m     \u001b[0;32mdef\u001b[0m \u001b[0mforward\u001b[0m\u001b[0;34m(\u001b[0m\u001b[0mself\u001b[0m\u001b[0;34m,\u001b[0m \u001b[0minput\u001b[0m\u001b[0;34m:\u001b[0m \u001b[0mTensor\u001b[0m\u001b[0;34m)\u001b[0m \u001b[0;34m->\u001b[0m \u001b[0mTensor\u001b[0m\u001b[0;34m:\u001b[0m\u001b[0;34m\u001b[0m\u001b[0;34m\u001b[0m\u001b[0m\n",
            "\u001b[0;31mKeyboardInterrupt\u001b[0m: "
          ]
        }
      ]
    },
    {
      "cell_type": "code",
      "metadata": {
        "id": "9wXqns7Ni3Sb"
      },
      "source": [
        "visualize_model(model_ft)"
      ],
      "execution_count": null,
      "outputs": []
    },
    {
      "cell_type": "markdown",
      "metadata": {
        "id": "R-ADN9i0pAN7"
      },
      "source": [
        "### Q2.b Transfer learnning CIFAR10"
      ]
    },
    {
      "cell_type": "code",
      "metadata": {
        "id": "xda5mlmupHNm",
        "outputId": "13d2dd9d-5513-4d7d-8ad2-a771b15fe8b2",
        "colab": {
          "base_uri": "https://localhost:8080/"
        }
      },
      "source": [
        "transform = transforms.Compose(\n",
        "    [transforms.ToTensor(),\n",
        "      transforms.RandomHorizontalFlip(p=0.5),\n",
        "      transforms.Resize((32,32)),\n",
        "      transforms.Normalize((0.5, 0.5, 0.5), (0.5, 0.5, 0.5))])\n",
        "\n",
        "class CifarPartialDataSet(torchvision.datasets.CIFAR10):\n",
        "\n",
        "  def __init__(self, ind_range, train=True, transform=None, target_transform=None):\n",
        "\n",
        "    self.train = train\n",
        "    assert isinstance (ind_range, tuple)\n",
        "    from_ind, to_ind = ind_range\n",
        "    assert 0 <= from_ind < to_ind < 10\n",
        "    self.transform = transform\n",
        "    self.target_transform = target_transform\n",
        "\n",
        "    if train:\n",
        "      cifar10_train = torchvision.datasets.CIFAR10(root='./data', train=True, download=True)\n",
        "\n",
        "      targets = np.array(cifar10_train.targets, dtype=np.int64)\n",
        "      indices = (from_ind <= targets) & (targets <= to_ind)\n",
        "      self.data = cifar10_train.data[indices]\n",
        "      self.targets = list(targets[indices]-from_ind)\n",
        "    else:\n",
        "      cifar10_test = torchvision.datasets.CIFAR10(root='./data', train=False, download=True)\n",
        "      targets = np.array(cifar10_test.targets, dtype=np.int64)\n",
        "      indices = (from_ind <= targets) & (targets <= to_ind)\n",
        "      self.data = cifar10_test.data[indices]\n",
        "      self.targets = list(targets[indices]-from_ind)\n",
        "\n",
        "cifar07_train = CifarPartialDataSet((0,7), True, transform=transform)\n",
        "\n",
        "cifar_train = CifarPartialDataSet((8,9), True, transform=transform)\n",
        "\n",
        "\n",
        "\n",
        "\n",
        "cifar07_train_loader = torch.utils.data.DataLoader(cifar07_train, batch_size=4, shuffle=True, num_workers=0)\n",
        "\n",
        "cifar07_test = CifarPartialDataSet((0,7), False, transform=transform)\n",
        "\n",
        "cifar07_test_loader = torch.utils.data.DataLoader(cifar07_test, batch_size=4, shuffle=True, num_workers=0)"
      ],
      "execution_count": 70,
      "outputs": [
        {
          "output_type": "stream",
          "text": [
            "Files already downloaded and verified\n",
            "Files already downloaded and verified\n",
            "40000 10000\n",
            "Files already downloaded and verified\n"
          ],
          "name": "stdout"
        }
      ]
    },
    {
      "cell_type": "code",
      "metadata": {
        "id": "tUvpBJtluNiG"
      },
      "source": [
        "import torch\n",
        "import torch.nn as nn\n",
        "import torch.nn.functional as F\n",
        "\n",
        "import numpy as np\n",
        "\n",
        "\n",
        "class LeNet5(nn.Module):\n",
        "\n",
        "    def __init__(self, n_classes):\n",
        "        super(LeNet5, self).__init__()\n",
        "        \n",
        "        \n",
        "\n",
        "        self.conv1 = nn.Conv2d(3, 6, 5)\n",
        "\n",
        "        self.conv2 = nn.Conv2d(6, 16, 5)\n",
        "\n",
        "\n",
        "\n",
        "        \n",
        "        self.fc1 = nn.Linear(in_features= 16 * 5 * 5, out_features=256)  # 6*6 from image dimension\n",
        "        \n",
        "        self.fc2 = nn.Linear(in_features=256, out_features=128)\n",
        "\n",
        "        self.fc3 = nn.Linear(in_features=128, out_features=10)\n",
        "    \n",
        "    def forward(self, x):\n",
        "\n",
        "        x = F.max_pool2d(torch.relu(self.conv1(x)), kernel_size=2)\n",
        "        x = F.max_pool2d(torch.relu(self.conv2(x)), kernel_size=2)\n",
        "  \n",
        "        x = x.view(-1, 16 * 5 * 5)\n",
        "        x = F.relu(self.fc1(x))\n",
        "        x = F.relu(self.fc2(x))\n",
        "\n",
        "        x = self.fc3(x)\n",
        "\n",
        "        return x"
      ],
      "execution_count": 21,
      "outputs": []
    },
    {
      "cell_type": "code",
      "metadata": {
        "id": "w-W5TuO8uTCU"
      },
      "source": [
        "import torch.optim as optim\n",
        "\n",
        "\n",
        "net = LeNet5(10)\n",
        "criterion = nn.CrossEntropyLoss()\n",
        "optimizer = optim.SGD(net.parameters(), lr=0.001, momentum=0.9)"
      ],
      "execution_count": 53,
      "outputs": []
    },
    {
      "cell_type": "code",
      "metadata": {
        "id": "R2hrKDcNuVjE",
        "outputId": "fc51467a-b82a-495a-9381-b25fa8574eee",
        "colab": {
          "base_uri": "https://localhost:8080/"
        }
      },
      "source": [
        "# train model\n",
        "for epoch in range(2):  # loop over the dataset multiple times\n",
        "\n",
        "    running_loss = 0.0\n",
        "    for i, data in enumerate(cifar07_train_loader, 0):\n",
        "        # get the inputs; data is a list of [inputs, labels]\n",
        "        inputs, labels = data\n",
        "\n",
        "        # zero the parameter gradients\n",
        "        optimizer.zero_grad()\n",
        "        # forward + backward + optimize\n",
        "        outputs = net(inputs)\n",
        "        #print(outputs.shape)#, inputs.shape, labels.shape)\n",
        "        loss = criterion(outputs, labels)\n",
        "        loss.backward()\n",
        "        optimizer.step()\n",
        "\n",
        "        # print statistics\n",
        "        running_loss += loss.item()\n",
        "        if i % 2000 == 1999:    # print every 2000 mini-batches\n",
        "            print('[%d, %5d] loss: %.3f' %\n",
        "                  (epoch + 1, i + 1, running_loss / 2000))\n",
        "            running_loss = 0.0"
      ],
      "execution_count": 54,
      "outputs": [
        {
          "output_type": "stream",
          "text": [
            "[1,  2000] loss: 1.998\n",
            "[1,  4000] loss: 1.614\n",
            "[1,  6000] loss: 1.502\n",
            "[1,  8000] loss: 1.439\n",
            "[1, 10000] loss: 1.361\n",
            "[2,  2000] loss: 1.308\n",
            "[2,  4000] loss: 1.272\n",
            "[2,  6000] loss: 1.260\n",
            "[2,  8000] loss: 1.238\n",
            "[2, 10000] loss: 1.196\n"
          ],
          "name": "stdout"
        }
      ]
    },
    {
      "cell_type": "code",
      "metadata": {
        "id": "2OT2CdfSuXxQ",
        "outputId": "95633dc4-bab4-430e-b476-22d624207806",
        "colab": {
          "base_uri": "https://localhost:8080/"
        }
      },
      "source": [
        "# evaluate model\n",
        "correct = 0\n",
        "total = 0\n",
        "with torch.no_grad():\n",
        "    for data in cifar07_test_loader:\n",
        "        images, labels = data\n",
        "        outputs = net(images)\n",
        "        _, predicted = torch.max(outputs.data, 1)\n",
        "        total += labels.size(0)\n",
        "        correct += (predicted == labels).sum().item()\n",
        "\n",
        "print('Accuracy of the network on the 10000 test images: %d %%' % (\n",
        "    100 * correct / total))"
      ],
      "execution_count": 56,
      "outputs": [
        {
          "output_type": "stream",
          "text": [
            "Accuracy of the network on the 10000 test images: 57 %\n"
          ],
          "name": "stdout"
        }
      ]
    },
    {
      "cell_type": "code",
      "metadata": {
        "id": "JamYvmrs7KA7"
      },
      "source": [
        "def get_n_params(model):\n",
        "    pp=0\n",
        "    for p in list(model.parameters()):\n",
        "        nn=1\n",
        "        for s in list(p.size()):\n",
        "            nn = nn*s\n",
        "        pp += nn\n",
        "    return pp"
      ],
      "execution_count": 29,
      "outputs": []
    },
    {
      "cell_type": "code",
      "metadata": {
        "id": "NtvwpsFW66ut"
      },
      "source": [
        "for param in net.parameters():\n",
        "    param.requires_grad = False"
      ],
      "execution_count": 57,
      "outputs": []
    },
    {
      "cell_type": "code",
      "metadata": {
        "id": "79yn6TTczlFN",
        "outputId": "2726ae6a-814f-4d15-8eba-f6e9f12cf3d1",
        "colab": {
          "base_uri": "https://localhost:8080/"
        }
      },
      "source": [
        "state = torch.load('/content/net_wights_.pt')\n",
        "\n",
        "new_net = LeNet5(len(classes))\n",
        "\n",
        "new_net.load_state_dict(state['state_dict'])\n",
        "\n",
        "for param in new_net.parameters():\n",
        "    param.requires_grad = False\n",
        "\n",
        "new_net =  nn.Sequential(\n",
        "    new_net,\n",
        "    nn.Linear(10, 256),\n",
        "    nn.Linear(256,10)\n",
        ")\n",
        "print(net)"
      ],
      "execution_count": 74,
      "outputs": [
        {
          "output_type": "stream",
          "text": [
            "Sequential(\n",
            "  (0): LeNet5(\n",
            "    (conv1): Conv2d(3, 6, kernel_size=(5, 5), stride=(1, 1))\n",
            "    (conv2): Conv2d(6, 16, kernel_size=(5, 5), stride=(1, 1))\n",
            "    (fc1): Linear(in_features=400, out_features=256, bias=True)\n",
            "    (fc2): Linear(in_features=256, out_features=128, bias=True)\n",
            "    (fc3): Linear(in_features=128, out_features=10, bias=True)\n",
            "  )\n",
            "  (1): Linear(in_features=10, out_features=256, bias=True)\n",
            "  (2): Linear(in_features=256, out_features=10, bias=True)\n",
            ")\n"
          ],
          "name": "stdout"
        }
      ]
    },
    {
      "cell_type": "code",
      "metadata": {
        "id": "68yoBFU-fFuU",
        "outputId": "13ab918e-0128-40ce-b770-3a8f6f187f68",
        "colab": {
          "base_uri": "https://localhost:8080/"
        }
      },
      "source": [
        "cifar10_train = CifarPartialDataSet((8,9), True, transform=transform)\n",
        "\n",
        "cifar10_train_loader = torch.utils.data.DataLoader(cifar10_train, batch_size=4, shuffle=True, num_workers=0)\n",
        "\n",
        "cifar10_test = CifarPartialDataSet((8,9), False, transform=transform)\n",
        "\n",
        "cifar10_test_loader = torch.utils.data.DataLoader(cifar10_test, batch_size=4, shuffle=True, num_workers=0)"
      ],
      "execution_count": 75,
      "outputs": [
        {
          "output_type": "stream",
          "text": [
            "Files already downloaded and verified\n",
            "Files already downloaded and verified\n"
          ],
          "name": "stdout"
        }
      ]
    },
    {
      "cell_type": "code",
      "metadata": {
        "id": "4OtiBRXCzpUd",
        "outputId": "d8b2b0d0-23af-4161-937c-deea277d89f4",
        "colab": {
          "base_uri": "https://localhost:8080/"
        }
      },
      "source": [
        "optimizer = optim.SGD(new_net.parameters(), lr=0.01, momentum=0.9)\n",
        "\n",
        "# train model\n",
        "for epoch in range(10):  # loop over the dataset multiple times\n",
        "\n",
        "    running_loss = 0.0\n",
        "    for i, data in enumerate(cifar10_train_loader, 0):\n",
        "        # get the inputs; data is a list of [inputs, labels]\n",
        "        inputs, labels = data\n",
        "\n",
        "        # zero the parameter gradients\n",
        "        optimizer.zero_grad()\n",
        "\n",
        "        # forward + backward + optimize\n",
        "        outputs = new_net(inputs)\n",
        "        #print(outputs.shape)#, inputs.shape, labels.shape)\n",
        "        loss = criterion(outputs, labels)\n",
        "        loss.backward()\n",
        "        optimizer.step()\n",
        "\n",
        "        # print statistics\n",
        "        running_loss += loss.item()\n",
        "        if i % 2000 == 1999:    # print every 2000 mini-batches\n",
        "            print('[%d, %5d] loss: %.3f' %\n",
        "                  (epoch + 1, i + 1, running_loss / 2000))\n",
        "            running_loss = 0.0"
      ],
      "execution_count": 79,
      "outputs": [
        {
          "output_type": "stream",
          "text": [
            "[1,  2000] loss: 0.689\n",
            "[2,  2000] loss: 0.539\n",
            "[3,  2000] loss: 0.552\n",
            "[4,  2000] loss: 0.540\n",
            "[5,  2000] loss: 0.534\n",
            "[6,  2000] loss: 0.524\n",
            "[7,  2000] loss: 0.527\n",
            "[8,  2000] loss: 0.527\n",
            "[9,  2000] loss: 0.533\n",
            "[10,  2000] loss: 0.513\n"
          ],
          "name": "stdout"
        }
      ]
    },
    {
      "cell_type": "code",
      "metadata": {
        "id": "0YQzycSxqk2X",
        "outputId": "53a60eb1-49e1-4bbf-89a9-a48de3cda032",
        "colab": {
          "base_uri": "https://localhost:8080/"
        }
      },
      "source": [
        "# evaluate model\n",
        "correct = 0\n",
        "total = 0\n",
        "with torch.no_grad():\n",
        "    for data in cifar10_test_loader:\n",
        "        images, labels = data\n",
        "        outputs = new_net(images)\n",
        "        _, predicted = torch.max(outputs.data, 1)\n",
        "        total += labels.size(0)\n",
        "        correct += (predicted == labels).sum().item()\n",
        "\n",
        "print('Accuracy of the network on the 10000 test images: %d %%' % (\n",
        "    100 * correct / total))"
      ],
      "execution_count": 80,
      "outputs": [
        {
          "output_type": "stream",
          "text": [
            "Accuracy of the network on the 10000 test images: 75 %\n"
          ],
          "name": "stdout"
        }
      ]
    }
  ]
}