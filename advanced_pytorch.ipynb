{
  "nbformat": 4,
  "nbformat_minor": 0,
  "metadata": {
    "colab": {
      "name": "scratchpad",
      "provenance": [],
      "toc_visible": true,
      "include_colab_link": true
    },
    "kernelspec": {
      "display_name": "Python 3",
      "name": "python3"
    },
    "accelerator": "GPU",
    "widgets": {
      "application/vnd.jupyter.widget-state+json": {
        "d9970f3f9f824fbcbed31537e5eb67d9": {
          "model_module": "@jupyter-widgets/controls",
          "model_name": "HBoxModel",
          "state": {
            "_view_name": "HBoxView",
            "_dom_classes": [],
            "_model_name": "HBoxModel",
            "_view_module": "@jupyter-widgets/controls",
            "_model_module_version": "1.5.0",
            "_view_count": null,
            "_view_module_version": "1.5.0",
            "box_style": "",
            "layout": "IPY_MODEL_b80d62ebf7884d30b98f0eaf1fbc24c5",
            "_model_module": "@jupyter-widgets/controls",
            "children": [
              "IPY_MODEL_d8745742edc944c68245eee05bf3ad6c",
              "IPY_MODEL_6b152aa6977b481ebc31cb8b2a65e8f7"
            ]
          }
        },
        "b80d62ebf7884d30b98f0eaf1fbc24c5": {
          "model_module": "@jupyter-widgets/base",
          "model_name": "LayoutModel",
          "state": {
            "_view_name": "LayoutView",
            "grid_template_rows": null,
            "right": null,
            "justify_content": null,
            "_view_module": "@jupyter-widgets/base",
            "overflow": null,
            "_model_module_version": "1.2.0",
            "_view_count": null,
            "flex_flow": null,
            "width": null,
            "min_width": null,
            "border": null,
            "align_items": null,
            "bottom": null,
            "_model_module": "@jupyter-widgets/base",
            "top": null,
            "grid_column": null,
            "overflow_y": null,
            "overflow_x": null,
            "grid_auto_flow": null,
            "grid_area": null,
            "grid_template_columns": null,
            "flex": null,
            "_model_name": "LayoutModel",
            "justify_items": null,
            "grid_row": null,
            "max_height": null,
            "align_content": null,
            "visibility": null,
            "align_self": null,
            "height": null,
            "min_height": null,
            "padding": null,
            "grid_auto_rows": null,
            "grid_gap": null,
            "max_width": null,
            "order": null,
            "_view_module_version": "1.2.0",
            "grid_template_areas": null,
            "object_position": null,
            "object_fit": null,
            "grid_auto_columns": null,
            "margin": null,
            "display": null,
            "left": null
          }
        },
        "d8745742edc944c68245eee05bf3ad6c": {
          "model_module": "@jupyter-widgets/controls",
          "model_name": "FloatProgressModel",
          "state": {
            "_view_name": "ProgressView",
            "style": "IPY_MODEL_8640e94b524248b3871a580a0764b3f0",
            "_dom_classes": [],
            "description": "",
            "_model_name": "FloatProgressModel",
            "bar_style": "success",
            "max": 1,
            "_view_module": "@jupyter-widgets/controls",
            "_model_module_version": "1.5.0",
            "value": 1,
            "_view_count": null,
            "_view_module_version": "1.5.0",
            "orientation": "horizontal",
            "min": 0,
            "description_tooltip": null,
            "_model_module": "@jupyter-widgets/controls",
            "layout": "IPY_MODEL_5b7d1387be36450ea9d8a3fe42c5b568"
          }
        },
        "6b152aa6977b481ebc31cb8b2a65e8f7": {
          "model_module": "@jupyter-widgets/controls",
          "model_name": "HTMLModel",
          "state": {
            "_view_name": "HTMLView",
            "style": "IPY_MODEL_383446d0e5de4db08bfc30ed694ed23b",
            "_dom_classes": [],
            "description": "",
            "_model_name": "HTMLModel",
            "placeholder": "​",
            "_view_module": "@jupyter-widgets/controls",
            "_model_module_version": "1.5.0",
            "value": " 170500096/? [00:05&lt;00:00, 29859055.02it/s]",
            "_view_count": null,
            "_view_module_version": "1.5.0",
            "description_tooltip": null,
            "_model_module": "@jupyter-widgets/controls",
            "layout": "IPY_MODEL_7c5431a314f84cb580ca4cfce807e2b4"
          }
        },
        "8640e94b524248b3871a580a0764b3f0": {
          "model_module": "@jupyter-widgets/controls",
          "model_name": "ProgressStyleModel",
          "state": {
            "_view_name": "StyleView",
            "_model_name": "ProgressStyleModel",
            "description_width": "initial",
            "_view_module": "@jupyter-widgets/base",
            "_model_module_version": "1.5.0",
            "_view_count": null,
            "_view_module_version": "1.2.0",
            "bar_color": null,
            "_model_module": "@jupyter-widgets/controls"
          }
        },
        "5b7d1387be36450ea9d8a3fe42c5b568": {
          "model_module": "@jupyter-widgets/base",
          "model_name": "LayoutModel",
          "state": {
            "_view_name": "LayoutView",
            "grid_template_rows": null,
            "right": null,
            "justify_content": null,
            "_view_module": "@jupyter-widgets/base",
            "overflow": null,
            "_model_module_version": "1.2.0",
            "_view_count": null,
            "flex_flow": null,
            "width": null,
            "min_width": null,
            "border": null,
            "align_items": null,
            "bottom": null,
            "_model_module": "@jupyter-widgets/base",
            "top": null,
            "grid_column": null,
            "overflow_y": null,
            "overflow_x": null,
            "grid_auto_flow": null,
            "grid_area": null,
            "grid_template_columns": null,
            "flex": null,
            "_model_name": "LayoutModel",
            "justify_items": null,
            "grid_row": null,
            "max_height": null,
            "align_content": null,
            "visibility": null,
            "align_self": null,
            "height": null,
            "min_height": null,
            "padding": null,
            "grid_auto_rows": null,
            "grid_gap": null,
            "max_width": null,
            "order": null,
            "_view_module_version": "1.2.0",
            "grid_template_areas": null,
            "object_position": null,
            "object_fit": null,
            "grid_auto_columns": null,
            "margin": null,
            "display": null,
            "left": null
          }
        },
        "383446d0e5de4db08bfc30ed694ed23b": {
          "model_module": "@jupyter-widgets/controls",
          "model_name": "DescriptionStyleModel",
          "state": {
            "_view_name": "StyleView",
            "_model_name": "DescriptionStyleModel",
            "description_width": "",
            "_view_module": "@jupyter-widgets/base",
            "_model_module_version": "1.5.0",
            "_view_count": null,
            "_view_module_version": "1.2.0",
            "_model_module": "@jupyter-widgets/controls"
          }
        },
        "7c5431a314f84cb580ca4cfce807e2b4": {
          "model_module": "@jupyter-widgets/base",
          "model_name": "LayoutModel",
          "state": {
            "_view_name": "LayoutView",
            "grid_template_rows": null,
            "right": null,
            "justify_content": null,
            "_view_module": "@jupyter-widgets/base",
            "overflow": null,
            "_model_module_version": "1.2.0",
            "_view_count": null,
            "flex_flow": null,
            "width": null,
            "min_width": null,
            "border": null,
            "align_items": null,
            "bottom": null,
            "_model_module": "@jupyter-widgets/base",
            "top": null,
            "grid_column": null,
            "overflow_y": null,
            "overflow_x": null,
            "grid_auto_flow": null,
            "grid_area": null,
            "grid_template_columns": null,
            "flex": null,
            "_model_name": "LayoutModel",
            "justify_items": null,
            "grid_row": null,
            "max_height": null,
            "align_content": null,
            "visibility": null,
            "align_self": null,
            "height": null,
            "min_height": null,
            "padding": null,
            "grid_auto_rows": null,
            "grid_gap": null,
            "max_width": null,
            "order": null,
            "_view_module_version": "1.2.0",
            "grid_template_areas": null,
            "object_position": null,
            "object_fit": null,
            "grid_auto_columns": null,
            "margin": null,
            "display": null,
            "left": null
          }
        }
      }
    }
  },
  "cells": [
    {
      "cell_type": "markdown",
      "metadata": {
        "id": "view-in-github",
        "colab_type": "text"
      },
      "source": [
        "<a href=\"https://colab.research.google.com/github/avner8943/bootcamp/blob/master/advanced_pytorch.ipynb\" target=\"_parent\"><img src=\"https://colab.research.google.com/assets/colab-badge.svg\" alt=\"Open In Colab\"/></a>"
      ]
    },
    {
      "cell_type": "markdown",
      "metadata": {
        "id": "rqRc09XnvrTF"
      },
      "source": [
        "### Q1.a change number of filters"
      ]
    },
    {
      "cell_type": "code",
      "metadata": {
        "id": "lIYdn1woOS1n"
      },
      "source": [
        "import torch\n",
        "import torch.nn as nn\n",
        "import torch.nn.functional as F\n",
        "\n",
        "import numpy as np\n",
        "\n",
        "\n",
        "class LeNet5(nn.Module):\n",
        "\n",
        "    def __init__(self, n_classes):\n",
        "        super(LeNet5, self).__init__()\n",
        "        \n",
        "        \n",
        "\n",
        "        self.conv1 = nn.Conv2d(3, 6, 5)\n",
        "\n",
        "        self.conv2 = nn.Conv2d(6, 16, 5)\n",
        "\n",
        "        # randomly select number of feagtures\n",
        "        fet1 = np.random.randint(100, 400)\n",
        "\n",
        "        fet2 = np.random.randint(100, 400)\n",
        "\n",
        "        \n",
        "        self.fc1 = nn.Linear(in_features= 16 * 5 * 5, out_features=fet1)  # 6*6 from image dimension\n",
        "        \n",
        "        self.fc2 = nn.Linear(in_features=fet1, out_features=fet2)\n",
        "\n",
        "        self.fc3 = nn.Linear(in_features=fet2, out_features=n_classes)\n",
        "    \n",
        "    def forward(self, x):\n",
        "\n",
        "        x = F.max_pool2d(torch.relu(self.conv1(x)), kernel_size=2)\n",
        "        x = F.max_pool2d(torch.relu(self.conv2(x)), kernel_size=2)\n",
        "  \n",
        "        x = x.view(-1, 16 * 5 * 5)\n",
        "        x = F.relu(self.fc1(x))\n",
        "        x = F.relu(self.fc2(x))\n",
        "\n",
        "        x = self.fc3(x)\n",
        "\n",
        "        return x\n",
        "\n",
        "\n"
      ],
      "execution_count": 1,
      "outputs": []
    },
    {
      "cell_type": "code",
      "metadata": {
        "id": "Dqpa-dbDt0xX",
        "outputId": "3b3d82f1-2bbc-4c55-f4ab-fd4617a016cd",
        "colab": {
          "base_uri": "https://localhost:8080/",
          "height": 102,
          "referenced_widgets": [
            "d9970f3f9f824fbcbed31537e5eb67d9",
            "b80d62ebf7884d30b98f0eaf1fbc24c5",
            "d8745742edc944c68245eee05bf3ad6c",
            "6b152aa6977b481ebc31cb8b2a65e8f7",
            "8640e94b524248b3871a580a0764b3f0",
            "5b7d1387be36450ea9d8a3fe42c5b568",
            "383446d0e5de4db08bfc30ed694ed23b",
            "7c5431a314f84cb580ca4cfce807e2b4"
          ]
        }
      },
      "source": [
        "import torch\n",
        "import torchvision\n",
        "import torchvision.transforms as transforms\n",
        "\n",
        "\n",
        "transform = transforms.Compose(\n",
        "    [transforms.ToTensor(),\n",
        "     transforms.Normalize((0.5, 0.5, 0.5), (0.5, 0.5, 0.5))])\n",
        "\n",
        "trainset = torchvision.datasets.CIFAR10(root='./data', train=True,\n",
        "                                        download=True, transform=transform)\n",
        "trainloader = torch.utils.data.DataLoader(trainset, batch_size=4,\n",
        "                                          shuffle=True, num_workers=2)\n",
        "\n",
        "testset = torchvision.datasets.CIFAR10(root='./data', train=False,\n",
        "                                       download=True, transform=transform)\n",
        "testloader = torch.utils.data.DataLoader(testset, batch_size=4,\n",
        "                                         shuffle=False, num_workers=2)\n",
        "\n",
        "classes = ('plane', 'car', 'bird', 'cat',\n",
        "           'deer', 'dog', 'frog', 'horse', 'ship', 'truck')\n"
      ],
      "execution_count": 2,
      "outputs": [
        {
          "output_type": "stream",
          "text": [
            "Downloading https://www.cs.toronto.edu/~kriz/cifar-10-python.tar.gz to ./data/cifar-10-python.tar.gz\n"
          ],
          "name": "stdout"
        },
        {
          "output_type": "display_data",
          "data": {
            "application/vnd.jupyter.widget-view+json": {
              "model_id": "d9970f3f9f824fbcbed31537e5eb67d9",
              "version_minor": 0,
              "version_major": 2
            },
            "text/plain": [
              "HBox(children=(FloatProgress(value=1.0, bar_style='info', max=1.0), HTML(value='')))"
            ]
          },
          "metadata": {
            "tags": []
          }
        },
        {
          "output_type": "stream",
          "text": [
            "Extracting ./data/cifar-10-python.tar.gz to ./data\n",
            "Files already downloaded and verified\n"
          ],
          "name": "stdout"
        }
      ]
    },
    {
      "cell_type": "code",
      "metadata": {
        "id": "yfWZt_uLt-Gr"
      },
      "source": [
        "import torch.optim as optim\n",
        "\n",
        "net = LeNet5(len(classes))\n",
        "criterion = nn.CrossEntropyLoss()\n",
        "optimizer = optim.SGD(net.parameters(), lr=0.001, momentum=0.9)"
      ],
      "execution_count": 3,
      "outputs": []
    },
    {
      "cell_type": "code",
      "metadata": {
        "id": "GJ2C2M-ouQRh",
        "outputId": "eb0489ce-e345-4801-fcce-77b008e42560",
        "colab": {
          "base_uri": "https://localhost:8080/"
        }
      },
      "source": [
        "for epoch in range(2):  # loop over the dataset multiple times\n",
        "\n",
        "    running_loss = 0.0\n",
        "    for i, data in enumerate(trainloader, 0):\n",
        "        # get the inputs; data is a list of [inputs, labels]\n",
        "        inputs, labels = data\n",
        "\n",
        "        # zero the parameter gradients\n",
        "        optimizer.zero_grad()\n",
        "\n",
        "        # forward + backward + optimize\n",
        "        outputs = net(inputs)\n",
        "        #print(outputs.shape, inputs.shape, labels.shape)\n",
        "        loss = criterion(outputs, labels)\n",
        "        loss.backward()\n",
        "        optimizer.step()\n",
        "\n",
        "        # print statistics\n",
        "        running_loss += loss.item()\n",
        "        if i % 2000 == 1999:    # print every 2000 mini-batches\n",
        "            print('[%d, %5d] loss: %.3f' %\n",
        "                  (epoch + 1, i + 1, running_loss / 2000))\n",
        "            running_loss = 0.0"
      ],
      "execution_count": 4,
      "outputs": [
        {
          "output_type": "stream",
          "text": [
            "\n",
            "[1,  2000] loss: 2.198\n",
            "[1,  4000] loss: 1.866\n",
            "[1,  6000] loss: 1.664\n",
            "[1,  8000] loss: 1.538\n",
            "[1, 10000] loss: 1.487\n",
            "[1, 12000] loss: 1.423\n",
            "[2,  2000] loss: 1.367\n",
            "[2,  4000] loss: 1.337\n",
            "[2,  6000] loss: 1.304\n",
            "[2,  8000] loss: 1.280\n",
            "[2, 10000] loss: 1.256\n",
            "[2, 12000] loss: 1.258\n"
          ],
          "name": "stdout"
        }
      ]
    },
    {
      "cell_type": "code",
      "metadata": {
        "id": "j4nPklESuSDt",
        "outputId": "6bb42105-a18f-4999-c8c2-c59aedb75f6d",
        "colab": {
          "base_uri": "https://localhost:8080/"
        }
      },
      "source": [
        "correct = 0\n",
        "total = 0\n",
        "with torch.no_grad():\n",
        "    for data in testloader:\n",
        "        images, labels = data\n",
        "        outputs = net(images)\n",
        "        _, predicted = torch.max(outputs.data, 1)\n",
        "        total += labels.size(0)\n",
        "        correct += (predicted == labels).sum().item()\n",
        "\n",
        "print('Accuracy of the network on the 10000 test images: %d %%' % (\n",
        "    100 * correct / total))"
      ],
      "execution_count": 5,
      "outputs": [
        {
          "output_type": "stream",
          "text": [
            "Accuracy of the network on the 10000 test images: 55 %\n"
          ],
          "name": "stdout"
        }
      ]
    },
    {
      "cell_type": "markdown",
      "metadata": {
        "id": "WaAsdRSExILH"
      },
      "source": [
        "I run the net few times and always got between 53-57% of success so i guess the number of features is not very meanninful"
      ]
    },
    {
      "cell_type": "markdown",
      "metadata": {
        "id": "0NqmLWr7xZ75"
      },
      "source": [
        "### Q1.b change conv2d "
      ]
    },
    {
      "cell_type": "code",
      "metadata": {
        "id": "S5ovwU3Txzeq"
      },
      "source": [
        "class LeNet5(nn.Module):\n",
        "\n",
        "    def __init__(self, n_classes):\n",
        "        super(LeNet5, self).__init__()\n",
        "        \n",
        "        # assuming that nmnist image is 28*28\n",
        "\n",
        "        stride = 2\n",
        "\n",
        "        k=5\n",
        "\n",
        "\n",
        "\n",
        "        self.conv1 = nn.Conv2d(3, 6, k,padding=(2,2), stride = 2)\n",
        "\n",
        "        self.conv2 = nn.Conv2d(6, 16, k,padding=(2, 2), stride = 2)\n",
        "\n",
        "\n",
        "        \n",
        "        self.fc1 = nn.Linear(in_features= 64, out_features=120)  \n",
        "        \n",
        "        self.fc2 = nn.Linear(in_features=120, out_features=84)\n",
        "\n",
        "        self.fc3 = nn.Linear(in_features=84, out_features=n_classes)\n",
        "    \n",
        "    def forward(self, x):\n",
        "\n",
        "        x = F.max_pool2d(torch.relu(self.conv1(x)), kernel_size=2)\n",
        "        x = F.max_pool2d(torch.relu(self.conv2(x)), kernel_size=2)\n",
        "  \n",
        "        x = x.view(4, -1)\n",
        "        x = F.relu(self.fc1(x))\n",
        "        x = F.relu(self.fc2(x))\n",
        "\n",
        "        x = self.fc3(x)\n",
        "\n",
        "        return x\n",
        "\n",
        "\n"
      ],
      "execution_count": 6,
      "outputs": []
    },
    {
      "cell_type": "code",
      "metadata": {
        "id": "d_uuK_J-zK5z"
      },
      "source": [
        "net = LeNet5(len(classes))\n",
        "criterion = nn.CrossEntropyLoss()\n",
        "optimizer = optim.SGD(net.parameters(), lr=0.001, momentum=0.9)"
      ],
      "execution_count": 7,
      "outputs": []
    },
    {
      "cell_type": "code",
      "metadata": {
        "id": "3Gl3qGsAzMwS",
        "outputId": "5f9f2bd5-2469-4f85-fd47-6a24723abbb7",
        "colab": {
          "base_uri": "https://localhost:8080/"
        }
      },
      "source": [
        "for epoch in range(2):  # loop over the dataset multiple times\n",
        "\n",
        "    running_loss = 0.0\n",
        "    for i, data in enumerate(trainloader, 0):\n",
        "        # get the inputs; data is a list of [inputs, labels]\n",
        "        inputs, labels = data\n",
        "\n",
        "        # zero the parameter gradients\n",
        "        optimizer.zero_grad()\n",
        "\n",
        "        # forward + backward + optimize\n",
        "        outputs = net(inputs)\n",
        "        loss = criterion(outputs, labels)\n",
        "        loss.backward()\n",
        "        optimizer.step()\n",
        "\n",
        "        # print statistics\n",
        "        running_loss += loss.item()\n",
        "        if i % 2000 == 1999:    # print every 2000 mini-batches\n",
        "            print('[%d, %5d] loss: %.3f' %\n",
        "                  (epoch + 1, i + 1, running_loss / 2000))\n",
        "            running_loss = 0.0"
      ],
      "execution_count": 8,
      "outputs": [
        {
          "output_type": "stream",
          "text": [
            "[1,  2000] loss: 2.284\n",
            "[1,  4000] loss: 2.047\n",
            "[1,  6000] loss: 1.834\n",
            "[1,  8000] loss: 1.688\n",
            "[1, 10000] loss: 1.629\n",
            "[1, 12000] loss: 1.575\n",
            "[2,  2000] loss: 1.518\n",
            "[2,  4000] loss: 1.499\n",
            "[2,  6000] loss: 1.471\n",
            "[2,  8000] loss: 1.466\n",
            "[2, 10000] loss: 1.438\n",
            "[2, 12000] loss: 1.436\n"
          ],
          "name": "stdout"
        }
      ]
    },
    {
      "cell_type": "code",
      "metadata": {
        "id": "R8A62w-wzOrw",
        "outputId": "b06e0d03-c18f-4b81-de4b-12481bfb68f9",
        "colab": {
          "base_uri": "https://localhost:8080/"
        }
      },
      "source": [
        "correct = 0\n",
        "total = 0\n",
        "with torch.no_grad():\n",
        "    for data in testloader:\n",
        "        images, labels = data\n",
        "        outputs = net(images)\n",
        "        _, predicted = torch.max(outputs.data, 1)\n",
        "        total += labels.size(0)\n",
        "        correct += (predicted == labels).sum().item()\n",
        "\n",
        "print('Accuracy of the network on the 10000 test images: %d %%' % (\n",
        "    100 * correct / total))"
      ],
      "execution_count": 9,
      "outputs": [
        {
          "output_type": "stream",
          "text": [
            "Accuracy of the network on the 10000 test images: 49 %\n"
          ],
          "name": "stdout"
        }
      ]
    },
    {
      "cell_type": "markdown",
      "metadata": {
        "id": "LbWvvZcW_YpJ"
      },
      "source": [
        "this section the results are very bad, only 50%"
      ]
    },
    {
      "cell_type": "markdown",
      "metadata": {
        "id": "qhhJRUm-_e7c"
      },
      "source": [
        "### Q1.c change stride to 1 "
      ]
    },
    {
      "cell_type": "code",
      "metadata": {
        "id": "le9omGu4SkLp"
      },
      "source": [
        "class LeNet5(nn.Module):\n",
        "\n",
        "    def __init__(self, n_classes):\n",
        "        super(LeNet5, self).__init__()\n",
        "        \n",
        "        # assuming that nmnist image is 28*28\n",
        "\n",
        "        stride = 2\n",
        "\n",
        "        k=5\n",
        "\n",
        "\n",
        "\n",
        "        self.conv1 = nn.Conv2d(3, 6, k,padding=(2,2), stride = 1)\n",
        "\n",
        "        self.conv2 = nn.Conv2d(6, 16, k,padding=(2, 2), stride = 1)\n",
        "\n",
        "\n",
        "        \n",
        "        self.fc1 = nn.Linear(in_features= 1024, out_features=120)  \n",
        "        \n",
        "        self.fc2 = nn.Linear(in_features=120, out_features=84)\n",
        "\n",
        "        self.fc3 = nn.Linear(in_features=84, out_features=n_classes)\n",
        "    \n",
        "    def forward(self, x):\n",
        "\n",
        "        x = F.max_pool2d(torch.relu(self.conv1(x)), kernel_size=2)\n",
        "        x = F.max_pool2d(torch.relu(self.conv2(x)), kernel_size=2)\n",
        "  \n",
        "        x = x.view(4, -1)\n",
        "        x = F.relu(self.fc1(x))\n",
        "        x = F.relu(self.fc2(x))\n",
        "\n",
        "        x = self.fc3(x)\n",
        "\n",
        "        return x"
      ],
      "execution_count": 10,
      "outputs": []
    },
    {
      "cell_type": "code",
      "metadata": {
        "id": "RpLrDIidSpEN"
      },
      "source": [
        "net = LeNet5(len(classes))\n",
        "criterion = nn.CrossEntropyLoss()\n",
        "optimizer = optim.SGD(net.parameters(), lr=0.001, momentum=0.9)"
      ],
      "execution_count": 11,
      "outputs": []
    },
    {
      "cell_type": "code",
      "metadata": {
        "id": "eMBcmHnsSrGV"
      },
      "source": [
        "for epoch in range(2):  # loop over the dataset multiple times\n",
        "\n",
        "    running_loss = 0.0\n",
        "    for i, data in enumerate(trainloader, 10):\n",
        "        # get the inputs; data is a list of [inputs, labels]\n",
        "        inputs, labels = data\n",
        "\n",
        "\n",
        "        break\n",
        "        # zero the parameter gradients\n",
        "        optimizer.zero_grad()\n",
        "\n",
        "        # forward + backward + optimize\n",
        "        outputs = net(inputs)\n",
        "        loss = criterion(outputs, labels)\n",
        "        loss.backward()\n",
        "        optimizer.step()\n",
        "\n",
        "        # print statistics\n",
        "        running_loss += loss.item()\n",
        "        if i % 2000 == 1999:    # print every 2000 mini-batches\n",
        "            print('[%d, %5d] loss: %.3f' %\n",
        "                  (epoch + 1, i + 1, running_loss / 2000))\n",
        "            running_loss = 0.0"
      ],
      "execution_count": 31,
      "outputs": []
    },
    {
      "cell_type": "code",
      "metadata": {
        "id": "RDF4-NY7StIF",
        "outputId": "913722c1-bbd1-4a3f-9f96-dd05dfc614c1",
        "colab": {
          "base_uri": "https://localhost:8080/"
        }
      },
      "source": [
        "correct = 0\n",
        "total = 0\n",
        "with torch.no_grad():\n",
        "    for data in testloader:\n",
        "        images, labels = data\n",
        "        outputs = net(images)\n",
        "        _, predicted = torch.max(outputs.data, 1)\n",
        "        total += labels.size(0)\n",
        "        correct += (predicted == labels).sum().item()\n",
        "\n",
        "print('Accuracy of the network on the 10000 test images: %d %%' % (\n",
        "    100 * correct / total))"
      ],
      "execution_count": 13,
      "outputs": [
        {
          "output_type": "stream",
          "text": [
            "Accuracy of the network on the 10000 test images: 9 %\n"
          ],
          "name": "stdout"
        }
      ]
    },
    {
      "cell_type": "markdown",
      "metadata": {
        "id": "sV9aQfSgT5Nt"
      },
      "source": [
        "little better then before"
      ]
    },
    {
      "cell_type": "markdown",
      "metadata": {
        "id": "uvfUFxI6T8fQ"
      },
      "source": [
        "### Q2 saving and loading network"
      ]
    },
    {
      "cell_type": "markdown",
      "metadata": {
        "id": "r_4yw6EjcVuX"
      },
      "source": [
        "**first method**"
      ]
    },
    {
      "cell_type": "code",
      "metadata": {
        "id": "hRFke4bRT3dh"
      },
      "source": [
        "def save_checkpoint(iters, epoch, net, is_best = 0):\n",
        "  \n",
        "  f_name = \"net_wights_\"+ str(epoch) + \"_\" + str(iters)\n",
        "\n",
        "  torch.save(net.state_dict(), f_name)\n",
        "\n",
        "  f_name_best = \"best_net\"\n",
        "\n",
        "  if is_best: \n",
        "      torch.save(net.state_dict(), f_name_best)\n",
        "\n",
        "\n",
        "def load_checkpoint(f_name):\n",
        "\n",
        " \n",
        "\n",
        "  m_state_dict = torch.load(f_name)\n",
        "  new_net = LeNet5(len(classes))\n",
        "  new_net.load_state_dict(m_state_dict)\n",
        "\n",
        "  criterion = nn.CrossEntropyLoss()\n",
        "  optimizer = optim.SGD(net.parameters(), lr=0.001, momentum=0.9)\n",
        "\n",
        "  return new_net, criterion, optimizer\n",
        "\n",
        "\n",
        "def eval_net(net):\n",
        "\n",
        "    correct = 0\n",
        "    total = 0\n",
        "    with torch.no_grad():\n",
        "        for data in testloader:\n",
        "            images, labels = data\n",
        "            outputs = net(images)\n",
        "            _, predicted = torch.max(outputs.data, 1)\n",
        "            total += labels.size(0)\n",
        "            correct += (predicted == labels).sum().item()\n",
        "    return correct"
      ],
      "execution_count": 40,
      "outputs": []
    },
    {
      "cell_type": "code",
      "metadata": {
        "id": "_xMvfVQjYBpA"
      },
      "source": [
        "def train_loop(epoch_l , iters_l, net):\n",
        "\n",
        "  is_best = 0\n",
        "  for epoch in range(epoch_l, 2):  # loop over the dataset multiple times\n",
        "\n",
        " \n",
        "\n",
        "      \n",
        "      running_loss = 0.0\n",
        "      for i, data in enumerate(trainloader, 0):\n",
        "          # get the inputs; data is a list of [inputs, labels]\n",
        "          inputs, labels = data\n",
        "\n",
        "          if epoch <= epoch_l and i <= iters_l: continue # make sure trainning won't start before previous checkpoint\n",
        "\n",
        "          #print(epoch)\n",
        "\n",
        "          # zero the parameter gradients\n",
        "          optimizer.zero_grad()\n",
        "\n",
        "          # forward + backward + optimize\n",
        "          outputs = net(inputs)\n",
        "          loss = criterion(outputs, labels)\n",
        "          loss.backward()\n",
        "          optimizer.step()\n",
        "\n",
        "          # print statistics\n",
        "          running_loss += loss.item()\n",
        "          if i % 2000 == 1999:    # print every 2000 mini-batches\n",
        "\n",
        "              print('[%d, %5d] loss: %.3f' %\n",
        "                    (epoch + 1, i + 1, running_loss / 2000))\n",
        "              score = eval_net(net)\n",
        "              if  score > is_best:\n",
        "                save_checkpoint(i, epoch, net, 1)\n",
        "                is_best = score\n",
        "\n",
        "              running_loss = 0.0\n",
        "  return net"
      ],
      "execution_count": 29,
      "outputs": []
    },
    {
      "cell_type": "code",
      "metadata": {
        "id": "zYcx22l5eSCl"
      },
      "source": [
        "def load_and_train(f_name = ''):\n",
        "\n",
        "  if f_name == '':\n",
        "    new_net = LeNet5(len(classes))\n",
        "    net = train_loop(0, -1,new_net)\n",
        "    return net\n",
        "\n",
        "  \n",
        "  new_net, criterion, optimizer = load_checkpoint(f_name)\n",
        "\n",
        "  s = f_name.split(\"_\")\n",
        "\n",
        "  epoch = s[2]\n",
        "\n",
        "  iters = s[3]\n",
        "\n",
        "\n",
        "  net = train_loop(int(epoch), int(iters),new_net)\n",
        "\n",
        "  return net\n",
        "  "
      ],
      "execution_count": 28,
      "outputs": []
    },
    {
      "cell_type": "code",
      "metadata": {
        "id": "dgAQIBfwk0xg"
      },
      "source": [
        "net = load_and_train()"
      ],
      "execution_count": null,
      "outputs": []
    },
    {
      "cell_type": "code",
      "metadata": {
        "id": "_ZGXKKua7rnH"
      },
      "source": [
        "# example of train the network from checkpoint\n",
        "\n",
        "net = load_and_train('net_wights_1_1999')"
      ],
      "execution_count": null,
      "outputs": []
    },
    {
      "cell_type": "markdown",
      "metadata": {
        "id": "eNrmTh3q8P9e"
      },
      "source": [
        "**Second method**"
      ]
    },
    {
      "cell_type": "code",
      "metadata": {
        "id": "2QxctIFC8Tyn"
      },
      "source": [
        "def save_checkpoint2(epoch, net, optimizer, is_best = 0):\n",
        "\n",
        "  f_name = \"net_wights_epoch_\"+ str(epoch) +\".pt\"\n",
        "\n",
        "\n",
        "  state = {\n",
        "    'epoch': epoch,\n",
        "    'state_dict': net.state_dict(),\n",
        "    'optimizer': optimizer.state_dict()}\n",
        "\n",
        "  torch.save(state, f_name)\n",
        "\n",
        "  f_name_best = \"best_net\"\n",
        "\n",
        "  if is_best: \n",
        "      torch.save(net.state_dict(), f_name_best)\n",
        "\n",
        "\n",
        "def load_checkpoint2(f_name, net, optimizer):\n",
        "\n",
        "  state = torch.load(f_name)\n",
        "\n",
        "  new_net = LeNet5(len(classes))\n",
        "\n",
        "  new_net.load_state_dict(state['state_dict'])\n",
        "  optimizer.load_state_dict(state['optimizer'])\n",
        "\n",
        "  return new_net, optimizer, state['epoch']\n",
        "\n"
      ],
      "execution_count": 41,
      "outputs": []
    },
    {
      "cell_type": "code",
      "metadata": {
        "id": "jerrpE95_P29"
      },
      "source": [
        "def train_loop2(epoch_l , net, optimizer):\n",
        "\n",
        "\n",
        "  for epoch in range(epoch_l, 2):  # loop over the dataset multiple times\n",
        "\n",
        "      \n",
        "      running_loss = 0.0\n",
        "      for i, data in enumerate(trainloader, 0):\n",
        "          # get the inputs; data is a list of [inputs, labels]\n",
        "          inputs, labels = data\n",
        "\n",
        "          #print(epoch)\n",
        "\n",
        "          # zero the parameter gradients\n",
        "          optimizer.zero_grad()\n",
        "\n",
        "          # forward + backward + optimize\n",
        "          outputs = net(inputs)\n",
        "          loss = criterion(outputs, labels)\n",
        "          loss.backward()\n",
        "          optimizer.step()\n",
        "\n",
        "          # print statistics\n",
        "          running_loss += loss.item()\n",
        "          if i % 2000 == 1999:    # print every 2000 mini-batches\n",
        "             \n",
        "              print('[%d, %5d] loss: %.3f' %\n",
        "                    (epoch + 1, i + 1, running_loss / 2000))\n",
        "              score = eval_net(net)\n",
        "              if  score > is_best:\n",
        "                save_checkpoint2(epoch, net, optimizer, 1)\n",
        "                is_best = score\n",
        "              running_loss = 0.0\n",
        "\n",
        "  return net"
      ],
      "execution_count": 42,
      "outputs": []
    },
    {
      "cell_type": "code",
      "metadata": {
        "id": "2p9eg8IjC3W0"
      },
      "source": [
        "net = LeNet5(len(classes))\n",
        "criterion = nn.CrossEntropyLoss()\n",
        "optimizer = optim.SGD(net.parameters(), lr=0.001, momentum=0.9)\n",
        "\n",
        "net = train_loop2(0, net, optimizer)"
      ],
      "execution_count": null,
      "outputs": []
    },
    {
      "cell_type": "code",
      "metadata": {
        "id": "hqeDyS8-_Hoe"
      },
      "source": [
        "net, optimizer, start_epoch = load_checkpoint2('net_wights_epoch_1.pt', net, optimizer)\n",
        "\n",
        "train_loop2(start_epoch, net, optimizer)"
      ],
      "execution_count": null,
      "outputs": []
    }
  ]
}